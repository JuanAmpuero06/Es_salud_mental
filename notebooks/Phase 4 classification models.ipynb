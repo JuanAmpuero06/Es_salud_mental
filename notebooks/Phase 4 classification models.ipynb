{
 "cells": [
  {
   "cell_type": "code",
   "execution_count": 1,
   "id": "f37f9cce-731a-4d15-af9a-8827360cbb71",
   "metadata": {},
   "outputs": [
    {
     "data": {
      "text/html": [
       "<pre style=\"white-space:pre;overflow-x:auto;line-height:normal;font-family:Menlo,'DejaVu Sans Mono',consolas,'Courier New',monospace\"><span style=\"color: #7fbfbf; text-decoration-color: #7fbfbf\">[10/26/24 15:39:53] </span><span style=\"color: #000080; text-decoration-color: #000080\">INFO    </span> Using                                                                  <a href=\"file://C:\\Users\\jampu\\OneDrive\\Desktop\\salud_mental\\venv\\Lib\\site-packages\\kedro\\framework\\project\\__init__.py\" target=\"_blank\"><span style=\"color: #7f7f7f; text-decoration-color: #7f7f7f\">__init__.py</span></a><span style=\"color: #7f7f7f; text-decoration-color: #7f7f7f\">:</span><a href=\"file://C:\\Users\\jampu\\OneDrive\\Desktop\\salud_mental\\venv\\Lib\\site-packages\\kedro\\framework\\project\\__init__.py#249\" target=\"_blank\"><span style=\"color: #7f7f7f; text-decoration-color: #7f7f7f\">249</span></a>\n",
       "<span style=\"color: #7fbfbf; text-decoration-color: #7fbfbf\">                    </span>         <span style=\"color: #008000; text-decoration-color: #008000\">'C:\\Users\\jampu\\OneDrive\\Desktop\\salud_mental\\venv\\Lib\\site-packages\\k</span> <span style=\"color: #7f7f7f; text-decoration-color: #7f7f7f\">               </span>\n",
       "<span style=\"color: #7fbfbf; text-decoration-color: #7fbfbf\">                    </span>         <span style=\"color: #008000; text-decoration-color: #008000\">edro\\framework\\project\\rich_logging.yml'</span> as logging configuration.     <span style=\"color: #7f7f7f; text-decoration-color: #7f7f7f\">               </span>\n",
       "</pre>\n"
      ],
      "text/plain": [
       "\u001b[2;36m[10/26/24 15:39:53]\u001b[0m\u001b[2;36m \u001b[0m\u001b[34mINFO    \u001b[0m Using                                                                  \u001b]8;id=100621;file://C:\\Users\\jampu\\OneDrive\\Desktop\\salud_mental\\venv\\Lib\\site-packages\\kedro\\framework\\project\\__init__.py\u001b\\\u001b[2m__init__.py\u001b[0m\u001b]8;;\u001b\\\u001b[2m:\u001b[0m\u001b]8;id=612183;file://C:\\Users\\jampu\\OneDrive\\Desktop\\salud_mental\\venv\\Lib\\site-packages\\kedro\\framework\\project\\__init__.py#249\u001b\\\u001b[2m249\u001b[0m\u001b]8;;\u001b\\\n",
       "\u001b[2;36m                    \u001b[0m         \u001b[32m'C:\\Users\\jampu\\OneDrive\\Desktop\\salud_mental\\venv\\Lib\\site-packages\\k\u001b[0m \u001b[2m               \u001b[0m\n",
       "\u001b[2;36m                    \u001b[0m         \u001b[32medro\\framework\\project\\rich_logging.yml'\u001b[0m as logging configuration.     \u001b[2m               \u001b[0m\n"
      ]
     },
     "metadata": {},
     "output_type": "display_data"
    },
    {
     "data": {
      "text/html": [
       "<pre style=\"white-space:pre;overflow-x:auto;line-height:normal;font-family:Menlo,'DejaVu Sans Mono',consolas,'Courier New',monospace\"><span style=\"color: #7fbfbf; text-decoration-color: #7fbfbf\">                    </span><span style=\"color: #000080; text-decoration-color: #000080\">INFO    </span> Registered line magic <span style=\"color: #008000; text-decoration-color: #008000\">'%reload_kedro'</span>                                   <a href=\"file://C:\\Users\\jampu\\OneDrive\\Desktop\\salud_mental\\venv\\Lib\\site-packages\\kedro\\ipython\\__init__.py\" target=\"_blank\"><span style=\"color: #7f7f7f; text-decoration-color: #7f7f7f\">__init__.py</span></a><span style=\"color: #7f7f7f; text-decoration-color: #7f7f7f\">:</span><a href=\"file://C:\\Users\\jampu\\OneDrive\\Desktop\\salud_mental\\venv\\Lib\\site-packages\\kedro\\ipython\\__init__.py#58\" target=\"_blank\"><span style=\"color: #7f7f7f; text-decoration-color: #7f7f7f\">58</span></a>\n",
       "</pre>\n"
      ],
      "text/plain": [
       "\u001b[2;36m                   \u001b[0m\u001b[2;36m \u001b[0m\u001b[34mINFO    \u001b[0m Registered line magic \u001b[32m'%reload_kedro'\u001b[0m                                   \u001b]8;id=458605;file://C:\\Users\\jampu\\OneDrive\\Desktop\\salud_mental\\venv\\Lib\\site-packages\\kedro\\ipython\\__init__.py\u001b\\\u001b[2m__init__.py\u001b[0m\u001b]8;;\u001b\\\u001b[2m:\u001b[0m\u001b]8;id=435956;file://C:\\Users\\jampu\\OneDrive\\Desktop\\salud_mental\\venv\\Lib\\site-packages\\kedro\\ipython\\__init__.py#58\u001b\\\u001b[2m58\u001b[0m\u001b]8;;\u001b\\\n"
      ]
     },
     "metadata": {},
     "output_type": "display_data"
    },
    {
     "data": {
      "text/html": [
       "<pre style=\"white-space:pre;overflow-x:auto;line-height:normal;font-family:Menlo,'DejaVu Sans Mono',consolas,'Courier New',monospace\"><span style=\"color: #7fbfbf; text-decoration-color: #7fbfbf\">                    </span><span style=\"color: #000080; text-decoration-color: #000080\">INFO    </span> Registered line magic <span style=\"color: #008000; text-decoration-color: #008000\">'%load_node'</span>                                      <a href=\"file://C:\\Users\\jampu\\OneDrive\\Desktop\\salud_mental\\venv\\Lib\\site-packages\\kedro\\ipython\\__init__.py\" target=\"_blank\"><span style=\"color: #7f7f7f; text-decoration-color: #7f7f7f\">__init__.py</span></a><span style=\"color: #7f7f7f; text-decoration-color: #7f7f7f\">:</span><a href=\"file://C:\\Users\\jampu\\OneDrive\\Desktop\\salud_mental\\venv\\Lib\\site-packages\\kedro\\ipython\\__init__.py#60\" target=\"_blank\"><span style=\"color: #7f7f7f; text-decoration-color: #7f7f7f\">60</span></a>\n",
       "</pre>\n"
      ],
      "text/plain": [
       "\u001b[2;36m                   \u001b[0m\u001b[2;36m \u001b[0m\u001b[34mINFO    \u001b[0m Registered line magic \u001b[32m'%load_node'\u001b[0m                                      \u001b]8;id=222189;file://C:\\Users\\jampu\\OneDrive\\Desktop\\salud_mental\\venv\\Lib\\site-packages\\kedro\\ipython\\__init__.py\u001b\\\u001b[2m__init__.py\u001b[0m\u001b]8;;\u001b\\\u001b[2m:\u001b[0m\u001b]8;id=122758;file://C:\\Users\\jampu\\OneDrive\\Desktop\\salud_mental\\venv\\Lib\\site-packages\\kedro\\ipython\\__init__.py#60\u001b\\\u001b[2m60\u001b[0m\u001b]8;;\u001b\\\n"
      ]
     },
     "metadata": {},
     "output_type": "display_data"
    },
    {
     "data": {
      "text/html": [
       "<pre style=\"white-space:pre;overflow-x:auto;line-height:normal;font-family:Menlo,'DejaVu Sans Mono',consolas,'Courier New',monospace\"><span style=\"color: #7fbfbf; text-decoration-color: #7fbfbf\">                    </span><span style=\"color: #000080; text-decoration-color: #000080\">INFO    </span> Resolved project path as:                                              <a href=\"file://C:\\Users\\jampu\\OneDrive\\Desktop\\salud_mental\\venv\\Lib\\site-packages\\kedro\\ipython\\__init__.py\" target=\"_blank\"><span style=\"color: #7f7f7f; text-decoration-color: #7f7f7f\">__init__.py</span></a><span style=\"color: #7f7f7f; text-decoration-color: #7f7f7f\">:</span><a href=\"file://C:\\Users\\jampu\\OneDrive\\Desktop\\salud_mental\\venv\\Lib\\site-packages\\kedro\\ipython\\__init__.py#175\" target=\"_blank\"><span style=\"color: #7f7f7f; text-decoration-color: #7f7f7f\">175</span></a>\n",
       "<span style=\"color: #7fbfbf; text-decoration-color: #7fbfbf\">                    </span>         C:\\Users\\jampu\\OneDrive\\Desktop\\salud_mental\\psicologia.               <span style=\"color: #7f7f7f; text-decoration-color: #7f7f7f\">               </span>\n",
       "<span style=\"color: #7fbfbf; text-decoration-color: #7fbfbf\">                    </span>         To set a different path, run <span style=\"color: #008000; text-decoration-color: #008000\">'%reload_kedro &lt;project_root&gt;'</span>            <span style=\"color: #7f7f7f; text-decoration-color: #7f7f7f\">               </span>\n",
       "</pre>\n"
      ],
      "text/plain": [
       "\u001b[2;36m                   \u001b[0m\u001b[2;36m \u001b[0m\u001b[34mINFO    \u001b[0m Resolved project path as:                                              \u001b]8;id=25674;file://C:\\Users\\jampu\\OneDrive\\Desktop\\salud_mental\\venv\\Lib\\site-packages\\kedro\\ipython\\__init__.py\u001b\\\u001b[2m__init__.py\u001b[0m\u001b]8;;\u001b\\\u001b[2m:\u001b[0m\u001b]8;id=629189;file://C:\\Users\\jampu\\OneDrive\\Desktop\\salud_mental\\venv\\Lib\\site-packages\\kedro\\ipython\\__init__.py#175\u001b\\\u001b[2m175\u001b[0m\u001b]8;;\u001b\\\n",
       "\u001b[2;36m                    \u001b[0m         C:\\Users\\jampu\\OneDrive\\Desktop\\salud_mental\\psicologia.               \u001b[2m               \u001b[0m\n",
       "\u001b[2;36m                    \u001b[0m         To set a different path, run \u001b[32m'%reload_kedro \u001b[0m\u001b[32m<\u001b[0m\u001b[32mproject_root\u001b[0m\u001b[32m>\u001b[0m\u001b[32m'\u001b[0m            \u001b[2m               \u001b[0m\n"
      ]
     },
     "metadata": {},
     "output_type": "display_data"
    },
    {
     "data": {
      "text/html": [
       "<pre style=\"white-space:pre;overflow-x:auto;line-height:normal;font-family:Menlo,'DejaVu Sans Mono',consolas,'Courier New',monospace\"><span style=\"color: #7fbfbf; text-decoration-color: #7fbfbf\">[10/26/24 15:39:53] </span><span style=\"color: #808000; text-decoration-color: #808000\">WARNING </span> C:\\Users\\jampu\\OneDrive\\Desktop\\salud_mental\\venv\\Lib\\site-packages\\ke <a href=\"file://C:\\Users\\jampu\\AppData\\Local\\Programs\\Python\\Python312\\Lib\\warnings.py\" target=\"_blank\"><span style=\"color: #7f7f7f; text-decoration-color: #7f7f7f\">warnings.py</span></a><span style=\"color: #7f7f7f; text-decoration-color: #7f7f7f\">:</span><a href=\"file://C:\\Users\\jampu\\AppData\\Local\\Programs\\Python\\Python312\\Lib\\warnings.py#112\" target=\"_blank\"><span style=\"color: #7f7f7f; text-decoration-color: #7f7f7f\">112</span></a>\n",
       "<span style=\"color: #7fbfbf; text-decoration-color: #7fbfbf\">                    </span>         dro_viz\\__init__.py:<span style=\"color: #008080; text-decoration-color: #008080; font-weight: bold\">13</span>: KedroVizPythonVersionWarning: Please be        <span style=\"color: #7f7f7f; text-decoration-color: #7f7f7f\">               </span>\n",
       "<span style=\"color: #7fbfbf; text-decoration-color: #7fbfbf\">                    </span>         advised that Kedro Viz is not yet fully                                <span style=\"color: #7f7f7f; text-decoration-color: #7f7f7f\">               </span>\n",
       "<span style=\"color: #7fbfbf; text-decoration-color: #7fbfbf\">                    </span>                 compatible with the Python version you are currently using.    <span style=\"color: #7f7f7f; text-decoration-color: #7f7f7f\">               </span>\n",
       "<span style=\"color: #7fbfbf; text-decoration-color: #7fbfbf\">                    </span>           <span style=\"color: #800080; text-decoration-color: #800080; font-weight: bold\">warnings.warn</span><span style=\"font-weight: bold\">(</span>                                                       <span style=\"color: #7f7f7f; text-decoration-color: #7f7f7f\">               </span>\n",
       "<span style=\"color: #7fbfbf; text-decoration-color: #7fbfbf\">                    </span>                                                                                <span style=\"color: #7f7f7f; text-decoration-color: #7f7f7f\">               </span>\n",
       "</pre>\n"
      ],
      "text/plain": [
       "\u001b[2;36m[10/26/24 15:39:53]\u001b[0m\u001b[2;36m \u001b[0m\u001b[33mWARNING \u001b[0m C:\\Users\\jampu\\OneDrive\\Desktop\\salud_mental\\venv\\Lib\\site-packages\\ke \u001b]8;id=42562;file://C:\\Users\\jampu\\AppData\\Local\\Programs\\Python\\Python312\\Lib\\warnings.py\u001b\\\u001b[2mwarnings.py\u001b[0m\u001b]8;;\u001b\\\u001b[2m:\u001b[0m\u001b]8;id=63973;file://C:\\Users\\jampu\\AppData\\Local\\Programs\\Python\\Python312\\Lib\\warnings.py#112\u001b\\\u001b[2m112\u001b[0m\u001b]8;;\u001b\\\n",
       "\u001b[2;36m                    \u001b[0m         dro_viz\\__init__.py:\u001b[1;36m13\u001b[0m: KedroVizPythonVersionWarning: Please be        \u001b[2m               \u001b[0m\n",
       "\u001b[2;36m                    \u001b[0m         advised that Kedro Viz is not yet fully                                \u001b[2m               \u001b[0m\n",
       "\u001b[2;36m                    \u001b[0m                 compatible with the Python version you are currently using.    \u001b[2m               \u001b[0m\n",
       "\u001b[2;36m                    \u001b[0m           \u001b[1;35mwarnings.warn\u001b[0m\u001b[1m(\u001b[0m                                                       \u001b[2m               \u001b[0m\n",
       "\u001b[2;36m                    \u001b[0m                                                                                \u001b[2m               \u001b[0m\n"
      ]
     },
     "metadata": {},
     "output_type": "display_data"
    },
    {
     "data": {
      "text/html": [
       "<pre style=\"white-space:pre;overflow-x:auto;line-height:normal;font-family:Menlo,'DejaVu Sans Mono',consolas,'Courier New',monospace\"><span style=\"color: #7fbfbf; text-decoration-color: #7fbfbf\">[10/26/24 15:39:58] </span><span style=\"color: #000080; text-decoration-color: #000080\">INFO    </span> Kedro is sending anonymous usage data with the sole purpose of improving <a href=\"file://C:\\Users\\jampu\\OneDrive\\Desktop\\salud_mental\\venv\\Lib\\site-packages\\kedro_telemetry\\plugin.py\" target=\"_blank\"><span style=\"color: #7f7f7f; text-decoration-color: #7f7f7f\">plugin.py</span></a><span style=\"color: #7f7f7f; text-decoration-color: #7f7f7f\">:</span><a href=\"file://C:\\Users\\jampu\\OneDrive\\Desktop\\salud_mental\\venv\\Lib\\site-packages\\kedro_telemetry\\plugin.py#233\" target=\"_blank\"><span style=\"color: #7f7f7f; text-decoration-color: #7f7f7f\">233</span></a>\n",
       "<span style=\"color: #7fbfbf; text-decoration-color: #7fbfbf\">                    </span>         the product. No personal data or IP addresses are stored on our side. If <span style=\"color: #7f7f7f; text-decoration-color: #7f7f7f\">             </span>\n",
       "<span style=\"color: #7fbfbf; text-decoration-color: #7fbfbf\">                    </span>         you want to opt out, set the `KEDRO_DISABLE_TELEMETRY` or `DO_NOT_TRACK` <span style=\"color: #7f7f7f; text-decoration-color: #7f7f7f\">             </span>\n",
       "<span style=\"color: #7fbfbf; text-decoration-color: #7fbfbf\">                    </span>         environment variables, or create a `.telemetry` file in the current      <span style=\"color: #7f7f7f; text-decoration-color: #7f7f7f\">             </span>\n",
       "<span style=\"color: #7fbfbf; text-decoration-color: #7fbfbf\">                    </span>         working directory with the contents `consent: false`. Read more at       <span style=\"color: #7f7f7f; text-decoration-color: #7f7f7f\">             </span>\n",
       "<span style=\"color: #7fbfbf; text-decoration-color: #7fbfbf\">                    </span>         <span style=\"color: #0000ff; text-decoration-color: #0000ff; text-decoration: underline\">https://docs.kedro.org/en/stable/configuration/telemetry.html</span>            <span style=\"color: #7f7f7f; text-decoration-color: #7f7f7f\">             </span>\n",
       "</pre>\n"
      ],
      "text/plain": [
       "\u001b[2;36m[10/26/24 15:39:58]\u001b[0m\u001b[2;36m \u001b[0m\u001b[34mINFO    \u001b[0m Kedro is sending anonymous usage data with the sole purpose of improving \u001b]8;id=471627;file://C:\\Users\\jampu\\OneDrive\\Desktop\\salud_mental\\venv\\Lib\\site-packages\\kedro_telemetry\\plugin.py\u001b\\\u001b[2mplugin.py\u001b[0m\u001b]8;;\u001b\\\u001b[2m:\u001b[0m\u001b]8;id=217834;file://C:\\Users\\jampu\\OneDrive\\Desktop\\salud_mental\\venv\\Lib\\site-packages\\kedro_telemetry\\plugin.py#233\u001b\\\u001b[2m233\u001b[0m\u001b]8;;\u001b\\\n",
       "\u001b[2;36m                    \u001b[0m         the product. No personal data or IP addresses are stored on our side. If \u001b[2m             \u001b[0m\n",
       "\u001b[2;36m                    \u001b[0m         you want to opt out, set the `KEDRO_DISABLE_TELEMETRY` or `DO_NOT_TRACK` \u001b[2m             \u001b[0m\n",
       "\u001b[2;36m                    \u001b[0m         environment variables, or create a `.telemetry` file in the current      \u001b[2m             \u001b[0m\n",
       "\u001b[2;36m                    \u001b[0m         working directory with the contents `consent: false`. Read more at       \u001b[2m             \u001b[0m\n",
       "\u001b[2;36m                    \u001b[0m         \u001b[4;94mhttps://docs.kedro.org/en/stable/configuration/telemetry.html\u001b[0m            \u001b[2m             \u001b[0m\n"
      ]
     },
     "metadata": {},
     "output_type": "display_data"
    },
    {
     "data": {
      "text/html": [
       "<pre style=\"white-space:pre;overflow-x:auto;line-height:normal;font-family:Menlo,'DejaVu Sans Mono',consolas,'Courier New',monospace\"><span style=\"color: #7fbfbf; text-decoration-color: #7fbfbf\">[10/26/24 15:39:59] </span><span style=\"color: #000080; text-decoration-color: #000080\">INFO    </span> Kedro project psicologia                                               <a href=\"file://C:\\Users\\jampu\\OneDrive\\Desktop\\salud_mental\\venv\\Lib\\site-packages\\kedro\\ipython\\__init__.py\" target=\"_blank\"><span style=\"color: #7f7f7f; text-decoration-color: #7f7f7f\">__init__.py</span></a><span style=\"color: #7f7f7f; text-decoration-color: #7f7f7f\">:</span><a href=\"file://C:\\Users\\jampu\\OneDrive\\Desktop\\salud_mental\\venv\\Lib\\site-packages\\kedro\\ipython\\__init__.py#141\" target=\"_blank\"><span style=\"color: #7f7f7f; text-decoration-color: #7f7f7f\">141</span></a>\n",
       "</pre>\n"
      ],
      "text/plain": [
       "\u001b[2;36m[10/26/24 15:39:59]\u001b[0m\u001b[2;36m \u001b[0m\u001b[34mINFO    \u001b[0m Kedro project psicologia                                               \u001b]8;id=340396;file://C:\\Users\\jampu\\OneDrive\\Desktop\\salud_mental\\venv\\Lib\\site-packages\\kedro\\ipython\\__init__.py\u001b\\\u001b[2m__init__.py\u001b[0m\u001b]8;;\u001b\\\u001b[2m:\u001b[0m\u001b]8;id=108082;file://C:\\Users\\jampu\\OneDrive\\Desktop\\salud_mental\\venv\\Lib\\site-packages\\kedro\\ipython\\__init__.py#141\u001b\\\u001b[2m141\u001b[0m\u001b]8;;\u001b\\\n"
      ]
     },
     "metadata": {},
     "output_type": "display_data"
    },
    {
     "data": {
      "text/html": [
       "<pre style=\"white-space:pre;overflow-x:auto;line-height:normal;font-family:Menlo,'DejaVu Sans Mono',consolas,'Courier New',monospace\"><span style=\"color: #7fbfbf; text-decoration-color: #7fbfbf\">                    </span><span style=\"color: #000080; text-decoration-color: #000080\">INFO    </span> Defined global variable <span style=\"color: #008000; text-decoration-color: #008000\">'context'</span>, <span style=\"color: #008000; text-decoration-color: #008000\">'session'</span>, <span style=\"color: #008000; text-decoration-color: #008000\">'catalog'</span> and            <a href=\"file://C:\\Users\\jampu\\OneDrive\\Desktop\\salud_mental\\venv\\Lib\\site-packages\\kedro\\ipython\\__init__.py\" target=\"_blank\"><span style=\"color: #7f7f7f; text-decoration-color: #7f7f7f\">__init__.py</span></a><span style=\"color: #7f7f7f; text-decoration-color: #7f7f7f\">:</span><a href=\"file://C:\\Users\\jampu\\OneDrive\\Desktop\\salud_mental\\venv\\Lib\\site-packages\\kedro\\ipython\\__init__.py#142\" target=\"_blank\"><span style=\"color: #7f7f7f; text-decoration-color: #7f7f7f\">142</span></a>\n",
       "<span style=\"color: #7fbfbf; text-decoration-color: #7fbfbf\">                    </span>         <span style=\"color: #008000; text-decoration-color: #008000\">'pipelines'</span>                                                            <span style=\"color: #7f7f7f; text-decoration-color: #7f7f7f\">               </span>\n",
       "</pre>\n"
      ],
      "text/plain": [
       "\u001b[2;36m                   \u001b[0m\u001b[2;36m \u001b[0m\u001b[34mINFO    \u001b[0m Defined global variable \u001b[32m'context'\u001b[0m, \u001b[32m'session'\u001b[0m, \u001b[32m'catalog'\u001b[0m and            \u001b]8;id=441222;file://C:\\Users\\jampu\\OneDrive\\Desktop\\salud_mental\\venv\\Lib\\site-packages\\kedro\\ipython\\__init__.py\u001b\\\u001b[2m__init__.py\u001b[0m\u001b]8;;\u001b\\\u001b[2m:\u001b[0m\u001b]8;id=381922;file://C:\\Users\\jampu\\OneDrive\\Desktop\\salud_mental\\venv\\Lib\\site-packages\\kedro\\ipython\\__init__.py#142\u001b\\\u001b[2m142\u001b[0m\u001b]8;;\u001b\\\n",
       "\u001b[2;36m                    \u001b[0m         \u001b[32m'pipelines'\u001b[0m                                                            \u001b[2m               \u001b[0m\n"
      ]
     },
     "metadata": {},
     "output_type": "display_data"
    },
    {
     "data": {
      "text/html": [
       "<pre style=\"white-space:pre;overflow-x:auto;line-height:normal;font-family:Menlo,'DejaVu Sans Mono',consolas,'Courier New',monospace\"><span style=\"color: #7fbfbf; text-decoration-color: #7fbfbf\">[10/26/24 15:40:01] </span><span style=\"color: #000080; text-decoration-color: #000080\">INFO    </span> Registered line magic <span style=\"color: #008000; text-decoration-color: #008000\">'run_viz'</span>                                        <a href=\"file://C:\\Users\\jampu\\OneDrive\\Desktop\\salud_mental\\venv\\Lib\\site-packages\\kedro\\ipython\\__init__.py\" target=\"_blank\"><span style=\"color: #7f7f7f; text-decoration-color: #7f7f7f\">__init__.py</span></a><span style=\"color: #7f7f7f; text-decoration-color: #7f7f7f\">:</span><a href=\"file://C:\\Users\\jampu\\OneDrive\\Desktop\\salud_mental\\venv\\Lib\\site-packages\\kedro\\ipython\\__init__.py#148\" target=\"_blank\"><span style=\"color: #7f7f7f; text-decoration-color: #7f7f7f\">148</span></a>\n",
       "</pre>\n"
      ],
      "text/plain": [
       "\u001b[2;36m[10/26/24 15:40:01]\u001b[0m\u001b[2;36m \u001b[0m\u001b[34mINFO    \u001b[0m Registered line magic \u001b[32m'run_viz'\u001b[0m                                        \u001b]8;id=770526;file://C:\\Users\\jampu\\OneDrive\\Desktop\\salud_mental\\venv\\Lib\\site-packages\\kedro\\ipython\\__init__.py\u001b\\\u001b[2m__init__.py\u001b[0m\u001b]8;;\u001b\\\u001b[2m:\u001b[0m\u001b]8;id=602806;file://C:\\Users\\jampu\\OneDrive\\Desktop\\salud_mental\\venv\\Lib\\site-packages\\kedro\\ipython\\__init__.py#148\u001b\\\u001b[2m148\u001b[0m\u001b]8;;\u001b\\\n"
      ]
     },
     "metadata": {},
     "output_type": "display_data"
    }
   ],
   "source": [
    "%load_ext kedro.ipython"
   ]
  },
  {
   "cell_type": "code",
   "execution_count": 2,
   "id": "7ccdc50d-71dd-491a-8b09-a43ddfa292fc",
   "metadata": {},
   "outputs": [
    {
     "data": {
      "text/html": [
       "<pre style=\"white-space:pre;overflow-x:auto;line-height:normal;font-family:Menlo,'DejaVu Sans Mono',consolas,'Courier New',monospace\"></pre>\n"
      ],
      "text/plain": []
     },
     "metadata": {},
     "output_type": "display_data"
    },
    {
     "data": {
      "text/plain": [
       "\n",
       "\u001b[1;35mKedroContext\u001b[0m\u001b[1m(\u001b[0m\n",
       "    \u001b[33mproject_path\u001b[0m=\u001b[1;35mWindowsPath\u001b[0m\u001b[1m(\u001b[0m\u001b[32m'C:/Users/jampu/OneDrive/Desktop/salud_mental/psicologia'\u001b[0m\u001b[1m)\u001b[0m,\n",
       "    \u001b[33mconfig_loader\u001b[0m=\u001b[1;35mOmegaConfigLoader\u001b[0m\u001b[1m(\u001b[0m\u001b[33mconf_source\u001b[0m=\u001b[35mC\u001b[0m:\\Users\\jampu\\OneDrive\\Desktop\\salud_mental\\psicologia\\conf, \u001b[33menv\u001b[0m=\u001b[3;35mNone\u001b[0m, \u001b[33mruntime_params\u001b[0m=\u001b[1m{\u001b[0m\u001b[1m}\u001b[0m, \u001b[33mconfig_patterns\u001b[0m=\u001b[1m{\u001b[0m\u001b[32m'catalog'\u001b[0m: \u001b[1m[\u001b[0m\u001b[32m'catalog*'\u001b[0m, \u001b[32m'catalog*/**'\u001b[0m, \u001b[32m'**/catalog*'\u001b[0m\u001b[1m]\u001b[0m, \u001b[32m'parameters'\u001b[0m: \u001b[1m[\u001b[0m\u001b[32m'parameters*'\u001b[0m, \u001b[32m'parameters*/**'\u001b[0m, \u001b[32m'**/parameters*'\u001b[0m\u001b[1m]\u001b[0m, \u001b[32m'credentials'\u001b[0m: \u001b[1m[\u001b[0m\u001b[32m'credentials*'\u001b[0m, \u001b[32m'credentials*/**'\u001b[0m, \u001b[32m'**/credentials*'\u001b[0m\u001b[1m]\u001b[0m, \u001b[32m'globals'\u001b[0m: \u001b[1m[\u001b[0m\u001b[32m'globals.yml'\u001b[0m\u001b[1m]\u001b[0m\u001b[1m}\u001b[0m, \u001b[33mbase_env\u001b[0m=\u001b[35mbase\u001b[0m\u001b[1m)\u001b[0m, \u001b[33mdefault_run_env\u001b[0m=\u001b[35mlocal\u001b[0m\u001b[1m)\u001b[0m, \u001b[33mcustom_resolvers\u001b[0m=\u001b[3;35mNone\u001b[0m\u001b[1m)\u001b[0m, \u001b[33mmerge_strategy\u001b[0m=\u001b[1m{\u001b[0m\u001b[1m}\u001b[0m\u001b[1m)\u001b[0m,\n",
       "    \u001b[33menv\u001b[0m=\u001b[3;35mNone\u001b[0m,\n",
       "    \u001b[33m_package_name\u001b[0m=\u001b[3;35mNone\u001b[0m,\n",
       "    \u001b[33m_hook_manager\u001b[0m=\u001b[1m<\u001b[0m\u001b[1;95mpluggy._manager.PluginManager\u001b[0m\u001b[39m object at \u001b[0m\u001b[1;36m0x000002C2099E6420\u001b[0m\u001b[1m>\u001b[0m,\n",
       "    \u001b[33m_extra_params\u001b[0m=\u001b[3;35mNone\u001b[0m\n",
       "\u001b[1m)\u001b[0m"
      ]
     },
     "execution_count": 2,
     "metadata": {},
     "output_type": "execute_result"
    }
   ],
   "source": [
    "context"
   ]
  },
  {
   "cell_type": "code",
   "execution_count": 3,
   "id": "0e9466c2-5cce-4c29-9215-dbe7a047ad06",
   "metadata": {},
   "outputs": [
    {
     "data": {
      "text/html": [
       "<pre style=\"white-space:pre;overflow-x:auto;line-height:normal;font-family:Menlo,'DejaVu Sans Mono',consolas,'Courier New',monospace\"></pre>\n"
      ],
      "text/plain": []
     },
     "metadata": {},
     "output_type": "display_data"
    },
    {
     "data": {
      "text/plain": [
       "\n",
       "\u001b[1m{\u001b[0m\u001b[32m'Mental_Health_Dataset'\u001b[0m: \u001b[32m\"kedro_datasets.pandas.csv_dataset.CSVDataset\u001b[0m\u001b[32m(\u001b[0m\u001b[32mfilepath\u001b[0m\u001b[32m=\u001b[0m\u001b[32mPurePosixPath\u001b[0m\u001b[32m(\u001b[0m\u001b[32m'C:/Users/jampu/OneDrive/Desktop/salud_mental/psicologia/data/01_raw/Mental_Health_Dataset.csv'\u001b[0m\u001b[32m)\u001b[0m\u001b[32m, \"\u001b[0m\n",
       "                          \u001b[32m\"\u001b[0m\u001b[32mprotocol\u001b[0m\u001b[32m='file', \u001b[0m\u001b[32mload_args\u001b[0m\u001b[32m=\u001b[0m\u001b[32m{\u001b[0m\u001b[32m}\u001b[0m\u001b[32m, \u001b[0m\u001b[32msave_args\u001b[0m\u001b[32m=\u001b[0m\u001b[32m{\u001b[0m\u001b[32m'index': \"\u001b[0m\n",
       "                          \u001b[32m'False\u001b[0m\u001b[32m}\u001b[0m\u001b[32m)\u001b[0m\u001b[32m'\u001b[0m,\n",
       " \u001b[32m'nulos_data'\u001b[0m: \u001b[32m\"kedro_datasets.pandas.csv_dataset.CSVDataset\u001b[0m\u001b[32m(\u001b[0m\u001b[32mfilepath\u001b[0m\u001b[32m=\u001b[0m\u001b[32mPurePosixPath\u001b[0m\u001b[32m(\u001b[0m\u001b[32m'C:/Users/jampu/OneDrive/Desktop/salud_mental/psicologia/data/02_intermediate/nulos_data.csv'\u001b[0m\u001b[32m)\u001b[0m\u001b[32m, \"\u001b[0m\n",
       "               \u001b[32m\"\u001b[0m\u001b[32mprotocol\u001b[0m\u001b[32m='file', \u001b[0m\u001b[32mload_args\u001b[0m\u001b[32m=\u001b[0m\u001b[32m{\u001b[0m\u001b[32m}\u001b[0m\u001b[32m, \u001b[0m\u001b[32msave_args\u001b[0m\u001b[32m=\u001b[0m\u001b[32m{\u001b[0m\u001b[32m'index': False\u001b[0m\u001b[32m}\u001b[0m\u001b[32m)\u001b[0m\u001b[32m\"\u001b[0m,\n",
       " \u001b[32m'imputed_data'\u001b[0m: \u001b[32m\"kedro_datasets.pandas.csv_dataset.CSVDataset\u001b[0m\u001b[32m(\u001b[0m\u001b[32mfilepath\u001b[0m\u001b[32m=\u001b[0m\u001b[32mPurePosixPath\u001b[0m\u001b[32m(\u001b[0m\u001b[32m'C:/Users/jampu/OneDrive/Desktop/salud_mental/psicologia/data/02_intermediate/imputed_data.csv'\u001b[0m\u001b[32m)\u001b[0m\u001b[32m, \"\u001b[0m\n",
       "                 \u001b[32m\"\u001b[0m\u001b[32mprotocol\u001b[0m\u001b[32m='file', \u001b[0m\u001b[32mload_args\u001b[0m\u001b[32m=\u001b[0m\u001b[32m{\u001b[0m\u001b[32m}\u001b[0m\u001b[32m, \u001b[0m\u001b[32msave_args\u001b[0m\u001b[32m=\u001b[0m\u001b[32m{\u001b[0m\u001b[32m'index': False\u001b[0m\u001b[32m}\u001b[0m\u001b[32m)\u001b[0m\u001b[32m\"\u001b[0m,\n",
       " \u001b[32m'mapped_data'\u001b[0m: \u001b[32m\"kedro_datasets.pandas.csv_dataset.CSVDataset\u001b[0m\u001b[32m(\u001b[0m\u001b[32mfilepath\u001b[0m\u001b[32m=\u001b[0m\u001b[32mPurePosixPath\u001b[0m\u001b[32m(\u001b[0m\u001b[32m'C:/Users/jampu/OneDrive/Desktop/salud_mental/psicologia/data/02_intermediate/mapped_data.csv'\u001b[0m\u001b[32m)\u001b[0m\u001b[32m, \"\u001b[0m\n",
       "                \u001b[32m\"\u001b[0m\u001b[32mprotocol\u001b[0m\u001b[32m='file', \u001b[0m\u001b[32mload_args\u001b[0m\u001b[32m=\u001b[0m\u001b[32m{\u001b[0m\u001b[32m}\u001b[0m\u001b[32m, \u001b[0m\u001b[32msave_args\u001b[0m\u001b[32m=\u001b[0m\u001b[32m{\u001b[0m\u001b[32m'index': False\u001b[0m\u001b[32m}\u001b[0m\u001b[32m)\u001b[0m\u001b[32m\"\u001b[0m,\n",
       " \u001b[32m'X_test_unique'\u001b[0m: \u001b[32m\"kedro_datasets.pandas.csv_dataset.CSVDataset\u001b[0m\u001b[32m(\u001b[0m\u001b[32mfilepath\u001b[0m\u001b[32m=\u001b[0m\u001b[32mPurePosixPath\u001b[0m\u001b[32m(\u001b[0m\u001b[32m'C:/Users/jampu/OneDrive/Desktop/salud_mental/psicologia/data/05_model_input/X_test_unique.csv'\u001b[0m\u001b[32m)\u001b[0m\u001b[32m, \"\u001b[0m\n",
       "                  \u001b[32m\"\u001b[0m\u001b[32mprotocol\u001b[0m\u001b[32m='file', \u001b[0m\u001b[32mload_args\u001b[0m\u001b[32m=\u001b[0m\u001b[32m{\u001b[0m\u001b[32m}\u001b[0m\u001b[32m, \u001b[0m\u001b[32msave_args\u001b[0m\u001b[32m=\u001b[0m\u001b[32m{\u001b[0m\u001b[32m'index': False\u001b[0m\u001b[32m}\u001b[0m\u001b[32m)\u001b[0m\u001b[32m\"\u001b[0m,\n",
       " \u001b[32m'y_test_unique'\u001b[0m: \u001b[32m\"kedro_datasets.pandas.csv_dataset.CSVDataset\u001b[0m\u001b[32m(\u001b[0m\u001b[32mfilepath\u001b[0m\u001b[32m=\u001b[0m\u001b[32mPurePosixPath\u001b[0m\u001b[32m(\u001b[0m\u001b[32m'C:/Users/jampu/OneDrive/Desktop/salud_mental/psicologia/data/05_model_input/y_test_unique.csv'\u001b[0m\u001b[32m)\u001b[0m\u001b[32m, \"\u001b[0m\n",
       "                  \u001b[32m\"\u001b[0m\u001b[32mprotocol\u001b[0m\u001b[32m='file', \u001b[0m\u001b[32mload_args\u001b[0m\u001b[32m=\u001b[0m\u001b[32m{\u001b[0m\u001b[32m}\u001b[0m\u001b[32m, \u001b[0m\u001b[32msave_args\u001b[0m\u001b[32m=\u001b[0m\u001b[32m{\u001b[0m\u001b[32m'index': False\u001b[0m\u001b[32m}\u001b[0m\u001b[32m)\u001b[0m\u001b[32m\"\u001b[0m,\n",
       " \u001b[32m'xgb_model'\u001b[0m: \u001b[32m\"kedro_datasets.pickle.pickle_dataset.PickleDataset\u001b[0m\u001b[32m(\u001b[0m\u001b[32mfilepath\u001b[0m\u001b[32m=\u001b[0m\u001b[32mPurePosixPath\u001b[0m\u001b[32m(\u001b[0m\u001b[32m'C:/Users/jampu/OneDrive/Desktop/salud_mental/psicologia/data/06_models/xgb_model.pkl'\u001b[0m\u001b[32m)\u001b[0m\u001b[32m, \"\u001b[0m\n",
       "              \u001b[32m\"\u001b[0m\u001b[32mbackend\u001b[0m\u001b[32m='pickle', \u001b[0m\u001b[32mprotocol\u001b[0m\u001b[32m='file', \u001b[0m\u001b[32mload_args\u001b[0m\u001b[32m=\u001b[0m\u001b[32m{\u001b[0m\u001b[32m}\u001b[0m\u001b[32m, \u001b[0m\u001b[32msave_args\u001b[0m\u001b[32m=\u001b[0m\u001b[32m{\u001b[0m\u001b[32m}\u001b[0m\u001b[32m)\u001b[0m\u001b[32m\"\u001b[0m,\n",
       " \u001b[32m'knn_model'\u001b[0m: \u001b[32m\"kedro_datasets.pickle.pickle_dataset.PickleDataset\u001b[0m\u001b[32m(\u001b[0m\u001b[32mfilepath\u001b[0m\u001b[32m=\u001b[0m\u001b[32mPurePosixPath\u001b[0m\u001b[32m(\u001b[0m\u001b[32m'C:/Users/jampu/OneDrive/Desktop/salud_mental/psicologia/data/06_models/knn_model.pkl'\u001b[0m\u001b[32m)\u001b[0m\u001b[32m, \"\u001b[0m\n",
       "              \u001b[32m\"\u001b[0m\u001b[32mbackend\u001b[0m\u001b[32m='pickle', \u001b[0m\u001b[32mprotocol\u001b[0m\u001b[32m='file', \u001b[0m\u001b[32mload_args\u001b[0m\u001b[32m=\u001b[0m\u001b[32m{\u001b[0m\u001b[32m}\u001b[0m\u001b[32m, \u001b[0m\u001b[32msave_args\u001b[0m\u001b[32m=\u001b[0m\u001b[32m{\u001b[0m\u001b[32m}\u001b[0m\u001b[32m)\u001b[0m\u001b[32m\"\u001b[0m,\n",
       " \u001b[32m'rf_model'\u001b[0m: \u001b[32m\"kedro_datasets.pickle.pickle_dataset.PickleDataset\u001b[0m\u001b[32m(\u001b[0m\u001b[32mfilepath\u001b[0m\u001b[32m=\u001b[0m\u001b[32mPurePosixPath\u001b[0m\u001b[32m(\u001b[0m\u001b[32m'C:/Users/jampu/OneDrive/Desktop/salud_mental/psicologia/data/06_models/rf_model.pkl'\u001b[0m\u001b[32m)\u001b[0m\u001b[32m, \"\u001b[0m\n",
       "             \u001b[32m\"\u001b[0m\u001b[32mbackend\u001b[0m\u001b[32m='pickle', \u001b[0m\u001b[32mprotocol\u001b[0m\u001b[32m='file', \u001b[0m\u001b[32mload_args\u001b[0m\u001b[32m=\u001b[0m\u001b[32m{\u001b[0m\u001b[32m}\u001b[0m\u001b[32m, \u001b[0m\u001b[32msave_args\u001b[0m\u001b[32m=\u001b[0m\u001b[32m{\u001b[0m\u001b[32m}\u001b[0m\u001b[32m)\u001b[0m\u001b[32m\"\u001b[0m,\n",
       " \u001b[32m'logistic_regression_model'\u001b[0m: \u001b[32m\"kedro_datasets.pickle.pickle_dataset.PickleDataset\u001b[0m\u001b[32m(\u001b[0m\u001b[32mfilepath\u001b[0m\u001b[32m=\u001b[0m\u001b[32mPurePosixPath\u001b[0m\u001b[32m(\u001b[0m\u001b[32m'C:/Users/jampu/OneDrive/Desktop/salud_mental/psicologia/data/06_models/logistic_regression_model.pkl'\u001b[0m\u001b[32m)\u001b[0m\u001b[32m, \"\u001b[0m\n",
       "                              \u001b[32m\"\u001b[0m\u001b[32mbackend\u001b[0m\u001b[32m='pickle', \u001b[0m\u001b[32mprotocol\u001b[0m\u001b[32m='file', \"\u001b[0m\n",
       "                              \u001b[32m'\u001b[0m\u001b[32mload_args\u001b[0m\u001b[32m=\u001b[0m\u001b[32m{\u001b[0m\u001b[32m}\u001b[0m\u001b[32m, \u001b[0m\u001b[32msave_args\u001b[0m\u001b[32m=\u001b[0m\u001b[32m{\u001b[0m\u001b[32m}\u001b[0m\u001b[32m)\u001b[0m\u001b[32m'\u001b[0m,\n",
       " \u001b[32m'parameters'\u001b[0m: \u001b[32m\"kedro.io.memory_dataset.MemoryDataset\u001b[0m\u001b[32m(\u001b[0m\u001b[32mdata\u001b[0m\u001b[32m='\u001b[0m\u001b[32m<\u001b[0m\u001b[32mdict\u001b[0m\u001b[32m>'\u001b[0m\u001b[32m)\u001b[0m\u001b[32m\"\u001b[0m\u001b[39m,\u001b[0m\n",
       "\u001b[39m \u001b[0m\u001b[32m'params:model_options'\u001b[0m\u001b[39m: \u001b[0m\u001b[32m\"kedro.io.memory_dataset.MemoryDataset\u001b[0m\u001b[32m(\u001b[0m\u001b[32mdata\u001b[0m\u001b[32m='<dict>'\u001b[0m\u001b[32m)\u001b[0m\u001b[32m\"\u001b[0m\u001b[39m,\u001b[0m\n",
       "\u001b[39m \u001b[0m\u001b[32m'params:model_options.test_size'\u001b[0m\u001b[39m: \u001b[0m\u001b[32m\"kedro.io.memory_dataset.MemoryDataset\u001b[0m\u001b[32m(\u001b[0m\u001b[32mdata\u001b[0m\u001b[32m='<float>'\u001b[0m\u001b[32m)\u001b[0m\u001b[32m\"\u001b[0m\u001b[39m,\u001b[0m\n",
       "\u001b[39m \u001b[0m\u001b[32m'params:model_options.random_state'\u001b[0m\u001b[39m: \u001b[0m\u001b[32m\"kedro.io.memory_dataset.MemoryDataset\u001b[0m\u001b[32m(\u001b[0m\u001b[32mdata\u001b[0m\u001b[32m='<int>'\u001b[0m\u001b[32m)\u001b[0m\u001b[32m\"\u001b[0m\u001b[39m,\u001b[0m\n",
       "\u001b[39m \u001b[0m\u001b[32m'params:model_options.features'\u001b[0m\u001b[39m: \u001b[0m\u001b[32m\"kedro.io.memory_dataset.MemoryDataset\u001b[0m\u001b[32m(\u001b[0m\u001b[32mdata\u001b[0m\u001b[32m='<list\u001b[0m\u001b[32m>\u001b[0m\u001b[32m'\u001b[0m\u001b[32m)\u001b[0m\u001b[32m\"\u001b[0m\u001b[1m}\u001b[0m"
      ]
     },
     "execution_count": 3,
     "metadata": {},
     "output_type": "execute_result"
    }
   ],
   "source": [
    "catalog"
   ]
  },
  {
   "cell_type": "code",
   "execution_count": 17,
   "id": "66f502fb-15e8-4169-9be6-229ce120834a",
   "metadata": {},
   "outputs": [],
   "source": [
    "# Import the necessary libraries\n",
    "import numpy as np\n",
    "import pandas as pd\n",
    "import joblib\n",
    "from sklearn.model_selection import train_test_split, StratifiedKFold, cross_val_score, GridSearchCV\n",
    "from sklearn.preprocessing import StandardScaler, LabelEncoder\n",
    "from sklearn.metrics import accuracy_score, confusion_matrix, classification_report, roc_curve, auc\n",
    "from imblearn.over_sampling import SMOTE\n",
    "from sklearn.impute import SimpleImputer\n",
    "\n",
    "from sklearn.linear_model import LogisticRegression\n",
    "from sklearn.neighbors import KNeighborsClassifier\n",
    "from sklearn.ensemble import RandomForestClassifier\n",
    "from xgboost import XGBClassifier\n",
    "\n",
    "from kedro.framework.session import KedroSession\n",
    "\n",
    "from tpot import TPOTClassifier"
   ]
  },
  {
   "cell_type": "code",
   "execution_count": 7,
   "id": "c8f92a1d-5169-4324-a838-39fd41738dcf",
   "metadata": {},
   "outputs": [
    {
     "data": {
      "text/html": [
       "<pre style=\"white-space:pre;overflow-x:auto;line-height:normal;font-family:Menlo,'DejaVu Sans Mono',consolas,'Courier New',monospace\"><span style=\"color: #7fbfbf; text-decoration-color: #7fbfbf\">[10/26/24 15:41:43] </span><span style=\"color: #000080; text-decoration-color: #000080\">INFO    </span> Loading data from <span style=\"color: #ff8700; text-decoration-color: #ff8700\">mapped_data</span> <span style=\"font-weight: bold\">(</span>CSVDataset<span style=\"font-weight: bold\">)</span><span style=\"color: #808000; text-decoration-color: #808000\">...</span>                      <a href=\"file://C:\\Users\\jampu\\OneDrive\\Desktop\\salud_mental\\venv\\Lib\\site-packages\\kedro\\io\\data_catalog.py\" target=\"_blank\"><span style=\"color: #7f7f7f; text-decoration-color: #7f7f7f\">data_catalog.py</span></a><span style=\"color: #7f7f7f; text-decoration-color: #7f7f7f\">:</span><a href=\"file://C:\\Users\\jampu\\OneDrive\\Desktop\\salud_mental\\venv\\Lib\\site-packages\\kedro\\io\\data_catalog.py#539\" target=\"_blank\"><span style=\"color: #7f7f7f; text-decoration-color: #7f7f7f\">539</span></a>\n",
       "</pre>\n"
      ],
      "text/plain": [
       "\u001b[2;36m[10/26/24 15:41:43]\u001b[0m\u001b[2;36m \u001b[0m\u001b[34mINFO    \u001b[0m Loading data from \u001b[38;5;208mmapped_data\u001b[0m \u001b[1m(\u001b[0mCSVDataset\u001b[1m)\u001b[0m\u001b[33m...\u001b[0m                      \u001b]8;id=501283;file://C:\\Users\\jampu\\OneDrive\\Desktop\\salud_mental\\venv\\Lib\\site-packages\\kedro\\io\\data_catalog.py\u001b\\\u001b[2mdata_catalog.py\u001b[0m\u001b]8;;\u001b\\\u001b[2m:\u001b[0m\u001b]8;id=481368;file://C:\\Users\\jampu\\OneDrive\\Desktop\\salud_mental\\venv\\Lib\\site-packages\\kedro\\io\\data_catalog.py#539\u001b\\\u001b[2m539\u001b[0m\u001b]8;;\u001b\\\n"
      ]
     },
     "metadata": {},
     "output_type": "display_data"
    }
   ],
   "source": [
    "df=catalog.load(\"mapped_data\")"
   ]
  },
  {
   "cell_type": "markdown",
   "id": "3686625f-c277-4c1e-b93b-e042565a62cf",
   "metadata": {},
   "source": [
    "**Hipotisí (español)**\n",
    "\"Las personas con altos niveles de estrés, dificultades para lidiar con situaciones y un historial de problemas de salud mental tienen más probabilidades de haber recibido tratamiento de salud mental.\""
   ]
  },
  {
   "cell_type": "markdown",
   "id": "0f208dab-60a9-4e83-b87c-c56bfbb17326",
   "metadata": {},
   "source": [
    "**Hypothesis (english)**\n",
    "\"People with high levels of stress, coping difficulties, and a history of mental health problems are more likely to have received mental health treatment.\""
   ]
  },
  {
   "cell_type": "markdown",
   "id": "44fa9e64-fbce-4664-9bdb-c18d8a174ab3",
   "metadata": {},
   "source": [
    "This logistic regression model predicts the need for mental health treatment based on features like mental health history, stress levels, coping struggles, social challenges, and knowledge of available care options. The model is trained with balanced class weights to improve prediction accuracy across categories and employs regularization to avoid overfitting. After training, it is evaluated on a test set, and its performance metrics are saved for later use."
   ]
  },
  {
   "cell_type": "code",
   "execution_count": 12,
   "id": "6035468c-5f27-4cc9-9391-2599b7a76c48",
   "metadata": {},
   "outputs": [
    {
     "name": "stdout",
     "output_type": "stream",
     "text": [
      "Logistic Regression Model Accuracy: 52.99%\n",
      "Confusion Matrix:\n",
      "[[15685 13210]\n",
      " [14278 15300]]\n",
      "Classification Report:\n",
      "              precision    recall  f1-score   support\n",
      "\n",
      "           0       0.52      0.54      0.53     28895\n",
      "           1       0.54      0.52      0.53     29578\n",
      "\n",
      "    accuracy                           0.53     58473\n",
      "   macro avg       0.53      0.53      0.53     58473\n",
      "weighted avg       0.53      0.53      0.53     58473\n",
      "\n"
     ]
    },
    {
     "data": {
      "text/html": [
       "<pre style=\"white-space:pre;overflow-x:auto;line-height:normal;font-family:Menlo,'DejaVu Sans Mono',consolas,'Courier New',monospace\"><span style=\"color: #7fbfbf; text-decoration-color: #7fbfbf\">[10/26/24 15:43:42] </span><span style=\"color: #000080; text-decoration-color: #000080\">INFO    </span> Kedro is sending anonymous usage data with the sole purpose of improving <a href=\"file://C:\\Users\\jampu\\OneDrive\\Desktop\\salud_mental\\venv\\Lib\\site-packages\\kedro_telemetry\\plugin.py\" target=\"_blank\"><span style=\"color: #7f7f7f; text-decoration-color: #7f7f7f\">plugin.py</span></a><span style=\"color: #7f7f7f; text-decoration-color: #7f7f7f\">:</span><a href=\"file://C:\\Users\\jampu\\OneDrive\\Desktop\\salud_mental\\venv\\Lib\\site-packages\\kedro_telemetry\\plugin.py#233\" target=\"_blank\"><span style=\"color: #7f7f7f; text-decoration-color: #7f7f7f\">233</span></a>\n",
       "<span style=\"color: #7fbfbf; text-decoration-color: #7fbfbf\">                    </span>         the product. No personal data or IP addresses are stored on our side. If <span style=\"color: #7f7f7f; text-decoration-color: #7f7f7f\">             </span>\n",
       "<span style=\"color: #7fbfbf; text-decoration-color: #7fbfbf\">                    </span>         you want to opt out, set the `KEDRO_DISABLE_TELEMETRY` or `DO_NOT_TRACK` <span style=\"color: #7f7f7f; text-decoration-color: #7f7f7f\">             </span>\n",
       "<span style=\"color: #7fbfbf; text-decoration-color: #7fbfbf\">                    </span>         environment variables, or create a `.telemetry` file in the current      <span style=\"color: #7f7f7f; text-decoration-color: #7f7f7f\">             </span>\n",
       "<span style=\"color: #7fbfbf; text-decoration-color: #7fbfbf\">                    </span>         working directory with the contents `consent: false`. Read more at       <span style=\"color: #7f7f7f; text-decoration-color: #7f7f7f\">             </span>\n",
       "<span style=\"color: #7fbfbf; text-decoration-color: #7fbfbf\">                    </span>         <span style=\"color: #0000ff; text-decoration-color: #0000ff; text-decoration: underline\">https://docs.kedro.org/en/stable/configuration/telemetry.html</span>            <span style=\"color: #7f7f7f; text-decoration-color: #7f7f7f\">             </span>\n",
       "</pre>\n"
      ],
      "text/plain": [
       "\u001b[2;36m[10/26/24 15:43:42]\u001b[0m\u001b[2;36m \u001b[0m\u001b[34mINFO    \u001b[0m Kedro is sending anonymous usage data with the sole purpose of improving \u001b]8;id=366104;file://C:\\Users\\jampu\\OneDrive\\Desktop\\salud_mental\\venv\\Lib\\site-packages\\kedro_telemetry\\plugin.py\u001b\\\u001b[2mplugin.py\u001b[0m\u001b]8;;\u001b\\\u001b[2m:\u001b[0m\u001b]8;id=101619;file://C:\\Users\\jampu\\OneDrive\\Desktop\\salud_mental\\venv\\Lib\\site-packages\\kedro_telemetry\\plugin.py#233\u001b\\\u001b[2m233\u001b[0m\u001b]8;;\u001b\\\n",
       "\u001b[2;36m                    \u001b[0m         the product. No personal data or IP addresses are stored on our side. If \u001b[2m             \u001b[0m\n",
       "\u001b[2;36m                    \u001b[0m         you want to opt out, set the `KEDRO_DISABLE_TELEMETRY` or `DO_NOT_TRACK` \u001b[2m             \u001b[0m\n",
       "\u001b[2;36m                    \u001b[0m         environment variables, or create a `.telemetry` file in the current      \u001b[2m             \u001b[0m\n",
       "\u001b[2;36m                    \u001b[0m         working directory with the contents `consent: false`. Read more at       \u001b[2m             \u001b[0m\n",
       "\u001b[2;36m                    \u001b[0m         \u001b[4;94mhttps://docs.kedro.org/en/stable/configuration/telemetry.html\u001b[0m            \u001b[2m             \u001b[0m\n"
      ]
     },
     "metadata": {},
     "output_type": "display_data"
    },
    {
     "data": {
      "text/html": [
       "<pre style=\"white-space:pre;overflow-x:auto;line-height:normal;font-family:Menlo,'DejaVu Sans Mono',consolas,'Courier New',monospace\"><span style=\"color: #7fbfbf; text-decoration-color: #7fbfbf\">[10/26/24 15:43:43] </span><span style=\"color: #000080; text-decoration-color: #000080\">INFO    </span> Saving data to <span style=\"color: #ff8700; text-decoration-color: #ff8700\">logistic_regression_model</span> <span style=\"font-weight: bold\">(</span>PickleDataset<span style=\"font-weight: bold\">)</span><span style=\"color: #808000; text-decoration-color: #808000\">...</span>        <a href=\"file://C:\\Users\\jampu\\OneDrive\\Desktop\\salud_mental\\venv\\Lib\\site-packages\\kedro\\io\\data_catalog.py\" target=\"_blank\"><span style=\"color: #7f7f7f; text-decoration-color: #7f7f7f\">data_catalog.py</span></a><span style=\"color: #7f7f7f; text-decoration-color: #7f7f7f\">:</span><a href=\"file://C:\\Users\\jampu\\OneDrive\\Desktop\\salud_mental\\venv\\Lib\\site-packages\\kedro\\io\\data_catalog.py#581\" target=\"_blank\"><span style=\"color: #7f7f7f; text-decoration-color: #7f7f7f\">581</span></a>\n",
       "</pre>\n"
      ],
      "text/plain": [
       "\u001b[2;36m[10/26/24 15:43:43]\u001b[0m\u001b[2;36m \u001b[0m\u001b[34mINFO    \u001b[0m Saving data to \u001b[38;5;208mlogistic_regression_model\u001b[0m \u001b[1m(\u001b[0mPickleDataset\u001b[1m)\u001b[0m\u001b[33m...\u001b[0m        \u001b]8;id=752063;file://C:\\Users\\jampu\\OneDrive\\Desktop\\salud_mental\\venv\\Lib\\site-packages\\kedro\\io\\data_catalog.py\u001b\\\u001b[2mdata_catalog.py\u001b[0m\u001b]8;;\u001b\\\u001b[2m:\u001b[0m\u001b]8;id=694098;file://C:\\Users\\jampu\\OneDrive\\Desktop\\salud_mental\\venv\\Lib\\site-packages\\kedro\\io\\data_catalog.py#581\u001b\\\u001b[2m581\u001b[0m\u001b]8;;\u001b\\\n"
      ]
     },
     "metadata": {},
     "output_type": "display_data"
    },
    {
     "name": "stdout",
     "output_type": "stream",
     "text": [
      "Logistic Regression model saved successfully in the data/06_models folder\n"
     ]
    }
   ],
   "source": [
    "# Select relevant variables\n",
    "features = ['Mental_Health_History', 'Growing_Stress', 'Coping_Struggles', 'Social_Weakness', 'care_options']\n",
    "X = df[features]\n",
    "y = df['treatment']\n",
    "\n",
    "# Impute missing values using the median\n",
    "imputer = SimpleImputer(strategy='median')\n",
    "X_imputed = imputer.fit_transform(X)\n",
    "\n",
    "# Split data into training and testing sets\n",
    "X_train, X_test, y_train, y_test = train_test_split(X_imputed, y, test_size=0.2, random_state=42)\n",
    "\n",
    "# Train a logistic regression model with class balancing and regularization\n",
    "logistic_model = LogisticRegression(max_iter=1000, class_weight='balanced', C=0.5)\n",
    "logistic_model.fit(X_train, y_train)\n",
    "\n",
    "# Make predictions\n",
    "y_pred_logistic = logistic_model.predict(X_test)\n",
    "\n",
    "# Evaluate the model\n",
    "accuracy = accuracy_score(y_test, y_pred_logistic)\n",
    "conf_matrix = confusion_matrix(y_test, y_pred_logistic)\n",
    "class_report = classification_report(y_test, y_pred_logistic)\n",
    "\n",
    "# Display results\n",
    "print(f\"Logistic Regression Model Accuracy: {accuracy * 100:.2f}%\")\n",
    "print(\"Confusion Matrix:\")\n",
    "print(conf_matrix)\n",
    "print(\"Classification Report:\")\n",
    "print(class_report)\n",
    "\n",
    "# Save the model using KedroSession\n",
    "with KedroSession.create() as session:\n",
    "    context = session.load_context()\n",
    "    catalog = context.catalog\n",
    "    catalog.save(\"logistic_regression_model\", logistic_model)\n",
    "\n",
    "print('Logistic Regression model saved successfully in the data/06_models folder')\n"
   ]
  },
  {
   "cell_type": "markdown",
   "id": "7338a8d5-425d-492f-8ed9-83bd8fb8b719",
   "metadata": {},
   "source": [
    "This Random Forest model, balanced with SMOTE and tuned to improve predictions across classes, evaluates mental health treatment needs with high accuracy."
   ]
  },
  {
   "cell_type": "code",
   "execution_count": 15,
   "id": "8958491f-ef7c-4a9d-806a-f5552f5388ba",
   "metadata": {},
   "outputs": [
    {
     "name": "stdout",
     "output_type": "stream",
     "text": [
      "Random Forest model accuracy after SMOTE and class_weight='balanced': 63.68%\n",
      "Confusion Matrix:\n",
      "[[23948  5647]\n",
      " [15800 13648]]\n",
      "Classification Report:\n",
      "              precision    recall  f1-score   support\n",
      "\n",
      "           0       0.60      0.81      0.69     29595\n",
      "           1       0.71      0.46      0.56     29448\n",
      "\n",
      "    accuracy                           0.64     59043\n",
      "   macro avg       0.65      0.64      0.63     59043\n",
      "weighted avg       0.65      0.64      0.63     59043\n",
      "\n",
      "Average accuracy with cross-validation: 63.76%\n",
      "Mental_Health_History: 0.0057\n",
      "Growing_Stress: 0.0053\n",
      "Coping_Struggles: 0.0025\n",
      "Social_Weakness: 0.0060\n",
      "care_options: 0.9805\n"
     ]
    },
    {
     "data": {
      "text/html": [
       "<pre style=\"white-space:pre;overflow-x:auto;line-height:normal;font-family:Menlo,'DejaVu Sans Mono',consolas,'Courier New',monospace\"><span style=\"color: #7fbfbf; text-decoration-color: #7fbfbf\">[10/26/24 15:50:45] </span><span style=\"color: #000080; text-decoration-color: #000080\">INFO    </span> Kedro is sending anonymous usage data with the sole purpose of improving <a href=\"file://C:\\Users\\jampu\\OneDrive\\Desktop\\salud_mental\\venv\\Lib\\site-packages\\kedro_telemetry\\plugin.py\" target=\"_blank\"><span style=\"color: #7f7f7f; text-decoration-color: #7f7f7f\">plugin.py</span></a><span style=\"color: #7f7f7f; text-decoration-color: #7f7f7f\">:</span><a href=\"file://C:\\Users\\jampu\\OneDrive\\Desktop\\salud_mental\\venv\\Lib\\site-packages\\kedro_telemetry\\plugin.py#233\" target=\"_blank\"><span style=\"color: #7f7f7f; text-decoration-color: #7f7f7f\">233</span></a>\n",
       "<span style=\"color: #7fbfbf; text-decoration-color: #7fbfbf\">                    </span>         the product. No personal data or IP addresses are stored on our side. If <span style=\"color: #7f7f7f; text-decoration-color: #7f7f7f\">             </span>\n",
       "<span style=\"color: #7fbfbf; text-decoration-color: #7fbfbf\">                    </span>         you want to opt out, set the `KEDRO_DISABLE_TELEMETRY` or `DO_NOT_TRACK` <span style=\"color: #7f7f7f; text-decoration-color: #7f7f7f\">             </span>\n",
       "<span style=\"color: #7fbfbf; text-decoration-color: #7fbfbf\">                    </span>         environment variables, or create a `.telemetry` file in the current      <span style=\"color: #7f7f7f; text-decoration-color: #7f7f7f\">             </span>\n",
       "<span style=\"color: #7fbfbf; text-decoration-color: #7fbfbf\">                    </span>         working directory with the contents `consent: false`. Read more at       <span style=\"color: #7f7f7f; text-decoration-color: #7f7f7f\">             </span>\n",
       "<span style=\"color: #7fbfbf; text-decoration-color: #7fbfbf\">                    </span>         <span style=\"color: #0000ff; text-decoration-color: #0000ff; text-decoration: underline\">https://docs.kedro.org/en/stable/configuration/telemetry.html</span>            <span style=\"color: #7f7f7f; text-decoration-color: #7f7f7f\">             </span>\n",
       "</pre>\n"
      ],
      "text/plain": [
       "\u001b[2;36m[10/26/24 15:50:45]\u001b[0m\u001b[2;36m \u001b[0m\u001b[34mINFO    \u001b[0m Kedro is sending anonymous usage data with the sole purpose of improving \u001b]8;id=391738;file://C:\\Users\\jampu\\OneDrive\\Desktop\\salud_mental\\venv\\Lib\\site-packages\\kedro_telemetry\\plugin.py\u001b\\\u001b[2mplugin.py\u001b[0m\u001b]8;;\u001b\\\u001b[2m:\u001b[0m\u001b]8;id=380429;file://C:\\Users\\jampu\\OneDrive\\Desktop\\salud_mental\\venv\\Lib\\site-packages\\kedro_telemetry\\plugin.py#233\u001b\\\u001b[2m233\u001b[0m\u001b]8;;\u001b\\\n",
       "\u001b[2;36m                    \u001b[0m         the product. No personal data or IP addresses are stored on our side. If \u001b[2m             \u001b[0m\n",
       "\u001b[2;36m                    \u001b[0m         you want to opt out, set the `KEDRO_DISABLE_TELEMETRY` or `DO_NOT_TRACK` \u001b[2m             \u001b[0m\n",
       "\u001b[2;36m                    \u001b[0m         environment variables, or create a `.telemetry` file in the current      \u001b[2m             \u001b[0m\n",
       "\u001b[2;36m                    \u001b[0m         working directory with the contents `consent: false`. Read more at       \u001b[2m             \u001b[0m\n",
       "\u001b[2;36m                    \u001b[0m         \u001b[4;94mhttps://docs.kedro.org/en/stable/configuration/telemetry.html\u001b[0m            \u001b[2m             \u001b[0m\n"
      ]
     },
     "metadata": {},
     "output_type": "display_data"
    },
    {
     "data": {
      "text/html": [
       "<pre style=\"white-space:pre;overflow-x:auto;line-height:normal;font-family:Menlo,'DejaVu Sans Mono',consolas,'Courier New',monospace\"><span style=\"color: #7fbfbf; text-decoration-color: #7fbfbf\">                    </span><span style=\"color: #000080; text-decoration-color: #000080\">INFO    </span> Saving data to <span style=\"color: #ff8700; text-decoration-color: #ff8700\">rf_model</span> <span style=\"font-weight: bold\">(</span>PickleDataset<span style=\"font-weight: bold\">)</span><span style=\"color: #808000; text-decoration-color: #808000\">...</span>                         <a href=\"file://C:\\Users\\jampu\\OneDrive\\Desktop\\salud_mental\\venv\\Lib\\site-packages\\kedro\\io\\data_catalog.py\" target=\"_blank\"><span style=\"color: #7f7f7f; text-decoration-color: #7f7f7f\">data_catalog.py</span></a><span style=\"color: #7f7f7f; text-decoration-color: #7f7f7f\">:</span><a href=\"file://C:\\Users\\jampu\\OneDrive\\Desktop\\salud_mental\\venv\\Lib\\site-packages\\kedro\\io\\data_catalog.py#581\" target=\"_blank\"><span style=\"color: #7f7f7f; text-decoration-color: #7f7f7f\">581</span></a>\n",
       "</pre>\n"
      ],
      "text/plain": [
       "\u001b[2;36m                   \u001b[0m\u001b[2;36m \u001b[0m\u001b[34mINFO    \u001b[0m Saving data to \u001b[38;5;208mrf_model\u001b[0m \u001b[1m(\u001b[0mPickleDataset\u001b[1m)\u001b[0m\u001b[33m...\u001b[0m                         \u001b]8;id=403766;file://C:\\Users\\jampu\\OneDrive\\Desktop\\salud_mental\\venv\\Lib\\site-packages\\kedro\\io\\data_catalog.py\u001b\\\u001b[2mdata_catalog.py\u001b[0m\u001b]8;;\u001b\\\u001b[2m:\u001b[0m\u001b]8;id=704611;file://C:\\Users\\jampu\\OneDrive\\Desktop\\salud_mental\\venv\\Lib\\site-packages\\kedro\\io\\data_catalog.py#581\u001b\\\u001b[2m581\u001b[0m\u001b]8;;\u001b\\\n"
      ]
     },
     "metadata": {},
     "output_type": "display_data"
    },
    {
     "name": "stdout",
     "output_type": "stream",
     "text": [
      "Random Forest model saved successfully in the data/06_models folder\n"
     ]
    }
   ],
   "source": [
    "# Step 1: Select relevant features based on hypothesis\n",
    "features = ['Mental_Health_History', 'Growing_Stress', 'Coping_Struggles', \n",
    "            'Social_Weakness', 'care_options']\n",
    "\n",
    "X = df[features]\n",
    "y = df['treatment']\n",
    "\n",
    "# Impute missing values in features using median\n",
    "imputer = SimpleImputer(strategy='median')\n",
    "X_imputed = imputer.fit_transform(X)\n",
    "\n",
    "# Step 2: Class balancing with SMOTE\n",
    "smote = SMOTE(random_state=42)\n",
    "X_resampled, y_resampled = smote.fit_resample(X_imputed, y)\n",
    "\n",
    "# Step 3: Split data into training and test sets\n",
    "X_train, X_test, y_train, y_test = train_test_split(X_resampled, y_resampled, test_size=0.2, random_state=42)\n",
    "\n",
    "# Step 4: Train the classifier model (Random Forest) with class_weight='balanced'\n",
    "rf_model = RandomForestClassifier(random_state=42, class_weight='balanced')\n",
    "rf_model.fit(X_train, y_train)\n",
    "\n",
    "# Step 5: Make predictions and evaluate the model\n",
    "y_pred_rf = rf_model.predict(X_test)\n",
    "\n",
    "# Model evaluation\n",
    "accuracy = accuracy_score(y_test, y_pred_rf)\n",
    "conf_matrix = confusion_matrix(y_test, y_pred_rf)\n",
    "class_report = classification_report(y_test, y_pred_rf)\n",
    "\n",
    "# Show results\n",
    "print(f\"Random Forest model accuracy after SMOTE and class_weight='balanced': {accuracy * 100:.2f}%\")\n",
    "print(\"Confusion Matrix:\")\n",
    "print(conf_matrix)\n",
    "print(\"Classification Report:\")\n",
    "print(class_report)\n",
    "\n",
    "# Step 6: Stratified cross-validation\n",
    "skf = StratifiedKFold(n_splits=5, shuffle=True, random_state=42)\n",
    "scores = cross_val_score(rf_model, X_resampled, y_resampled, cv=skf, scoring='accuracy')\n",
    "\n",
    "# Show average cross-validation scores\n",
    "print(f'Average accuracy with cross-validation: {scores.mean() * 100:.2f}%')\n",
    "\n",
    "# Feature importance\n",
    "importances = rf_model.feature_importances_\n",
    "for feature, importance in zip(features, importances):\n",
    "    print(f\"{feature}: {importance:.4f}\")\n",
    "\n",
    "# Use KedroSession to save the model\n",
    "with KedroSession.create() as session:\n",
    "    context = session.load_context()\n",
    "    catalog = context.catalog\n",
    "    catalog.save(\"rf_model\", rf_model)\n",
    "\n",
    "print('Random Forest model saved successfully in the data/06_models folder')\n"
   ]
  },
  {
   "cell_type": "markdown",
   "id": "519b0d76-8231-4862-aa29-06adbfb0663d",
   "metadata": {},
   "source": [
    "This K-Nearest Neighbors (K-NN) model applies class balancing and scaling techniques, aiming to improve prediction accuracy on mental health treatment data, with cross-validation for robustness."
   ]
  },
  {
   "cell_type": "code",
   "execution_count": 16,
   "id": "c77d9eb5-ff0c-45c8-a0ed-004c81ab5922",
   "metadata": {},
   "outputs": [
    {
     "name": "stdout",
     "output_type": "stream",
     "text": [
      "K-NN model accuracy after SMOTE and scaling: 55.80%\n",
      "Confusion Matrix:\n",
      "[[16581 13014]\n",
      " [13084 16364]]\n",
      "Classification Report:\n",
      "              precision    recall  f1-score   support\n",
      "\n",
      "           0       0.56      0.56      0.56     29595\n",
      "           1       0.56      0.56      0.56     29448\n",
      "\n",
      "    accuracy                           0.56     59043\n",
      "   macro avg       0.56      0.56      0.56     59043\n",
      "weighted avg       0.56      0.56      0.56     59043\n",
      "\n",
      "Average accuracy with cross-validation: 55.37%\n"
     ]
    },
    {
     "data": {
      "text/html": [
       "<pre style=\"white-space:pre;overflow-x:auto;line-height:normal;font-family:Menlo,'DejaVu Sans Mono',consolas,'Courier New',monospace\"><span style=\"color: #7fbfbf; text-decoration-color: #7fbfbf\">[10/26/24 16:05:57] </span><span style=\"color: #000080; text-decoration-color: #000080\">INFO    </span> Kedro is sending anonymous usage data with the sole purpose of improving <a href=\"file://C:\\Users\\jampu\\OneDrive\\Desktop\\salud_mental\\venv\\Lib\\site-packages\\kedro_telemetry\\plugin.py\" target=\"_blank\"><span style=\"color: #7f7f7f; text-decoration-color: #7f7f7f\">plugin.py</span></a><span style=\"color: #7f7f7f; text-decoration-color: #7f7f7f\">:</span><a href=\"file://C:\\Users\\jampu\\OneDrive\\Desktop\\salud_mental\\venv\\Lib\\site-packages\\kedro_telemetry\\plugin.py#233\" target=\"_blank\"><span style=\"color: #7f7f7f; text-decoration-color: #7f7f7f\">233</span></a>\n",
       "<span style=\"color: #7fbfbf; text-decoration-color: #7fbfbf\">                    </span>         the product. No personal data or IP addresses are stored on our side. If <span style=\"color: #7f7f7f; text-decoration-color: #7f7f7f\">             </span>\n",
       "<span style=\"color: #7fbfbf; text-decoration-color: #7fbfbf\">                    </span>         you want to opt out, set the `KEDRO_DISABLE_TELEMETRY` or `DO_NOT_TRACK` <span style=\"color: #7f7f7f; text-decoration-color: #7f7f7f\">             </span>\n",
       "<span style=\"color: #7fbfbf; text-decoration-color: #7fbfbf\">                    </span>         environment variables, or create a `.telemetry` file in the current      <span style=\"color: #7f7f7f; text-decoration-color: #7f7f7f\">             </span>\n",
       "<span style=\"color: #7fbfbf; text-decoration-color: #7fbfbf\">                    </span>         working directory with the contents `consent: false`. Read more at       <span style=\"color: #7f7f7f; text-decoration-color: #7f7f7f\">             </span>\n",
       "<span style=\"color: #7fbfbf; text-decoration-color: #7fbfbf\">                    </span>         <span style=\"color: #0000ff; text-decoration-color: #0000ff; text-decoration: underline\">https://docs.kedro.org/en/stable/configuration/telemetry.html</span>            <span style=\"color: #7f7f7f; text-decoration-color: #7f7f7f\">             </span>\n",
       "</pre>\n"
      ],
      "text/plain": [
       "\u001b[2;36m[10/26/24 16:05:57]\u001b[0m\u001b[2;36m \u001b[0m\u001b[34mINFO    \u001b[0m Kedro is sending anonymous usage data with the sole purpose of improving \u001b]8;id=674881;file://C:\\Users\\jampu\\OneDrive\\Desktop\\salud_mental\\venv\\Lib\\site-packages\\kedro_telemetry\\plugin.py\u001b\\\u001b[2mplugin.py\u001b[0m\u001b]8;;\u001b\\\u001b[2m:\u001b[0m\u001b]8;id=370549;file://C:\\Users\\jampu\\OneDrive\\Desktop\\salud_mental\\venv\\Lib\\site-packages\\kedro_telemetry\\plugin.py#233\u001b\\\u001b[2m233\u001b[0m\u001b]8;;\u001b\\\n",
       "\u001b[2;36m                    \u001b[0m         the product. No personal data or IP addresses are stored on our side. If \u001b[2m             \u001b[0m\n",
       "\u001b[2;36m                    \u001b[0m         you want to opt out, set the `KEDRO_DISABLE_TELEMETRY` or `DO_NOT_TRACK` \u001b[2m             \u001b[0m\n",
       "\u001b[2;36m                    \u001b[0m         environment variables, or create a `.telemetry` file in the current      \u001b[2m             \u001b[0m\n",
       "\u001b[2;36m                    \u001b[0m         working directory with the contents `consent: false`. Read more at       \u001b[2m             \u001b[0m\n",
       "\u001b[2;36m                    \u001b[0m         \u001b[4;94mhttps://docs.kedro.org/en/stable/configuration/telemetry.html\u001b[0m            \u001b[2m             \u001b[0m\n"
      ]
     },
     "metadata": {},
     "output_type": "display_data"
    },
    {
     "data": {
      "text/html": [
       "<pre style=\"white-space:pre;overflow-x:auto;line-height:normal;font-family:Menlo,'DejaVu Sans Mono',consolas,'Courier New',monospace\"><span style=\"color: #7fbfbf; text-decoration-color: #7fbfbf\">                    </span><span style=\"color: #000080; text-decoration-color: #000080\">INFO    </span> Saving data to <span style=\"color: #ff8700; text-decoration-color: #ff8700\">knn_model</span> <span style=\"font-weight: bold\">(</span>PickleDataset<span style=\"font-weight: bold\">)</span><span style=\"color: #808000; text-decoration-color: #808000\">...</span>                        <a href=\"file://C:\\Users\\jampu\\OneDrive\\Desktop\\salud_mental\\venv\\Lib\\site-packages\\kedro\\io\\data_catalog.py\" target=\"_blank\"><span style=\"color: #7f7f7f; text-decoration-color: #7f7f7f\">data_catalog.py</span></a><span style=\"color: #7f7f7f; text-decoration-color: #7f7f7f\">:</span><a href=\"file://C:\\Users\\jampu\\OneDrive\\Desktop\\salud_mental\\venv\\Lib\\site-packages\\kedro\\io\\data_catalog.py#581\" target=\"_blank\"><span style=\"color: #7f7f7f; text-decoration-color: #7f7f7f\">581</span></a>\n",
       "</pre>\n"
      ],
      "text/plain": [
       "\u001b[2;36m                   \u001b[0m\u001b[2;36m \u001b[0m\u001b[34mINFO    \u001b[0m Saving data to \u001b[38;5;208mknn_model\u001b[0m \u001b[1m(\u001b[0mPickleDataset\u001b[1m)\u001b[0m\u001b[33m...\u001b[0m                        \u001b]8;id=742879;file://C:\\Users\\jampu\\OneDrive\\Desktop\\salud_mental\\venv\\Lib\\site-packages\\kedro\\io\\data_catalog.py\u001b\\\u001b[2mdata_catalog.py\u001b[0m\u001b]8;;\u001b\\\u001b[2m:\u001b[0m\u001b]8;id=842646;file://C:\\Users\\jampu\\OneDrive\\Desktop\\salud_mental\\venv\\Lib\\site-packages\\kedro\\io\\data_catalog.py#581\u001b\\\u001b[2m581\u001b[0m\u001b]8;;\u001b\\\n"
      ]
     },
     "metadata": {},
     "output_type": "display_data"
    },
    {
     "name": "stdout",
     "output_type": "stream",
     "text": [
      "K-NN model saved successfully in the data/06_models folder\n"
     ]
    }
   ],
   "source": [
    "# Step 1: Select relevant features based on hypothesis\n",
    "features = ['Mental_Health_History', 'Growing_Stress', 'Coping_Struggles', \n",
    "            'Social_Weakness', 'care_options']\n",
    "\n",
    "X = df[features]\n",
    "y = df['treatment']  # Using 'treatment' as the target variable\n",
    "\n",
    "# Impute missing values in features using median\n",
    "imputer = SimpleImputer(strategy='median')\n",
    "X_imputed = imputer.fit_transform(X)\n",
    "\n",
    "# Step 2: Feature scaling\n",
    "scaler = StandardScaler()\n",
    "X_scaled = scaler.fit_transform(X_imputed)\n",
    "\n",
    "# Step 3: Class balancing with SMOTE\n",
    "smote = SMOTE(random_state=42)\n",
    "X_resampled, y_resampled = smote.fit_resample(X_scaled, y)\n",
    "\n",
    "# Step 4: Split data into training and test sets\n",
    "X_train, X_test, y_train, y_test = train_test_split(X_resampled, y_resampled, test_size=0.2, random_state=42)\n",
    "\n",
    "# Step 5: Train the classification model (K-Nearest Neighbors - KNN)\n",
    "knn_model = KNeighborsClassifier(n_neighbors=5)  # Adjust 'k' as necessary\n",
    "knn_model.fit(X_train, y_train)\n",
    "\n",
    "# Step 6: Make predictions and evaluate the model\n",
    "y_pred_knn = knn_model.predict(X_test)\n",
    "\n",
    "# Model evaluation\n",
    "accuracy = accuracy_score(y_test, y_pred_knn)\n",
    "conf_matrix = confusion_matrix(y_test, y_pred_knn)\n",
    "class_report = classification_report(y_test, y_pred_knn)\n",
    "\n",
    "# Show results\n",
    "print(f\"K-NN model accuracy after SMOTE and scaling: {accuracy * 100:.2f}%\")\n",
    "print(\"Confusion Matrix:\")\n",
    "print(conf_matrix)\n",
    "print(\"Classification Report:\")\n",
    "print(class_report)\n",
    "\n",
    "# Step 7: Stratified cross-validation\n",
    "skf = StratifiedKFold(n_splits=5, shuffle=True, random_state=42)\n",
    "scores = cross_val_score(knn_model, X_resampled, y_resampled, cv=skf, scoring='accuracy')\n",
    "\n",
    "# Show average cross-validation scores\n",
    "print(f'Average accuracy with cross-validation: {scores.mean() * 100:.2f}%')\n",
    "\n",
    "# Use KedroSession to save the model\n",
    "with KedroSession.create() as session:\n",
    "    context = session.load_context()\n",
    "    catalog = context.catalog\n",
    "    catalog.save(\"knn_model\", knn_model)\n",
    "\n",
    "print('K-NN model saved successfully in the data/06_models folder')\n"
   ]
  },
  {
   "cell_type": "markdown",
   "id": "42015b95-6757-4fe9-8a2f-b25d7c04b971",
   "metadata": {},
   "source": [
    "**We will apply a new method called 'TPOT' where it will basically analyze the dataset and try to find the best appropriate model to meet our hypothesis.**"
   ]
  },
  {
   "cell_type": "code",
   "execution_count": 5,
   "id": "9a0ab4f4-f83f-4c6c-9a88-06475663c722",
   "metadata": {},
   "outputs": [
    {
     "data": {
      "application/vnd.jupyter.widget-view+json": {
       "model_id": "",
       "version_major": 2,
       "version_minor": 0
      },
      "text/plain": [
       "Optimization Progress:   0%|          | 0/300 [00:00<?, ?pipeline/s]"
      ]
     },
     "metadata": {},
     "output_type": "display_data"
    },
    {
     "name": "stdout",
     "output_type": "stream",
     "text": [
      "\n",
      "Generation 1 - Current best internal CV score: 0.6379033492175724\n",
      "\n",
      "Generation 2 - Current best internal CV score: 0.6379033492175724\n",
      "\n",
      "Generation 3 - Current best internal CV score: 0.6379033492175724\n",
      "\n",
      "Generation 4 - Current best internal CV score: 0.6379033492175724\n",
      "\n",
      "Generation 5 - Current best internal CV score: 0.6379033492175724\n",
      "\n",
      "Best pipeline: XGBClassifier(input_matrix, learning_rate=0.5, max_depth=4, min_child_weight=12, n_estimators=100, n_jobs=1, subsample=0.35000000000000003, verbosity=0)\n",
      "Accuracy en el conjunto de prueba: 63.70%\n"
     ]
    }
   ],
   "source": [
    "# Paso 1: Seleccionar las variables relevantes basadas en la hipótesis\n",
    "features = ['Mental_Health_History', 'Growing_Stress', 'Coping_Struggles', \n",
    "            'Social_Weakness', 'care_options']\n",
    "\n",
    "X = df[features]\n",
    "y = df['treatment']  # Usamos 'treatment' como variable objetivo\n",
    "\n",
    "# Paso 2: Imputar valores faltantes en las características usando la mediana\n",
    "imputer = SimpleImputer(strategy='median')\n",
    "X_imputed = imputer.fit_transform(X)\n",
    "\n",
    "# Paso 3: Escalar características\n",
    "scaler = StandardScaler()\n",
    "X_scaled = scaler.fit_transform(X_imputed)\n",
    "\n",
    "# Paso 4: Balancear clases con SMOTE\n",
    "smote = SMOTE(random_state=42)\n",
    "X_resampled, y_resampled = smote.fit_resample(X_scaled, y)\n",
    "\n",
    "# Paso 5: Dividir los datos en conjunto de entrenamiento y prueba\n",
    "X_train, X_test, y_train, y_test = train_test_split(X_resampled, y_resampled, test_size=0.2, random_state=42)\n",
    "\n",
    "# Paso 6: Usar TPOT para optimizar el modelo\n",
    "tpot = TPOTClassifier(verbosity=2, generations=5, population_size=50, random_state=42)\n",
    "tpot.fit(X_train, y_train)\n",
    "\n",
    "# Paso 7: Evaluar el rendimiento\n",
    "print(f\"Accuracy en el conjunto de prueba: {tpot.score(X_test, y_test) * 100:.2f}%\")\n",
    "\n",
    "# Exportar el pipeline optimizado\n",
    "tpot.export('tpot_optimized_pipeline.py')\n"
   ]
  },
  {
   "cell_type": "markdown",
   "id": "89d7ccbb-1fb3-4969-86c3-4425adad92a9",
   "metadata": {},
   "source": [
    "This model uses an XGBoost classifier with hyperparameters optimized by TPOT, applying label encoding and a train-test split to predict treatment outcomes, followed by performance evaluation."
   ]
  },
  {
   "cell_type": "code",
   "execution_count": 18,
   "id": "45ec44a7-7fc9-41ab-8565-35996cc32a77",
   "metadata": {},
   "outputs": [
    {
     "name": "stdout",
     "output_type": "stream",
     "text": [
      "Accuracy: 98.78%\n",
      "Classification Report:\n",
      "              precision    recall  f1-score   support\n",
      "\n",
      "           0       0.99      0.98      0.99     28895\n",
      "           1       0.98      0.99      0.99     29578\n",
      "\n",
      "    accuracy                           0.99     58473\n",
      "   macro avg       0.99      0.99      0.99     58473\n",
      "weighted avg       0.99      0.99      0.99     58473\n",
      "\n",
      "Confusion Matrix:\n",
      "[[28336   559]\n",
      " [  152 29426]]\n"
     ]
    },
    {
     "data": {
      "text/html": [
       "<pre style=\"white-space:pre;overflow-x:auto;line-height:normal;font-family:Menlo,'DejaVu Sans Mono',consolas,'Courier New',monospace\"><span style=\"color: #7fbfbf; text-decoration-color: #7fbfbf\">[10/26/24 16:14:37] </span><span style=\"color: #000080; text-decoration-color: #000080\">INFO    </span> Kedro is sending anonymous usage data with the sole purpose of improving <a href=\"file://C:\\Users\\jampu\\OneDrive\\Desktop\\salud_mental\\venv\\Lib\\site-packages\\kedro_telemetry\\plugin.py\" target=\"_blank\"><span style=\"color: #7f7f7f; text-decoration-color: #7f7f7f\">plugin.py</span></a><span style=\"color: #7f7f7f; text-decoration-color: #7f7f7f\">:</span><a href=\"file://C:\\Users\\jampu\\OneDrive\\Desktop\\salud_mental\\venv\\Lib\\site-packages\\kedro_telemetry\\plugin.py#233\" target=\"_blank\"><span style=\"color: #7f7f7f; text-decoration-color: #7f7f7f\">233</span></a>\n",
       "<span style=\"color: #7fbfbf; text-decoration-color: #7fbfbf\">                    </span>         the product. No personal data or IP addresses are stored on our side. If <span style=\"color: #7f7f7f; text-decoration-color: #7f7f7f\">             </span>\n",
       "<span style=\"color: #7fbfbf; text-decoration-color: #7fbfbf\">                    </span>         you want to opt out, set the `KEDRO_DISABLE_TELEMETRY` or `DO_NOT_TRACK` <span style=\"color: #7f7f7f; text-decoration-color: #7f7f7f\">             </span>\n",
       "<span style=\"color: #7fbfbf; text-decoration-color: #7fbfbf\">                    </span>         environment variables, or create a `.telemetry` file in the current      <span style=\"color: #7f7f7f; text-decoration-color: #7f7f7f\">             </span>\n",
       "<span style=\"color: #7fbfbf; text-decoration-color: #7fbfbf\">                    </span>         working directory with the contents `consent: false`. Read more at       <span style=\"color: #7f7f7f; text-decoration-color: #7f7f7f\">             </span>\n",
       "<span style=\"color: #7fbfbf; text-decoration-color: #7fbfbf\">                    </span>         <span style=\"color: #0000ff; text-decoration-color: #0000ff; text-decoration: underline\">https://docs.kedro.org/en/stable/configuration/telemetry.html</span>            <span style=\"color: #7f7f7f; text-decoration-color: #7f7f7f\">             </span>\n",
       "</pre>\n"
      ],
      "text/plain": [
       "\u001b[2;36m[10/26/24 16:14:37]\u001b[0m\u001b[2;36m \u001b[0m\u001b[34mINFO    \u001b[0m Kedro is sending anonymous usage data with the sole purpose of improving \u001b]8;id=637882;file://C:\\Users\\jampu\\OneDrive\\Desktop\\salud_mental\\venv\\Lib\\site-packages\\kedro_telemetry\\plugin.py\u001b\\\u001b[2mplugin.py\u001b[0m\u001b]8;;\u001b\\\u001b[2m:\u001b[0m\u001b]8;id=65121;file://C:\\Users\\jampu\\OneDrive\\Desktop\\salud_mental\\venv\\Lib\\site-packages\\kedro_telemetry\\plugin.py#233\u001b\\\u001b[2m233\u001b[0m\u001b]8;;\u001b\\\n",
       "\u001b[2;36m                    \u001b[0m         the product. No personal data or IP addresses are stored on our side. If \u001b[2m             \u001b[0m\n",
       "\u001b[2;36m                    \u001b[0m         you want to opt out, set the `KEDRO_DISABLE_TELEMETRY` or `DO_NOT_TRACK` \u001b[2m             \u001b[0m\n",
       "\u001b[2;36m                    \u001b[0m         environment variables, or create a `.telemetry` file in the current      \u001b[2m             \u001b[0m\n",
       "\u001b[2;36m                    \u001b[0m         working directory with the contents `consent: false`. Read more at       \u001b[2m             \u001b[0m\n",
       "\u001b[2;36m                    \u001b[0m         \u001b[4;94mhttps://docs.kedro.org/en/stable/configuration/telemetry.html\u001b[0m            \u001b[2m             \u001b[0m\n"
      ]
     },
     "metadata": {},
     "output_type": "display_data"
    },
    {
     "data": {
      "text/html": [
       "<pre style=\"white-space:pre;overflow-x:auto;line-height:normal;font-family:Menlo,'DejaVu Sans Mono',consolas,'Courier New',monospace\"><span style=\"color: #7fbfbf; text-decoration-color: #7fbfbf\">                    </span><span style=\"color: #000080; text-decoration-color: #000080\">INFO    </span> Saving data to <span style=\"color: #ff8700; text-decoration-color: #ff8700\">xgb_model</span> <span style=\"font-weight: bold\">(</span>PickleDataset<span style=\"font-weight: bold\">)</span><span style=\"color: #808000; text-decoration-color: #808000\">...</span>                        <a href=\"file://C:\\Users\\jampu\\OneDrive\\Desktop\\salud_mental\\venv\\Lib\\site-packages\\kedro\\io\\data_catalog.py\" target=\"_blank\"><span style=\"color: #7f7f7f; text-decoration-color: #7f7f7f\">data_catalog.py</span></a><span style=\"color: #7f7f7f; text-decoration-color: #7f7f7f\">:</span><a href=\"file://C:\\Users\\jampu\\OneDrive\\Desktop\\salud_mental\\venv\\Lib\\site-packages\\kedro\\io\\data_catalog.py#581\" target=\"_blank\"><span style=\"color: #7f7f7f; text-decoration-color: #7f7f7f\">581</span></a>\n",
       "</pre>\n"
      ],
      "text/plain": [
       "\u001b[2;36m                   \u001b[0m\u001b[2;36m \u001b[0m\u001b[34mINFO    \u001b[0m Saving data to \u001b[38;5;208mxgb_model\u001b[0m \u001b[1m(\u001b[0mPickleDataset\u001b[1m)\u001b[0m\u001b[33m...\u001b[0m                        \u001b]8;id=716739;file://C:\\Users\\jampu\\OneDrive\\Desktop\\salud_mental\\venv\\Lib\\site-packages\\kedro\\io\\data_catalog.py\u001b\\\u001b[2mdata_catalog.py\u001b[0m\u001b]8;;\u001b\\\u001b[2m:\u001b[0m\u001b]8;id=639698;file://C:\\Users\\jampu\\OneDrive\\Desktop\\salud_mental\\venv\\Lib\\site-packages\\kedro\\io\\data_catalog.py#581\u001b\\\u001b[2m581\u001b[0m\u001b]8;;\u001b\\\n"
      ]
     },
     "metadata": {},
     "output_type": "display_data"
    },
    {
     "name": "stdout",
     "output_type": "stream",
     "text": [
      "Model successfully saved in data/06_models\n"
     ]
    }
   ],
   "source": [
    "# Load the dataset\n",
    "tpot_data = pd.read_csv('./mapped_data.csv')\n",
    "\n",
    "# Convert categorical columns to numeric using Label Encoding\n",
    "label_encoder = LabelEncoder()\n",
    "\n",
    "# List of categorical columns to convert\n",
    "categorical_columns = ['Timestamp', 'Gender', 'Country', 'Occupation', 'Days_Indoors', 'Mood_Swings']\n",
    "\n",
    "for col in categorical_columns:\n",
    "    tpot_data[col] = label_encoder.fit_transform(tpot_data[col])\n",
    "\n",
    "# Ensure to replace 'treatment' with the correct target column name\n",
    "features = tpot_data.drop('treatment', axis=1)  # Target column is 'treatment'; adjust if it’s different\n",
    "target = tpot_data['treatment']\n",
    "\n",
    "# Split the data into training and testing sets\n",
    "training_features, testing_features, training_target, testing_target = train_test_split(features, target, test_size=0.2, random_state=42)\n",
    "\n",
    "# Create the model using hyperparameters obtained from TPOT\n",
    "exported_pipeline = XGBClassifier(learning_rate=0.5, max_depth=4, min_child_weight=12,\n",
    "                                  n_estimators=100, n_jobs=1, subsample=0.35, verbosity=0)\n",
    "\n",
    "# Train the model\n",
    "exported_pipeline.fit(training_features, training_target)\n",
    "\n",
    "# Make predictions\n",
    "results = exported_pipeline.predict(testing_features)\n",
    "\n",
    "# Evaluate the model\n",
    "accuracy = accuracy_score(testing_target, results)\n",
    "print(f'Accuracy: {accuracy * 100:.2f}%')\n",
    "\n",
    "# Classification report\n",
    "print(\"Classification Report:\")\n",
    "print(classification_report(testing_target, results))\n",
    "\n",
    "# Confusion matrix\n",
    "print(\"Confusion Matrix:\")\n",
    "print(confusion_matrix(testing_target, results))\n",
    "\n",
    "# Use KedroSession to save the model\n",
    "with KedroSession.create() as session:\n",
    "    context = session.load_context()\n",
    "    catalog = context.catalog\n",
    "    catalog.save(\"xgb_model\", exported_pipeline)\n",
    "\n",
    "print('Model successfully saved in data/06_models')\n"
   ]
  },
  {
   "cell_type": "code",
   "execution_count": null,
   "id": "98b6c81d-2613-4129-af30-08cb5e7dc0ed",
   "metadata": {},
   "outputs": [],
   "source": []
  }
 ],
 "metadata": {
  "kernelspec": {
   "display_name": "Python 3 (ipykernel)",
   "language": "python",
   "name": "python3"
  },
  "language_info": {
   "codemirror_mode": {
    "name": "ipython",
    "version": 3
   },
   "file_extension": ".py",
   "mimetype": "text/x-python",
   "name": "python",
   "nbconvert_exporter": "python",
   "pygments_lexer": "ipython3",
   "version": "3.12.4"
  }
 },
 "nbformat": 4,
 "nbformat_minor": 5
}
