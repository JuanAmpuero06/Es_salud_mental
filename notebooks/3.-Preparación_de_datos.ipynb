{
 "cells": [
  {
   "cell_type": "code",
   "execution_count": 1,
   "id": "a41e1ece-ddaf-4ff2-92a8-b09d1a067630",
   "metadata": {
    "scrolled": true
   },
   "outputs": [
    {
     "data": {
      "text/html": [
       "<pre style=\"white-space:pre;overflow-x:auto;line-height:normal;font-family:Menlo,'DejaVu Sans Mono',consolas,'Courier New',monospace\"><span style=\"color: #7fbfbf; text-decoration-color: #7fbfbf\">[10/07/24 19:01:36] </span><span style=\"color: #000080; text-decoration-color: #000080\">INFO    </span> Using                                                                  <a href=\"file://C:\\Users\\matia\\OneDrive\\Escritorio\\machine\\.venv\\lib\\site-packages\\kedro\\framework\\project\\__init__.py\" target=\"_blank\"><span style=\"color: #7f7f7f; text-decoration-color: #7f7f7f\">__init__.py</span></a><span style=\"color: #7f7f7f; text-decoration-color: #7f7f7f\">:</span><a href=\"file://C:\\Users\\matia\\OneDrive\\Escritorio\\machine\\.venv\\lib\\site-packages\\kedro\\framework\\project\\__init__.py#249\" target=\"_blank\"><span style=\"color: #7f7f7f; text-decoration-color: #7f7f7f\">249</span></a>\n",
       "<span style=\"color: #7fbfbf; text-decoration-color: #7fbfbf\">                    </span>         <span style=\"color: #008000; text-decoration-color: #008000\">'C:\\Users\\matia\\OneDrive\\Escritorio\\machine\\.venv\\lib\\site-packages\\ke</span> <span style=\"color: #7f7f7f; text-decoration-color: #7f7f7f\">               </span>\n",
       "<span style=\"color: #7fbfbf; text-decoration-color: #7fbfbf\">                    </span>         <span style=\"color: #008000; text-decoration-color: #008000\">dro\\framework\\project\\rich_logging.yml'</span> as logging configuration.      <span style=\"color: #7f7f7f; text-decoration-color: #7f7f7f\">               </span>\n",
       "</pre>\n"
      ],
      "text/plain": [
       "\u001b[2;36m[10/07/24 19:01:36]\u001b[0m\u001b[2;36m \u001b[0m\u001b[34mINFO    \u001b[0m Using                                                                  \u001b]8;id=267695;file://C:\\Users\\matia\\OneDrive\\Escritorio\\machine\\.venv\\lib\\site-packages\\kedro\\framework\\project\\__init__.py\u001b\\\u001b[2m__init__.py\u001b[0m\u001b]8;;\u001b\\\u001b[2m:\u001b[0m\u001b]8;id=19545;file://C:\\Users\\matia\\OneDrive\\Escritorio\\machine\\.venv\\lib\\site-packages\\kedro\\framework\\project\\__init__.py#249\u001b\\\u001b[2m249\u001b[0m\u001b]8;;\u001b\\\n",
       "\u001b[2;36m                    \u001b[0m         \u001b[32m'C:\\Users\\matia\\OneDrive\\Escritorio\\machine\\.venv\\lib\\site-packages\\ke\u001b[0m \u001b[2m               \u001b[0m\n",
       "\u001b[2;36m                    \u001b[0m         \u001b[32mdro\\framework\\project\\rich_logging.yml'\u001b[0m as logging configuration.      \u001b[2m               \u001b[0m\n"
      ]
     },
     "metadata": {},
     "output_type": "display_data"
    },
    {
     "data": {
      "text/html": [
       "<pre style=\"white-space:pre;overflow-x:auto;line-height:normal;font-family:Menlo,'DejaVu Sans Mono',consolas,'Courier New',monospace\"><span style=\"color: #7fbfbf; text-decoration-color: #7fbfbf\">                    </span><span style=\"color: #000080; text-decoration-color: #000080\">INFO    </span> Registered line magic <span style=\"color: #008000; text-decoration-color: #008000\">'%reload_kedro'</span>                                   <a href=\"file://C:\\Users\\matia\\OneDrive\\Escritorio\\machine\\.venv\\lib\\site-packages\\kedro\\ipython\\__init__.py\" target=\"_blank\"><span style=\"color: #7f7f7f; text-decoration-color: #7f7f7f\">__init__.py</span></a><span style=\"color: #7f7f7f; text-decoration-color: #7f7f7f\">:</span><a href=\"file://C:\\Users\\matia\\OneDrive\\Escritorio\\machine\\.venv\\lib\\site-packages\\kedro\\ipython\\__init__.py#58\" target=\"_blank\"><span style=\"color: #7f7f7f; text-decoration-color: #7f7f7f\">58</span></a>\n",
       "</pre>\n"
      ],
      "text/plain": [
       "\u001b[2;36m                   \u001b[0m\u001b[2;36m \u001b[0m\u001b[34mINFO    \u001b[0m Registered line magic \u001b[32m'%reload_kedro'\u001b[0m                                   \u001b]8;id=879924;file://C:\\Users\\matia\\OneDrive\\Escritorio\\machine\\.venv\\lib\\site-packages\\kedro\\ipython\\__init__.py\u001b\\\u001b[2m__init__.py\u001b[0m\u001b]8;;\u001b\\\u001b[2m:\u001b[0m\u001b]8;id=520409;file://C:\\Users\\matia\\OneDrive\\Escritorio\\machine\\.venv\\lib\\site-packages\\kedro\\ipython\\__init__.py#58\u001b\\\u001b[2m58\u001b[0m\u001b]8;;\u001b\\\n"
      ]
     },
     "metadata": {},
     "output_type": "display_data"
    },
    {
     "data": {
      "text/html": [
       "<pre style=\"white-space:pre;overflow-x:auto;line-height:normal;font-family:Menlo,'DejaVu Sans Mono',consolas,'Courier New',monospace\"><span style=\"color: #7fbfbf; text-decoration-color: #7fbfbf\">                    </span><span style=\"color: #000080; text-decoration-color: #000080\">INFO    </span> Registered line magic <span style=\"color: #008000; text-decoration-color: #008000\">'%load_node'</span>                                      <a href=\"file://C:\\Users\\matia\\OneDrive\\Escritorio\\machine\\.venv\\lib\\site-packages\\kedro\\ipython\\__init__.py\" target=\"_blank\"><span style=\"color: #7f7f7f; text-decoration-color: #7f7f7f\">__init__.py</span></a><span style=\"color: #7f7f7f; text-decoration-color: #7f7f7f\">:</span><a href=\"file://C:\\Users\\matia\\OneDrive\\Escritorio\\machine\\.venv\\lib\\site-packages\\kedro\\ipython\\__init__.py#60\" target=\"_blank\"><span style=\"color: #7f7f7f; text-decoration-color: #7f7f7f\">60</span></a>\n",
       "</pre>\n"
      ],
      "text/plain": [
       "\u001b[2;36m                   \u001b[0m\u001b[2;36m \u001b[0m\u001b[34mINFO    \u001b[0m Registered line magic \u001b[32m'%load_node'\u001b[0m                                      \u001b]8;id=434118;file://C:\\Users\\matia\\OneDrive\\Escritorio\\machine\\.venv\\lib\\site-packages\\kedro\\ipython\\__init__.py\u001b\\\u001b[2m__init__.py\u001b[0m\u001b]8;;\u001b\\\u001b[2m:\u001b[0m\u001b]8;id=857152;file://C:\\Users\\matia\\OneDrive\\Escritorio\\machine\\.venv\\lib\\site-packages\\kedro\\ipython\\__init__.py#60\u001b\\\u001b[2m60\u001b[0m\u001b]8;;\u001b\\\n"
      ]
     },
     "metadata": {},
     "output_type": "display_data"
    },
    {
     "data": {
      "text/html": [
       "<pre style=\"white-space:pre;overflow-x:auto;line-height:normal;font-family:Menlo,'DejaVu Sans Mono',consolas,'Courier New',monospace\"><span style=\"color: #7fbfbf; text-decoration-color: #7fbfbf\">                    </span><span style=\"color: #000080; text-decoration-color: #000080\">INFO    </span> Resolved project path as:                                              <a href=\"file://C:\\Users\\matia\\OneDrive\\Escritorio\\machine\\.venv\\lib\\site-packages\\kedro\\ipython\\__init__.py\" target=\"_blank\"><span style=\"color: #7f7f7f; text-decoration-color: #7f7f7f\">__init__.py</span></a><span style=\"color: #7f7f7f; text-decoration-color: #7f7f7f\">:</span><a href=\"file://C:\\Users\\matia\\OneDrive\\Escritorio\\machine\\.venv\\lib\\site-packages\\kedro\\ipython\\__init__.py#175\" target=\"_blank\"><span style=\"color: #7f7f7f; text-decoration-color: #7f7f7f\">175</span></a>\n",
       "<span style=\"color: #7fbfbf; text-decoration-color: #7fbfbf\">                    </span>         C:\\Users\\matia\\OneDrive\\Escritorio\\machine\\Es_salud_mental.            <span style=\"color: #7f7f7f; text-decoration-color: #7f7f7f\">               </span>\n",
       "<span style=\"color: #7fbfbf; text-decoration-color: #7fbfbf\">                    </span>         To set a different path, run <span style=\"color: #008000; text-decoration-color: #008000\">'%reload_kedro &lt;project_root&gt;'</span>            <span style=\"color: #7f7f7f; text-decoration-color: #7f7f7f\">               </span>\n",
       "</pre>\n"
      ],
      "text/plain": [
       "\u001b[2;36m                   \u001b[0m\u001b[2;36m \u001b[0m\u001b[34mINFO    \u001b[0m Resolved project path as:                                              \u001b]8;id=14494;file://C:\\Users\\matia\\OneDrive\\Escritorio\\machine\\.venv\\lib\\site-packages\\kedro\\ipython\\__init__.py\u001b\\\u001b[2m__init__.py\u001b[0m\u001b]8;;\u001b\\\u001b[2m:\u001b[0m\u001b]8;id=973163;file://C:\\Users\\matia\\OneDrive\\Escritorio\\machine\\.venv\\lib\\site-packages\\kedro\\ipython\\__init__.py#175\u001b\\\u001b[2m175\u001b[0m\u001b]8;;\u001b\\\n",
       "\u001b[2;36m                    \u001b[0m         C:\\Users\\matia\\OneDrive\\Escritorio\\machine\\Es_salud_mental.            \u001b[2m               \u001b[0m\n",
       "\u001b[2;36m                    \u001b[0m         To set a different path, run \u001b[32m'%reload_kedro \u001b[0m\u001b[32m<\u001b[0m\u001b[32mproject_root\u001b[0m\u001b[32m>\u001b[0m\u001b[32m'\u001b[0m            \u001b[2m               \u001b[0m\n"
      ]
     },
     "metadata": {},
     "output_type": "display_data"
    },
    {
     "data": {
      "text/html": [
       "<pre style=\"white-space:pre;overflow-x:auto;line-height:normal;font-family:Menlo,'DejaVu Sans Mono',consolas,'Courier New',monospace\"><span style=\"color: #7fbfbf; text-decoration-color: #7fbfbf\">[10/07/24 19:01:45] </span><span style=\"color: #000080; text-decoration-color: #000080\">INFO    </span> Kedro is sending anonymous usage data with the sole purpose of improving <a href=\"file://C:\\Users\\matia\\OneDrive\\Escritorio\\machine\\.venv\\lib\\site-packages\\kedro_telemetry\\plugin.py\" target=\"_blank\"><span style=\"color: #7f7f7f; text-decoration-color: #7f7f7f\">plugin.py</span></a><span style=\"color: #7f7f7f; text-decoration-color: #7f7f7f\">:</span><a href=\"file://C:\\Users\\matia\\OneDrive\\Escritorio\\machine\\.venv\\lib\\site-packages\\kedro_telemetry\\plugin.py#233\" target=\"_blank\"><span style=\"color: #7f7f7f; text-decoration-color: #7f7f7f\">233</span></a>\n",
       "<span style=\"color: #7fbfbf; text-decoration-color: #7fbfbf\">                    </span>         the product. No personal data or IP addresses are stored on our side. If <span style=\"color: #7f7f7f; text-decoration-color: #7f7f7f\">             </span>\n",
       "<span style=\"color: #7fbfbf; text-decoration-color: #7fbfbf\">                    </span>         you want to opt out, set the `KEDRO_DISABLE_TELEMETRY` or `DO_NOT_TRACK` <span style=\"color: #7f7f7f; text-decoration-color: #7f7f7f\">             </span>\n",
       "<span style=\"color: #7fbfbf; text-decoration-color: #7fbfbf\">                    </span>         environment variables, or create a `.telemetry` file in the current      <span style=\"color: #7f7f7f; text-decoration-color: #7f7f7f\">             </span>\n",
       "<span style=\"color: #7fbfbf; text-decoration-color: #7fbfbf\">                    </span>         working directory with the contents `consent: false`. Read more at       <span style=\"color: #7f7f7f; text-decoration-color: #7f7f7f\">             </span>\n",
       "<span style=\"color: #7fbfbf; text-decoration-color: #7fbfbf\">                    </span>         <span style=\"color: #0000ff; text-decoration-color: #0000ff; text-decoration: underline\">https://docs.kedro.org/en/stable/configuration/telemetry.html</span>            <span style=\"color: #7f7f7f; text-decoration-color: #7f7f7f\">             </span>\n",
       "</pre>\n"
      ],
      "text/plain": [
       "\u001b[2;36m[10/07/24 19:01:45]\u001b[0m\u001b[2;36m \u001b[0m\u001b[34mINFO    \u001b[0m Kedro is sending anonymous usage data with the sole purpose of improving \u001b]8;id=224315;file://C:\\Users\\matia\\OneDrive\\Escritorio\\machine\\.venv\\lib\\site-packages\\kedro_telemetry\\plugin.py\u001b\\\u001b[2mplugin.py\u001b[0m\u001b]8;;\u001b\\\u001b[2m:\u001b[0m\u001b]8;id=621511;file://C:\\Users\\matia\\OneDrive\\Escritorio\\machine\\.venv\\lib\\site-packages\\kedro_telemetry\\plugin.py#233\u001b\\\u001b[2m233\u001b[0m\u001b]8;;\u001b\\\n",
       "\u001b[2;36m                    \u001b[0m         the product. No personal data or IP addresses are stored on our side. If \u001b[2m             \u001b[0m\n",
       "\u001b[2;36m                    \u001b[0m         you want to opt out, set the `KEDRO_DISABLE_TELEMETRY` or `DO_NOT_TRACK` \u001b[2m             \u001b[0m\n",
       "\u001b[2;36m                    \u001b[0m         environment variables, or create a `.telemetry` file in the current      \u001b[2m             \u001b[0m\n",
       "\u001b[2;36m                    \u001b[0m         working directory with the contents `consent: false`. Read more at       \u001b[2m             \u001b[0m\n",
       "\u001b[2;36m                    \u001b[0m         \u001b[4;94mhttps://docs.kedro.org/en/stable/configuration/telemetry.html\u001b[0m            \u001b[2m             \u001b[0m\n"
      ]
     },
     "metadata": {},
     "output_type": "display_data"
    },
    {
     "data": {
      "text/html": [
       "<pre style=\"white-space:pre;overflow-x:auto;line-height:normal;font-family:Menlo,'DejaVu Sans Mono',consolas,'Courier New',monospace\"><span style=\"color: #7fbfbf; text-decoration-color: #7fbfbf\">[10/07/24 19:01:46] </span><span style=\"color: #000080; text-decoration-color: #000080\">INFO    </span> Kedro project psicologia                                               <a href=\"file://C:\\Users\\matia\\OneDrive\\Escritorio\\machine\\.venv\\lib\\site-packages\\kedro\\ipython\\__init__.py\" target=\"_blank\"><span style=\"color: #7f7f7f; text-decoration-color: #7f7f7f\">__init__.py</span></a><span style=\"color: #7f7f7f; text-decoration-color: #7f7f7f\">:</span><a href=\"file://C:\\Users\\matia\\OneDrive\\Escritorio\\machine\\.venv\\lib\\site-packages\\kedro\\ipython\\__init__.py#141\" target=\"_blank\"><span style=\"color: #7f7f7f; text-decoration-color: #7f7f7f\">141</span></a>\n",
       "</pre>\n"
      ],
      "text/plain": [
       "\u001b[2;36m[10/07/24 19:01:46]\u001b[0m\u001b[2;36m \u001b[0m\u001b[34mINFO    \u001b[0m Kedro project psicologia                                               \u001b]8;id=334320;file://C:\\Users\\matia\\OneDrive\\Escritorio\\machine\\.venv\\lib\\site-packages\\kedro\\ipython\\__init__.py\u001b\\\u001b[2m__init__.py\u001b[0m\u001b]8;;\u001b\\\u001b[2m:\u001b[0m\u001b]8;id=953051;file://C:\\Users\\matia\\OneDrive\\Escritorio\\machine\\.venv\\lib\\site-packages\\kedro\\ipython\\__init__.py#141\u001b\\\u001b[2m141\u001b[0m\u001b]8;;\u001b\\\n"
      ]
     },
     "metadata": {},
     "output_type": "display_data"
    },
    {
     "data": {
      "text/html": [
       "<pre style=\"white-space:pre;overflow-x:auto;line-height:normal;font-family:Menlo,'DejaVu Sans Mono',consolas,'Courier New',monospace\"><span style=\"color: #7fbfbf; text-decoration-color: #7fbfbf\">                    </span><span style=\"color: #000080; text-decoration-color: #000080\">INFO    </span> Defined global variable <span style=\"color: #008000; text-decoration-color: #008000\">'context'</span>, <span style=\"color: #008000; text-decoration-color: #008000\">'session'</span>, <span style=\"color: #008000; text-decoration-color: #008000\">'catalog'</span> and            <a href=\"file://C:\\Users\\matia\\OneDrive\\Escritorio\\machine\\.venv\\lib\\site-packages\\kedro\\ipython\\__init__.py\" target=\"_blank\"><span style=\"color: #7f7f7f; text-decoration-color: #7f7f7f\">__init__.py</span></a><span style=\"color: #7f7f7f; text-decoration-color: #7f7f7f\">:</span><a href=\"file://C:\\Users\\matia\\OneDrive\\Escritorio\\machine\\.venv\\lib\\site-packages\\kedro\\ipython\\__init__.py#142\" target=\"_blank\"><span style=\"color: #7f7f7f; text-decoration-color: #7f7f7f\">142</span></a>\n",
       "<span style=\"color: #7fbfbf; text-decoration-color: #7fbfbf\">                    </span>         <span style=\"color: #008000; text-decoration-color: #008000\">'pipelines'</span>                                                            <span style=\"color: #7f7f7f; text-decoration-color: #7f7f7f\">               </span>\n",
       "</pre>\n"
      ],
      "text/plain": [
       "\u001b[2;36m                   \u001b[0m\u001b[2;36m \u001b[0m\u001b[34mINFO    \u001b[0m Defined global variable \u001b[32m'context'\u001b[0m, \u001b[32m'session'\u001b[0m, \u001b[32m'catalog'\u001b[0m and            \u001b]8;id=265494;file://C:\\Users\\matia\\OneDrive\\Escritorio\\machine\\.venv\\lib\\site-packages\\kedro\\ipython\\__init__.py\u001b\\\u001b[2m__init__.py\u001b[0m\u001b]8;;\u001b\\\u001b[2m:\u001b[0m\u001b]8;id=175108;file://C:\\Users\\matia\\OneDrive\\Escritorio\\machine\\.venv\\lib\\site-packages\\kedro\\ipython\\__init__.py#142\u001b\\\u001b[2m142\u001b[0m\u001b]8;;\u001b\\\n",
       "\u001b[2;36m                    \u001b[0m         \u001b[32m'pipelines'\u001b[0m                                                            \u001b[2m               \u001b[0m\n"
      ]
     },
     "metadata": {},
     "output_type": "display_data"
    }
   ],
   "source": [
    "%load_ext kedro.ipython"
   ]
  },
  {
   "cell_type": "code",
   "execution_count": 2,
   "id": "2aaa61b8-6d4d-4b9f-af99-b82ecdacbb6d",
   "metadata": {},
   "outputs": [
    {
     "data": {
      "text/html": [
       "<pre style=\"white-space:pre;overflow-x:auto;line-height:normal;font-family:Menlo,'DejaVu Sans Mono',consolas,'Courier New',monospace\"></pre>\n"
      ],
      "text/plain": []
     },
     "metadata": {},
     "output_type": "display_data"
    },
    {
     "data": {
      "text/plain": [
       "\n",
       "\u001b[1m{\u001b[0m\u001b[32m'Mental_Health_Dataset'\u001b[0m: \u001b[32m\"kedro_datasets.pandas.csv_dataset.CSVDataset\u001b[0m\u001b[32m(\u001b[0m\u001b[32mfilepath\u001b[0m\u001b[32m=\u001b[0m\u001b[32mPurePosixPath\u001b[0m\u001b[32m(\u001b[0m\u001b[32m'C:/Users/matia/OneDrive/Escritorio/machine/Es_salud_mental/data/01_raw/Mental_Health_Dataset.csv'\u001b[0m\u001b[32m)\u001b[0m\u001b[32m, \"\u001b[0m\n",
       "                          \u001b[32m\"\u001b[0m\u001b[32mprotocol\u001b[0m\u001b[32m='file', \u001b[0m\u001b[32mload_args\u001b[0m\u001b[32m=\u001b[0m\u001b[32m{\u001b[0m\u001b[32m}\u001b[0m\u001b[32m, \u001b[0m\u001b[32msave_args\u001b[0m\u001b[32m=\u001b[0m\u001b[32m{\u001b[0m\u001b[32m'index': \"\u001b[0m\n",
       "                          \u001b[32m'False\u001b[0m\u001b[32m}\u001b[0m\u001b[32m)\u001b[0m\u001b[32m'\u001b[0m,\n",
       " \u001b[32m'nulos_data'\u001b[0m: \u001b[32m\"kedro_datasets.pandas.csv_dataset.CSVDataset\u001b[0m\u001b[32m(\u001b[0m\u001b[32mfilepath\u001b[0m\u001b[32m=\u001b[0m\u001b[32mPurePosixPath\u001b[0m\u001b[32m(\u001b[0m\u001b[32m'C:/Users/matia/OneDrive/Escritorio/machine/Es_salud_mental/data/02_intermediate/nulos_data.csv'\u001b[0m\u001b[32m)\u001b[0m\u001b[32m, \"\u001b[0m\n",
       "               \u001b[32m\"\u001b[0m\u001b[32mprotocol\u001b[0m\u001b[32m='file', \u001b[0m\u001b[32mload_args\u001b[0m\u001b[32m=\u001b[0m\u001b[32m{\u001b[0m\u001b[32m}\u001b[0m\u001b[32m, \u001b[0m\u001b[32msave_args\u001b[0m\u001b[32m=\u001b[0m\u001b[32m{\u001b[0m\u001b[32m'index': False\u001b[0m\u001b[32m}\u001b[0m\u001b[32m)\u001b[0m\u001b[32m\"\u001b[0m,\n",
       " \u001b[32m'imputed_data'\u001b[0m: \u001b[32m\"kedro_datasets.pandas.csv_dataset.CSVDataset\u001b[0m\u001b[32m(\u001b[0m\u001b[32mfilepath\u001b[0m\u001b[32m=\u001b[0m\u001b[32mPurePosixPath\u001b[0m\u001b[32m(\u001b[0m\u001b[32m'C:/Users/matia/OneDrive/Escritorio/machine/Es_salud_mental/data/02_intermediate/imputed_data.csv'\u001b[0m\u001b[32m)\u001b[0m\u001b[32m, \"\u001b[0m\n",
       "                 \u001b[32m\"\u001b[0m\u001b[32mprotocol\u001b[0m\u001b[32m='file', \u001b[0m\u001b[32mload_args\u001b[0m\u001b[32m=\u001b[0m\u001b[32m{\u001b[0m\u001b[32m}\u001b[0m\u001b[32m, \u001b[0m\u001b[32msave_args\u001b[0m\u001b[32m=\u001b[0m\u001b[32m{\u001b[0m\u001b[32m'index': False\u001b[0m\u001b[32m}\u001b[0m\u001b[32m)\u001b[0m\u001b[32m\"\u001b[0m,\n",
       " \u001b[32m'mapped_data'\u001b[0m: \u001b[32m\"kedro_datasets.pandas.csv_dataset.CSVDataset\u001b[0m\u001b[32m(\u001b[0m\u001b[32mfilepath\u001b[0m\u001b[32m=\u001b[0m\u001b[32mPurePosixPath\u001b[0m\u001b[32m(\u001b[0m\u001b[32m'C:/Users/matia/OneDrive/Escritorio/machine/Es_salud_mental/data/02_intermediate/mapped_data.csv'\u001b[0m\u001b[32m)\u001b[0m\u001b[32m, \"\u001b[0m\n",
       "                \u001b[32m\"\u001b[0m\u001b[32mprotocol\u001b[0m\u001b[32m='file', \u001b[0m\u001b[32mload_args\u001b[0m\u001b[32m=\u001b[0m\u001b[32m{\u001b[0m\u001b[32m}\u001b[0m\u001b[32m, \u001b[0m\u001b[32msave_args\u001b[0m\u001b[32m=\u001b[0m\u001b[32m{\u001b[0m\u001b[32m'index': False\u001b[0m\u001b[32m}\u001b[0m\u001b[32m)\u001b[0m\u001b[32m\"\u001b[0m,\n",
       " \u001b[32m'parameters'\u001b[0m: \u001b[32m\"kedro.io.memory_dataset.MemoryDataset\u001b[0m\u001b[32m(\u001b[0m\u001b[32mdata\u001b[0m\u001b[32m='\u001b[0m\u001b[32m<\u001b[0m\u001b[32mdict\u001b[0m\u001b[32m>'\u001b[0m\u001b[32m)\u001b[0m\u001b[32m\"\u001b[0m\u001b[39m,\u001b[0m\n",
       "\u001b[39m \u001b[0m\u001b[32m'params:model_options'\u001b[0m\u001b[39m: \u001b[0m\u001b[32m\"kedro.io.memory_dataset.MemoryDataset\u001b[0m\u001b[32m(\u001b[0m\u001b[32mdata\u001b[0m\u001b[32m='<dict>'\u001b[0m\u001b[32m)\u001b[0m\u001b[32m\"\u001b[0m\u001b[39m,\u001b[0m\n",
       "\u001b[39m \u001b[0m\u001b[32m'params:model_options.test_size'\u001b[0m\u001b[39m: \u001b[0m\u001b[32m\"kedro.io.memory_dataset.MemoryDataset\u001b[0m\u001b[32m(\u001b[0m\u001b[32mdata\u001b[0m\u001b[32m='<float>'\u001b[0m\u001b[32m)\u001b[0m\u001b[32m\"\u001b[0m\u001b[39m,\u001b[0m\n",
       "\u001b[39m \u001b[0m\u001b[32m'params:model_options.random_state'\u001b[0m\u001b[39m: \u001b[0m\u001b[32m\"kedro.io.memory_dataset.MemoryDataset\u001b[0m\u001b[32m(\u001b[0m\u001b[32mdata\u001b[0m\u001b[32m='<int>'\u001b[0m\u001b[32m)\u001b[0m\u001b[32m\"\u001b[0m\u001b[39m,\u001b[0m\n",
       "\u001b[39m \u001b[0m\u001b[32m'params:model_options.features'\u001b[0m\u001b[39m: \u001b[0m\u001b[32m\"kedro.io.memory_dataset.MemoryDataset\u001b[0m\u001b[32m(\u001b[0m\u001b[32mdata\u001b[0m\u001b[32m='<list\u001b[0m\u001b[32m>\u001b[0m\u001b[32m'\u001b[0m\u001b[32m)\u001b[0m\u001b[32m\"\u001b[0m\u001b[1m}\u001b[0m"
      ]
     },
     "execution_count": 2,
     "metadata": {},
     "output_type": "execute_result"
    }
   ],
   "source": [
    "catalog"
   ]
  },
  {
   "cell_type": "markdown",
   "id": "c2bac930-e34d-4fc4-90e1-fde6691e645b",
   "metadata": {},
   "source": [
    "***We import the libraries with which we will work.***"
   ]
  },
  {
   "cell_type": "code",
   "execution_count": 3,
   "id": "bf973f8a-e771-4060-83a1-7a20e4c82ad8",
   "metadata": {},
   "outputs": [],
   "source": [
    "import pandas as pd\n",
    "import matplotlib.pyplot as plt\n",
    "import seaborn as sns\n",
    "from sklearn.experimental import enable_iterative_imputer\n",
    "from sklearn.impute import IterativeImputer\n",
    "from sklearn.ensemble import RandomForestClassifier\n",
    "from sklearn.preprocessing import LabelEncoder\n"
   ]
  },
  {
   "cell_type": "markdown",
   "id": "70f02d93-5a0a-4fcc-99a0-902215b5227a",
   "metadata": {},
   "source": [
    "***We load our dataset.***\n",
    "\n"
   ]
  },
  {
   "cell_type": "code",
   "execution_count": 4,
   "id": "f97bb97c-a2f1-4d78-95e0-634d1045c37d",
   "metadata": {},
   "outputs": [
    {
     "data": {
      "text/html": [
       "<pre style=\"white-space:pre;overflow-x:auto;line-height:normal;font-family:Menlo,'DejaVu Sans Mono',consolas,'Courier New',monospace\"><span style=\"color: #7fbfbf; text-decoration-color: #7fbfbf\">[10/07/24 19:01:47] </span><span style=\"color: #000080; text-decoration-color: #000080\">INFO    </span> Loading data from <span style=\"color: #ff8700; text-decoration-color: #ff8700\">Mental_Health_Dataset</span> <span style=\"font-weight: bold\">(</span>CSVDataset<span style=\"font-weight: bold\">)</span><span style=\"color: #808000; text-decoration-color: #808000\">...</span>            <a href=\"file://C:\\Users\\matia\\OneDrive\\Escritorio\\machine\\.venv\\lib\\site-packages\\kedro\\io\\data_catalog.py\" target=\"_blank\"><span style=\"color: #7f7f7f; text-decoration-color: #7f7f7f\">data_catalog.py</span></a><span style=\"color: #7f7f7f; text-decoration-color: #7f7f7f\">:</span><a href=\"file://C:\\Users\\matia\\OneDrive\\Escritorio\\machine\\.venv\\lib\\site-packages\\kedro\\io\\data_catalog.py#539\" target=\"_blank\"><span style=\"color: #7f7f7f; text-decoration-color: #7f7f7f\">539</span></a>\n",
       "</pre>\n"
      ],
      "text/plain": [
       "\u001b[2;36m[10/07/24 19:01:47]\u001b[0m\u001b[2;36m \u001b[0m\u001b[34mINFO    \u001b[0m Loading data from \u001b[38;5;208mMental_Health_Dataset\u001b[0m \u001b[1m(\u001b[0mCSVDataset\u001b[1m)\u001b[0m\u001b[33m...\u001b[0m            \u001b]8;id=64634;file://C:\\Users\\matia\\OneDrive\\Escritorio\\machine\\.venv\\lib\\site-packages\\kedro\\io\\data_catalog.py\u001b\\\u001b[2mdata_catalog.py\u001b[0m\u001b]8;;\u001b\\\u001b[2m:\u001b[0m\u001b]8;id=819622;file://C:\\Users\\matia\\OneDrive\\Escritorio\\machine\\.venv\\lib\\site-packages\\kedro\\io\\data_catalog.py#539\u001b\\\u001b[2m539\u001b[0m\u001b]8;;\u001b\\\n"
      ]
     },
     "metadata": {},
     "output_type": "display_data"
    },
    {
     "data": {
      "text/html": [
       "<pre style=\"white-space:pre;overflow-x:auto;line-height:normal;font-family:Menlo,'DejaVu Sans Mono',consolas,'Courier New',monospace\"></pre>\n"
      ],
      "text/plain": []
     },
     "metadata": {},
     "output_type": "display_data"
    },
    {
     "data": {
      "text/html": [
       "<div>\n",
       "<style scoped>\n",
       "    .dataframe tbody tr th:only-of-type {\n",
       "        vertical-align: middle;\n",
       "    }\n",
       "\n",
       "    .dataframe tbody tr th {\n",
       "        vertical-align: top;\n",
       "    }\n",
       "\n",
       "    .dataframe thead th {\n",
       "        text-align: right;\n",
       "    }\n",
       "</style>\n",
       "<table border=\"1\" class=\"dataframe\">\n",
       "  <thead>\n",
       "    <tr style=\"text-align: right;\">\n",
       "      <th></th>\n",
       "      <th>Timestamp</th>\n",
       "      <th>Gender</th>\n",
       "      <th>Country</th>\n",
       "      <th>Occupation</th>\n",
       "      <th>self_employed</th>\n",
       "      <th>family_history</th>\n",
       "      <th>treatment</th>\n",
       "      <th>Days_Indoors</th>\n",
       "      <th>Growing_Stress</th>\n",
       "      <th>Changes_Habits</th>\n",
       "      <th>Mental_Health_History</th>\n",
       "      <th>Mood_Swings</th>\n",
       "      <th>Coping_Struggles</th>\n",
       "      <th>Work_Interest</th>\n",
       "      <th>Social_Weakness</th>\n",
       "      <th>mental_health_interview</th>\n",
       "      <th>care_options</th>\n",
       "    </tr>\n",
       "  </thead>\n",
       "  <tbody>\n",
       "    <tr>\n",
       "      <th>0</th>\n",
       "      <td>2014-08-27 11:29:31</td>\n",
       "      <td>Female</td>\n",
       "      <td>United States</td>\n",
       "      <td>Corporate</td>\n",
       "      <td>NaN</td>\n",
       "      <td>No</td>\n",
       "      <td>Yes</td>\n",
       "      <td>1-14 days</td>\n",
       "      <td>Yes</td>\n",
       "      <td>No</td>\n",
       "      <td>Yes</td>\n",
       "      <td>Medium</td>\n",
       "      <td>No</td>\n",
       "      <td>No</td>\n",
       "      <td>Yes</td>\n",
       "      <td>No</td>\n",
       "      <td>Not sure</td>\n",
       "    </tr>\n",
       "    <tr>\n",
       "      <th>1</th>\n",
       "      <td>2014-08-27 11:31:50</td>\n",
       "      <td>Female</td>\n",
       "      <td>United States</td>\n",
       "      <td>Corporate</td>\n",
       "      <td>NaN</td>\n",
       "      <td>Yes</td>\n",
       "      <td>Yes</td>\n",
       "      <td>1-14 days</td>\n",
       "      <td>Yes</td>\n",
       "      <td>No</td>\n",
       "      <td>Yes</td>\n",
       "      <td>Medium</td>\n",
       "      <td>No</td>\n",
       "      <td>No</td>\n",
       "      <td>Yes</td>\n",
       "      <td>No</td>\n",
       "      <td>No</td>\n",
       "    </tr>\n",
       "    <tr>\n",
       "      <th>2</th>\n",
       "      <td>2014-08-27 11:32:39</td>\n",
       "      <td>Female</td>\n",
       "      <td>United States</td>\n",
       "      <td>Corporate</td>\n",
       "      <td>NaN</td>\n",
       "      <td>Yes</td>\n",
       "      <td>Yes</td>\n",
       "      <td>1-14 days</td>\n",
       "      <td>Yes</td>\n",
       "      <td>No</td>\n",
       "      <td>Yes</td>\n",
       "      <td>Medium</td>\n",
       "      <td>No</td>\n",
       "      <td>No</td>\n",
       "      <td>Yes</td>\n",
       "      <td>No</td>\n",
       "      <td>Yes</td>\n",
       "    </tr>\n",
       "    <tr>\n",
       "      <th>3</th>\n",
       "      <td>2014-08-27 11:37:59</td>\n",
       "      <td>Female</td>\n",
       "      <td>United States</td>\n",
       "      <td>Corporate</td>\n",
       "      <td>No</td>\n",
       "      <td>Yes</td>\n",
       "      <td>Yes</td>\n",
       "      <td>1-14 days</td>\n",
       "      <td>Yes</td>\n",
       "      <td>No</td>\n",
       "      <td>Yes</td>\n",
       "      <td>Medium</td>\n",
       "      <td>No</td>\n",
       "      <td>No</td>\n",
       "      <td>Yes</td>\n",
       "      <td>Maybe</td>\n",
       "      <td>Yes</td>\n",
       "    </tr>\n",
       "    <tr>\n",
       "      <th>4</th>\n",
       "      <td>2014-08-27 11:43:36</td>\n",
       "      <td>Female</td>\n",
       "      <td>United States</td>\n",
       "      <td>Corporate</td>\n",
       "      <td>No</td>\n",
       "      <td>Yes</td>\n",
       "      <td>Yes</td>\n",
       "      <td>1-14 days</td>\n",
       "      <td>Yes</td>\n",
       "      <td>No</td>\n",
       "      <td>Yes</td>\n",
       "      <td>Medium</td>\n",
       "      <td>No</td>\n",
       "      <td>No</td>\n",
       "      <td>Yes</td>\n",
       "      <td>No</td>\n",
       "      <td>Yes</td>\n",
       "    </tr>\n",
       "  </tbody>\n",
       "</table>\n",
       "</div>"
      ],
      "text/plain": [
       "\n",
       "             Timestamp  Gender        Country Occupation self_employed  \\\n",
       "\u001b[1;36m0\u001b[0m  \u001b[1;36m2014\u001b[0m-\u001b[1;36m08\u001b[0m-\u001b[1;36m27\u001b[0m \u001b[1;92m11:29:31\u001b[0m  Female  United States  Corporate           NaN   \n",
       "\u001b[1;36m1\u001b[0m  \u001b[1;36m2014\u001b[0m-\u001b[1;36m08\u001b[0m-\u001b[1;36m27\u001b[0m \u001b[1;92m11:31:50\u001b[0m  Female  United States  Corporate           NaN   \n",
       "\u001b[1;36m2\u001b[0m  \u001b[1;36m2014\u001b[0m-\u001b[1;36m08\u001b[0m-\u001b[1;36m27\u001b[0m \u001b[1;92m11:32:39\u001b[0m  Female  United States  Corporate           NaN   \n",
       "\u001b[1;36m3\u001b[0m  \u001b[1;36m2014\u001b[0m-\u001b[1;36m08\u001b[0m-\u001b[1;36m27\u001b[0m \u001b[1;92m11:37:59\u001b[0m  Female  United States  Corporate            No   \n",
       "\u001b[1;36m4\u001b[0m  \u001b[1;36m2014\u001b[0m-\u001b[1;36m08\u001b[0m-\u001b[1;36m27\u001b[0m \u001b[1;92m11:43:36\u001b[0m  Female  United States  Corporate            No   \n",
       "\n",
       "  family_history treatment Days_Indoors Growing_Stress Changes_Habits  \\\n",
       "\u001b[1;36m0\u001b[0m             No       Yes    \u001b[1;36m1\u001b[0m-\u001b[1;36m14\u001b[0m days            Yes             No   \n",
       "\u001b[1;36m1\u001b[0m            Yes       Yes    \u001b[1;36m1\u001b[0m-\u001b[1;36m14\u001b[0m days            Yes             No   \n",
       "\u001b[1;36m2\u001b[0m            Yes       Yes    \u001b[1;36m1\u001b[0m-\u001b[1;36m14\u001b[0m days            Yes             No   \n",
       "\u001b[1;36m3\u001b[0m            Yes       Yes    \u001b[1;36m1\u001b[0m-\u001b[1;36m14\u001b[0m days            Yes             No   \n",
       "\u001b[1;36m4\u001b[0m            Yes       Yes    \u001b[1;36m1\u001b[0m-\u001b[1;36m14\u001b[0m days            Yes             No   \n",
       "\n",
       "  Mental_Health_History Mood_Swings Coping_Struggles Work_Interest  \\\n",
       "\u001b[1;36m0\u001b[0m                   Yes      Medium               No            No   \n",
       "\u001b[1;36m1\u001b[0m                   Yes      Medium               No            No   \n",
       "\u001b[1;36m2\u001b[0m                   Yes      Medium               No            No   \n",
       "\u001b[1;36m3\u001b[0m                   Yes      Medium               No            No   \n",
       "\u001b[1;36m4\u001b[0m                   Yes      Medium               No            No   \n",
       "\n",
       "  Social_Weakness mental_health_interview care_options  \n",
       "\u001b[1;36m0\u001b[0m             Yes                      No     Not sure  \n",
       "\u001b[1;36m1\u001b[0m             Yes                      No           No  \n",
       "\u001b[1;36m2\u001b[0m             Yes                      No          Yes  \n",
       "\u001b[1;36m3\u001b[0m             Yes                   Maybe          Yes  \n",
       "\u001b[1;36m4\u001b[0m             Yes                      No          Yes  "
      ]
     },
     "execution_count": 4,
     "metadata": {},
     "output_type": "execute_result"
    }
   ],
   "source": [
    "df=catalog.load(\"Mental_Health_Dataset\")\n",
    "df.head()"
   ]
  },
  {
   "cell_type": "markdown",
   "id": "345b3fcb-4937-47f9-b283-2b92a989a003",
   "metadata": {},
   "source": [
    "***We create our first copy called df2.***"
   ]
  },
  {
   "cell_type": "code",
   "execution_count": 5,
   "id": "321a74f1-30ef-4d34-b3bb-15cb9cbb3561",
   "metadata": {},
   "outputs": [],
   "source": [
    "df2 = df.copy()"
   ]
  },
  {
   "cell_type": "markdown",
   "id": "cc47ae1d-68e2-4ad6-878b-3b3229b439d6",
   "metadata": {},
   "source": [
    "***We check the null values in each column of the dataset.***"
   ]
  },
  {
   "cell_type": "code",
   "execution_count": 6,
   "id": "61ec38db-4c7a-4065-9a05-a79bb03622be",
   "metadata": {},
   "outputs": [
    {
     "name": "stdout",
     "output_type": "stream",
     "text": [
      "                         Valores Nulos  Porcentaje Nulos\n",
      "Timestamp                            0          0.000000\n",
      "Gender                               0          0.000000\n",
      "Country                              0          0.000000\n",
      "Occupation                           0          0.000000\n",
      "self_employed                     5202          1.779289\n",
      "family_history                       0          0.000000\n",
      "treatment                            0          0.000000\n",
      "Days_Indoors                         0          0.000000\n",
      "Growing_Stress                       0          0.000000\n",
      "Changes_Habits                       0          0.000000\n",
      "Mental_Health_History                0          0.000000\n",
      "Mood_Swings                          0          0.000000\n",
      "Coping_Struggles                     0          0.000000\n",
      "Work_Interest                        0          0.000000\n",
      "Social_Weakness                      0          0.000000\n",
      "mental_health_interview              0          0.000000\n",
      "care_options                         0          0.000000\n"
     ]
    }
   ],
   "source": [
    "nulos_por_columna = df2.isnull().sum()\n",
    "\n",
    "df_nulos = pd.DataFrame(nulos_por_columna, columns=['Valores Nulos'])\n",
    "df_nulos['Porcentaje Nulos'] = (nulos_por_columna / len(df)) * 100\n",
    "\n",
    "print(df_nulos)"
   ]
  },
  {
   "cell_type": "markdown",
   "id": "dbcebd19-190a-42e9-961a-5c086362c1dd",
   "metadata": {},
   "source": [
    "***We create a boxplot to understand the columns of self_employed and Growing_Stress.***"
   ]
  },
  {
   "cell_type": "code",
   "execution_count": 7,
   "id": "79f0f9e0-a471-4768-8fdd-73b8d3a338fb",
   "metadata": {},
   "outputs": [
    {
     "data": {
      "text/html": [
       "<pre style=\"white-space:pre;overflow-x:auto;line-height:normal;font-family:Menlo,'DejaVu Sans Mono',consolas,'Courier New',monospace\"></pre>\n"
      ],
      "text/plain": []
     },
     "metadata": {},
     "output_type": "display_data"
    },
    {
     "data": {
      "image/png": "[encoded data removed]",
      "text/plain": [
       "\u001b[1m<\u001b[0m\u001b[1;95mFigure\u001b[0m\u001b[39m size 64\u001b[0m\u001b[1;36m0x480\u001b[0m\u001b[39m with \u001b[0m\u001b[1;36m1\u001b[0m\u001b[39m Axes\u001b[0m\u001b[1m>\u001b[0m"
      ]
     },
     "metadata": {},
     "output_type": "display_data"
    }
   ],
   "source": [
    "sns.boxplot(x='self_employed', y='Growing_Stress', data=df2)\n",
    "plt.show()"
   ]
  },
  {
   "cell_type": "markdown",
   "id": "8a6ab83a-adb2-416c-ad14-2cfb5770de0d",
   "metadata": {},
   "source": [
    "***We will create three plt.show related to the columns of self_employed, Mental_Health_History, and Mood_Swings.***"
   ]
  },
  {
   "cell_type": "code",
   "execution_count": 8,
   "id": "f4d6306d-d8bb-4b6f-a170-edb2d31effd6",
   "metadata": {},
   "outputs": [
    {
     "data": {
      "text/html": [
       "<pre style=\"white-space:pre;overflow-x:auto;line-height:normal;font-family:Menlo,'DejaVu Sans Mono',consolas,'Courier New',monospace\"></pre>\n"
      ],
      "text/plain": []
     },
     "metadata": {},
     "output_type": "display_data"
    },
    {
     "data": {
      "image/png": "[encoded data removed]",
      "text/plain": [
       "\u001b[1m<\u001b[0m\u001b[1;95mFigure\u001b[0m\u001b[39m size 64\u001b[0m\u001b[1;36m0x480\u001b[0m\u001b[39m with \u001b[0m\u001b[1;36m1\u001b[0m\u001b[39m Axes\u001b[0m\u001b[1m>\u001b[0m"
      ]
     },
     "metadata": {},
     "output_type": "display_data"
    }
   ],
   "source": [
    "sns.countplot(x='self_employed', hue='Mental_Health_History', data=df2)\n",
    "plt.show()"
   ]
  },
  {
   "cell_type": "code",
   "execution_count": 9,
   "id": "c23c7d5f-217b-4851-bbda-98e407c96273",
   "metadata": {},
   "outputs": [
    {
     "data": {
      "text/html": [
       "<pre style=\"white-space:pre;overflow-x:auto;line-height:normal;font-family:Menlo,'DejaVu Sans Mono',consolas,'Courier New',monospace\"></pre>\n"
      ],
      "text/plain": []
     },
     "metadata": {},
     "output_type": "display_data"
    },
    {
     "data": {
      "image/png": "[encoded data removed]",
      "text/plain": [
       "\u001b[1m<\u001b[0m\u001b[1;95mFigure\u001b[0m\u001b[39m size 64\u001b[0m\u001b[1;36m0x480\u001b[0m\u001b[39m with \u001b[0m\u001b[1;36m1\u001b[0m\u001b[39m Axes\u001b[0m\u001b[1m>\u001b[0m"
      ]
     },
     "metadata": {},
     "output_type": "display_data"
    }
   ],
   "source": [
    "sns.countplot(x='self_employed', hue='Mood_Swings', data=df2)\n",
    "plt.show()"
   ]
  },
  {
   "cell_type": "markdown",
   "id": "be6e2244-f6ef-4ede-af88-386e810fde1a",
   "metadata": {},
   "source": [
    "***Here we will perform data imputation with the self_employed column, which has null values, involving our predictor columns, which are Growing_Stress and Mental_Health_History. We will impute the values and store them in df2.***"
   ]
  },
  {
   "cell_type": "code",
   "execution_count": 10,
   "id": "9245362f-4465-4bb4-908b-55f1fb9489e9",
   "metadata": {},
   "outputs": [
    {
     "name": "stdout",
     "output_type": "stream",
     "text": [
      "0\n"
     ]
    }
   ],
   "source": [
    "\n",
    "# Separar las filas con valores nulos en self_employed y aquellas que no son nulas\n",
    "df2_train = df2[df2['self_employed'].notnull()]  # Datos completos\n",
    "df2_null = df2[df2['self_employed'].isnull()]  # Datos con valores nulos\n",
    "\n",
    "# Variables predictoras\n",
    "features = ['Growing_Stress', 'Mental_Health_History']\n",
    "\n",
    "# X_train: columnas que usarás para predecir, y_train: columna objetivo\n",
    "X_train = df2_train[features]\n",
    "y_train = df2_train['self_employed']\n",
    "\n",
    "X_null = df2_null[features]\n",
    "\n",
    "# Convertir las columnas categóricas en formato adecuado para el modelo\n",
    "le_self_employed = LabelEncoder()\n",
    "le_stress = LabelEncoder()\n",
    "le_mental_health = LabelEncoder()\n",
    "\n",
    "# Codificamos solo temporalmente las columnas categóricas para el modelo\n",
    "X_train_encoded = X_train.copy()\n",
    "X_train_encoded['Growing_Stress'] = le_stress.fit_transform(X_train['Growing_Stress'])\n",
    "X_train_encoded['Mental_Health_History'] = le_mental_health.fit_transform(X_train['Mental_Health_History'])\n",
    "y_train_encoded = le_self_employed.fit_transform(y_train)\n",
    "\n",
    "X_null_encoded = X_null.copy()\n",
    "X_null_encoded['Growing_Stress'] = le_stress.transform(X_null['Growing_Stress'])\n",
    "X_null_encoded['Mental_Health_History'] = le_mental_health.transform(X_null['Mental_Health_History'])\n",
    "\n",
    "# Crear el modelo\n",
    "model = RandomForestClassifier(random_state=42)\n",
    "\n",
    "# Entrenar el modelo usando las filas completas\n",
    "model.fit(X_train_encoded, y_train_encoded)\n",
    "\n",
    "# Predecir los valores nulos (esto devuelve valores codificados)\n",
    "y_pred_encoded = model.predict(X_null_encoded)\n",
    "\n",
    "# Decodificar las predicciones para que sean valores originales (no numéricos)\n",
    "y_pred = le_self_employed.inverse_transform(y_pred_encoded)\n",
    "\n",
    "# Imputar los valores nulos en el DataFrame 'df2' con las predicciones\n",
    "df2.loc[df2['self_employed'].isnull(), 'self_employed'] = y_pred\n",
    "\n",
    "# Verifica que ya no haya valores nulos en la columna 'self_employed'\n",
    "print(df2['self_employed'].isnull().sum())  # Esto debería ser 0 si la imputación fue exitosa\n"
   ]
  },
  {
   "cell_type": "markdown",
   "id": "303b95d7-786c-448a-b707-55213ba27a21",
   "metadata": {},
   "source": [
    "***We will use a head to check that the data is correctly imputed.***"
   ]
  },
  {
   "cell_type": "code",
   "execution_count": 11,
   "id": "2a483b77-b351-4323-afba-6fb8ad9205c4",
   "metadata": {
    "scrolled": true
   },
   "outputs": [
    {
     "data": {
      "text/html": [
       "<pre style=\"white-space:pre;overflow-x:auto;line-height:normal;font-family:Menlo,'DejaVu Sans Mono',consolas,'Courier New',monospace\"></pre>\n"
      ],
      "text/plain": []
     },
     "metadata": {},
     "output_type": "display_data"
    },
    {
     "data": {
      "text/html": [
       "<div>\n",
       "<style scoped>\n",
       "    .dataframe tbody tr th:only-of-type {\n",
       "        vertical-align: middle;\n",
       "    }\n",
       "\n",
       "    .dataframe tbody tr th {\n",
       "        vertical-align: top;\n",
       "    }\n",
       "\n",
       "    .dataframe thead th {\n",
       "        text-align: right;\n",
       "    }\n",
       "</style>\n",
       "<table border=\"1\" class=\"dataframe\">\n",
       "  <thead>\n",
       "    <tr style=\"text-align: right;\">\n",
       "      <th></th>\n",
       "      <th>Timestamp</th>\n",
       "      <th>Gender</th>\n",
       "      <th>Country</th>\n",
       "      <th>Occupation</th>\n",
       "      <th>self_employed</th>\n",
       "      <th>family_history</th>\n",
       "      <th>treatment</th>\n",
       "      <th>Days_Indoors</th>\n",
       "      <th>Growing_Stress</th>\n",
       "      <th>Changes_Habits</th>\n",
       "      <th>Mental_Health_History</th>\n",
       "      <th>Mood_Swings</th>\n",
       "      <th>Coping_Struggles</th>\n",
       "      <th>Work_Interest</th>\n",
       "      <th>Social_Weakness</th>\n",
       "      <th>mental_health_interview</th>\n",
       "      <th>care_options</th>\n",
       "    </tr>\n",
       "  </thead>\n",
       "  <tbody>\n",
       "    <tr>\n",
       "      <th>0</th>\n",
       "      <td>2014-08-27 11:29:31</td>\n",
       "      <td>Female</td>\n",
       "      <td>United States</td>\n",
       "      <td>Corporate</td>\n",
       "      <td>No</td>\n",
       "      <td>No</td>\n",
       "      <td>Yes</td>\n",
       "      <td>1-14 days</td>\n",
       "      <td>Yes</td>\n",
       "      <td>No</td>\n",
       "      <td>Yes</td>\n",
       "      <td>Medium</td>\n",
       "      <td>No</td>\n",
       "      <td>No</td>\n",
       "      <td>Yes</td>\n",
       "      <td>No</td>\n",
       "      <td>Not sure</td>\n",
       "    </tr>\n",
       "    <tr>\n",
       "      <th>1</th>\n",
       "      <td>2014-08-27 11:31:50</td>\n",
       "      <td>Female</td>\n",
       "      <td>United States</td>\n",
       "      <td>Corporate</td>\n",
       "      <td>No</td>\n",
       "      <td>Yes</td>\n",
       "      <td>Yes</td>\n",
       "      <td>1-14 days</td>\n",
       "      <td>Yes</td>\n",
       "      <td>No</td>\n",
       "      <td>Yes</td>\n",
       "      <td>Medium</td>\n",
       "      <td>No</td>\n",
       "      <td>No</td>\n",
       "      <td>Yes</td>\n",
       "      <td>No</td>\n",
       "      <td>No</td>\n",
       "    </tr>\n",
       "    <tr>\n",
       "      <th>2</th>\n",
       "      <td>2014-08-27 11:32:39</td>\n",
       "      <td>Female</td>\n",
       "      <td>United States</td>\n",
       "      <td>Corporate</td>\n",
       "      <td>No</td>\n",
       "      <td>Yes</td>\n",
       "      <td>Yes</td>\n",
       "      <td>1-14 days</td>\n",
       "      <td>Yes</td>\n",
       "      <td>No</td>\n",
       "      <td>Yes</td>\n",
       "      <td>Medium</td>\n",
       "      <td>No</td>\n",
       "      <td>No</td>\n",
       "      <td>Yes</td>\n",
       "      <td>No</td>\n",
       "      <td>Yes</td>\n",
       "    </tr>\n",
       "    <tr>\n",
       "      <th>3</th>\n",
       "      <td>2014-08-27 11:37:59</td>\n",
       "      <td>Female</td>\n",
       "      <td>United States</td>\n",
       "      <td>Corporate</td>\n",
       "      <td>No</td>\n",
       "      <td>Yes</td>\n",
       "      <td>Yes</td>\n",
       "      <td>1-14 days</td>\n",
       "      <td>Yes</td>\n",
       "      <td>No</td>\n",
       "      <td>Yes</td>\n",
       "      <td>Medium</td>\n",
       "      <td>No</td>\n",
       "      <td>No</td>\n",
       "      <td>Yes</td>\n",
       "      <td>Maybe</td>\n",
       "      <td>Yes</td>\n",
       "    </tr>\n",
       "    <tr>\n",
       "      <th>4</th>\n",
       "      <td>2014-08-27 11:43:36</td>\n",
       "      <td>Female</td>\n",
       "      <td>United States</td>\n",
       "      <td>Corporate</td>\n",
       "      <td>No</td>\n",
       "      <td>Yes</td>\n",
       "      <td>Yes</td>\n",
       "      <td>1-14 days</td>\n",
       "      <td>Yes</td>\n",
       "      <td>No</td>\n",
       "      <td>Yes</td>\n",
       "      <td>Medium</td>\n",
       "      <td>No</td>\n",
       "      <td>No</td>\n",
       "      <td>Yes</td>\n",
       "      <td>No</td>\n",
       "      <td>Yes</td>\n",
       "    </tr>\n",
       "  </tbody>\n",
       "</table>\n",
       "</div>"
      ],
      "text/plain": [
       "\n",
       "             Timestamp  Gender        Country Occupation self_employed  \\\n",
       "\u001b[1;36m0\u001b[0m  \u001b[1;36m2014\u001b[0m-\u001b[1;36m08\u001b[0m-\u001b[1;36m27\u001b[0m \u001b[1;92m11:29:31\u001b[0m  Female  United States  Corporate            No   \n",
       "\u001b[1;36m1\u001b[0m  \u001b[1;36m2014\u001b[0m-\u001b[1;36m08\u001b[0m-\u001b[1;36m27\u001b[0m \u001b[1;92m11:31:50\u001b[0m  Female  United States  Corporate            No   \n",
       "\u001b[1;36m2\u001b[0m  \u001b[1;36m2014\u001b[0m-\u001b[1;36m08\u001b[0m-\u001b[1;36m27\u001b[0m \u001b[1;92m11:32:39\u001b[0m  Female  United States  Corporate            No   \n",
       "\u001b[1;36m3\u001b[0m  \u001b[1;36m2014\u001b[0m-\u001b[1;36m08\u001b[0m-\u001b[1;36m27\u001b[0m \u001b[1;92m11:37:59\u001b[0m  Female  United States  Corporate            No   \n",
       "\u001b[1;36m4\u001b[0m  \u001b[1;36m2014\u001b[0m-\u001b[1;36m08\u001b[0m-\u001b[1;36m27\u001b[0m \u001b[1;92m11:43:36\u001b[0m  Female  United States  Corporate            No   \n",
       "\n",
       "  family_history treatment Days_Indoors Growing_Stress Changes_Habits  \\\n",
       "\u001b[1;36m0\u001b[0m             No       Yes    \u001b[1;36m1\u001b[0m-\u001b[1;36m14\u001b[0m days            Yes             No   \n",
       "\u001b[1;36m1\u001b[0m            Yes       Yes    \u001b[1;36m1\u001b[0m-\u001b[1;36m14\u001b[0m days            Yes             No   \n",
       "\u001b[1;36m2\u001b[0m            Yes       Yes    \u001b[1;36m1\u001b[0m-\u001b[1;36m14\u001b[0m days            Yes             No   \n",
       "\u001b[1;36m3\u001b[0m            Yes       Yes    \u001b[1;36m1\u001b[0m-\u001b[1;36m14\u001b[0m days            Yes             No   \n",
       "\u001b[1;36m4\u001b[0m            Yes       Yes    \u001b[1;36m1\u001b[0m-\u001b[1;36m14\u001b[0m days            Yes             No   \n",
       "\n",
       "  Mental_Health_History Mood_Swings Coping_Struggles Work_Interest  \\\n",
       "\u001b[1;36m0\u001b[0m                   Yes      Medium               No            No   \n",
       "\u001b[1;36m1\u001b[0m                   Yes      Medium               No            No   \n",
       "\u001b[1;36m2\u001b[0m                   Yes      Medium               No            No   \n",
       "\u001b[1;36m3\u001b[0m                   Yes      Medium               No            No   \n",
       "\u001b[1;36m4\u001b[0m                   Yes      Medium               No            No   \n",
       "\n",
       "  Social_Weakness mental_health_interview care_options  \n",
       "\u001b[1;36m0\u001b[0m             Yes                      No     Not sure  \n",
       "\u001b[1;36m1\u001b[0m             Yes                      No           No  \n",
       "\u001b[1;36m2\u001b[0m             Yes                      No          Yes  \n",
       "\u001b[1;36m3\u001b[0m             Yes                   Maybe          Yes  \n",
       "\u001b[1;36m4\u001b[0m             Yes                      No          Yes  "
      ]
     },
     "execution_count": 11,
     "metadata": {},
     "output_type": "execute_result"
    }
   ],
   "source": [
    "#Comprobamos que la columna self employed este bien imputada\n",
    "df2.head(5)"
   ]
  },
  {
   "cell_type": "markdown",
   "id": "31dc7e62-df3d-4113-beb5-895dd862bedf",
   "metadata": {},
   "source": [
    "***We create a second dataframe copy called df3 to save the progress of the work done previously.***"
   ]
  },
  {
   "cell_type": "code",
   "execution_count": 12,
   "id": "026e64d0-f41e-451d-b2ca-918b5417c9b3",
   "metadata": {},
   "outputs": [
    {
     "name": "stdout",
     "output_type": "stream",
     "text": [
      "df3 Creado\n"
     ]
    }
   ],
   "source": [
    "df3 = df2.copy()\n",
    "print(\"df3 Creado\")"
   ]
  },
  {
   "cell_type": "markdown",
   "id": "0610987a-c807-4658-bb07-fd8615986bfc",
   "metadata": {},
   "source": [
    "***Data transformation: We will transform the categorical columns \"self_employed,\" \"family_history,\" \"treatment,\" and \"Coping_Struggles\" to numeric values of 0 and 1.***"
   ]
  },
  {
   "cell_type": "code",
   "execution_count": 13,
   "id": "9509e495-ed98-4774-9601-ff8d77e29ad8",
   "metadata": {},
   "outputs": [
    {
     "name": "stdout",
     "output_type": "stream",
     "text": [
      "   self_employed  family_history  treatment  Coping_Struggles\n",
      "0              0               0          1                 0\n",
      "1              0               1          1                 0\n",
      "2              0               1          1                 0\n",
      "3              0               1          1                 0\n",
      "4              0               1          1                 0\n",
      "Timestamp                  object\n",
      "Gender                     object\n",
      "Country                    object\n",
      "Occupation                 object\n",
      "self_employed               int64\n",
      "family_history              int64\n",
      "treatment                   int64\n",
      "Days_Indoors               object\n",
      "Growing_Stress             object\n",
      "Changes_Habits             object\n",
      "Mental_Health_History      object\n",
      "Mood_Swings                object\n",
      "Coping_Struggles            int64\n",
      "Work_Interest              object\n",
      "Social_Weakness            object\n",
      "mental_health_interview    object\n",
      "care_options               object\n",
      "dtype: object\n"
     ]
    }
   ],
   "source": [
    "# Mapeo manual de 'Yes' a 1 y 'No' a 0 en df3\n",
    "df3['self_employed'] = df3['self_employed'].map({'Yes': 1, 'No': 0})\n",
    "df3['family_history'] = df3['family_history'].map({'Yes': 1, 'No': 0})\n",
    "df3['treatment'] = df3['treatment'].map({'Yes': 1, 'No': 0})\n",
    "df3['Coping_Struggles'] = df3['Coping_Struggles'].map({'Yes': 1, 'No': 0})\n",
    "\n",
    "# Verifica las transformaciones\n",
    "print(df3[['self_employed', 'family_history', 'treatment', 'Coping_Struggles']].head())\n",
    "\n",
    "# Verificar los tipos de datos para asegurarte de que sean enteros\n",
    "print(df3.dtypes)\n"
   ]
  },
  {
   "cell_type": "markdown",
   "id": "26e3df8b-f921-4ae6-a6db-ab1d1e65f10f",
   "metadata": {},
   "source": [
    "***Data transformation: We will transform the categorical columns \"Growing_Stress,\" \"Changes_Habits,\" \"Mental_Health_History,\" \"Work_Interest,\" \"Social_Weakness,\" and \"mental_health_interview\" into columns with numeric data of 0, 1, and 2.***"
   ]
  },
  {
   "cell_type": "code",
   "execution_count": 14,
   "id": "22bec1b0-4f51-4b54-9933-a3e4b5627239",
   "metadata": {},
   "outputs": [
    {
     "name": "stdout",
     "output_type": "stream",
     "text": [
      "   Growing_Stress  Changes_Habits  Mental_Health_History  Work_Interest  \\\n",
      "0               1               0                      1              0   \n",
      "1               1               0                      1              0   \n",
      "2               1               0                      1              0   \n",
      "3               1               0                      1              0   \n",
      "4               1               0                      1              0   \n",
      "\n",
      "   Social_Weakness  mental_health_interview  \n",
      "0                1                        0  \n",
      "1                1                        0  \n",
      "2                1                        0  \n",
      "3                1                        2  \n",
      "4                1                        0  \n"
     ]
    }
   ],
   "source": [
    "# Mapeo manual de 'Yes', 'No', 'Maybe' a 1, 0, 2\n",
    "mapping = {'No': 0, 'Yes': 1, 'Maybe': 2}\n",
    "\n",
    "# Aplicar el mapeo a todas las columnas mencionadas\n",
    "df3['Growing_Stress'] = df3['Growing_Stress'].map(mapping)\n",
    "df3['Changes_Habits'] = df3['Changes_Habits'].map(mapping)\n",
    "df3['Mental_Health_History'] = df3['Mental_Health_History'].map(mapping)\n",
    "df3['Work_Interest'] = df3['Work_Interest'].map(mapping)\n",
    "df3['Social_Weakness'] = df3['Social_Weakness'].map(mapping)\n",
    "df3['mental_health_interview'] = df3['mental_health_interview'].map(mapping)\n",
    "\n",
    "# Verificar las transformaciones\n",
    "print(df3[['Growing_Stress', 'Changes_Habits', 'Mental_Health_History', \n",
    "           'Work_Interest', 'Social_Weakness', 'mental_health_interview']].head())\n"
   ]
  },
  {
   "cell_type": "markdown",
   "id": "2225096b-00b1-44cf-af8d-67919e0667dc",
   "metadata": {},
   "source": [
    "***We will use a head to check that the data is correctly transformed.***"
   ]
  },
  {
   "cell_type": "code",
   "execution_count": 15,
   "id": "76ecd590-41fe-4e1f-873a-083df096d02f",
   "metadata": {},
   "outputs": [
    {
     "data": {
      "text/html": [
       "<pre style=\"white-space:pre;overflow-x:auto;line-height:normal;font-family:Menlo,'DejaVu Sans Mono',consolas,'Courier New',monospace\"></pre>\n"
      ],
      "text/plain": []
     },
     "metadata": {},
     "output_type": "display_data"
    },
    {
     "data": {
      "text/html": [
       "<div>\n",
       "<style scoped>\n",
       "    .dataframe tbody tr th:only-of-type {\n",
       "        vertical-align: middle;\n",
       "    }\n",
       "\n",
       "    .dataframe tbody tr th {\n",
       "        vertical-align: top;\n",
       "    }\n",
       "\n",
       "    .dataframe thead th {\n",
       "        text-align: right;\n",
       "    }\n",
       "</style>\n",
       "<table border=\"1\" class=\"dataframe\">\n",
       "  <thead>\n",
       "    <tr style=\"text-align: right;\">\n",
       "      <th></th>\n",
       "      <th>Timestamp</th>\n",
       "      <th>Gender</th>\n",
       "      <th>Country</th>\n",
       "      <th>Occupation</th>\n",
       "      <th>self_employed</th>\n",
       "      <th>family_history</th>\n",
       "      <th>treatment</th>\n",
       "      <th>Days_Indoors</th>\n",
       "      <th>Growing_Stress</th>\n",
       "      <th>Changes_Habits</th>\n",
       "      <th>Mental_Health_History</th>\n",
       "      <th>Mood_Swings</th>\n",
       "      <th>Coping_Struggles</th>\n",
       "      <th>Work_Interest</th>\n",
       "      <th>Social_Weakness</th>\n",
       "      <th>mental_health_interview</th>\n",
       "      <th>care_options</th>\n",
       "    </tr>\n",
       "  </thead>\n",
       "  <tbody>\n",
       "    <tr>\n",
       "      <th>0</th>\n",
       "      <td>2014-08-27 11:29:31</td>\n",
       "      <td>Female</td>\n",
       "      <td>United States</td>\n",
       "      <td>Corporate</td>\n",
       "      <td>0</td>\n",
       "      <td>0</td>\n",
       "      <td>1</td>\n",
       "      <td>1-14 days</td>\n",
       "      <td>1</td>\n",
       "      <td>0</td>\n",
       "      <td>1</td>\n",
       "      <td>Medium</td>\n",
       "      <td>0</td>\n",
       "      <td>0</td>\n",
       "      <td>1</td>\n",
       "      <td>0</td>\n",
       "      <td>Not sure</td>\n",
       "    </tr>\n",
       "    <tr>\n",
       "      <th>1</th>\n",
       "      <td>2014-08-27 11:31:50</td>\n",
       "      <td>Female</td>\n",
       "      <td>United States</td>\n",
       "      <td>Corporate</td>\n",
       "      <td>0</td>\n",
       "      <td>1</td>\n",
       "      <td>1</td>\n",
       "      <td>1-14 days</td>\n",
       "      <td>1</td>\n",
       "      <td>0</td>\n",
       "      <td>1</td>\n",
       "      <td>Medium</td>\n",
       "      <td>0</td>\n",
       "      <td>0</td>\n",
       "      <td>1</td>\n",
       "      <td>0</td>\n",
       "      <td>No</td>\n",
       "    </tr>\n",
       "    <tr>\n",
       "      <th>2</th>\n",
       "      <td>2014-08-27 11:32:39</td>\n",
       "      <td>Female</td>\n",
       "      <td>United States</td>\n",
       "      <td>Corporate</td>\n",
       "      <td>0</td>\n",
       "      <td>1</td>\n",
       "      <td>1</td>\n",
       "      <td>1-14 days</td>\n",
       "      <td>1</td>\n",
       "      <td>0</td>\n",
       "      <td>1</td>\n",
       "      <td>Medium</td>\n",
       "      <td>0</td>\n",
       "      <td>0</td>\n",
       "      <td>1</td>\n",
       "      <td>0</td>\n",
       "      <td>Yes</td>\n",
       "    </tr>\n",
       "    <tr>\n",
       "      <th>3</th>\n",
       "      <td>2014-08-27 11:37:59</td>\n",
       "      <td>Female</td>\n",
       "      <td>United States</td>\n",
       "      <td>Corporate</td>\n",
       "      <td>0</td>\n",
       "      <td>1</td>\n",
       "      <td>1</td>\n",
       "      <td>1-14 days</td>\n",
       "      <td>1</td>\n",
       "      <td>0</td>\n",
       "      <td>1</td>\n",
       "      <td>Medium</td>\n",
       "      <td>0</td>\n",
       "      <td>0</td>\n",
       "      <td>1</td>\n",
       "      <td>2</td>\n",
       "      <td>Yes</td>\n",
       "    </tr>\n",
       "    <tr>\n",
       "      <th>4</th>\n",
       "      <td>2014-08-27 11:43:36</td>\n",
       "      <td>Female</td>\n",
       "      <td>United States</td>\n",
       "      <td>Corporate</td>\n",
       "      <td>0</td>\n",
       "      <td>1</td>\n",
       "      <td>1</td>\n",
       "      <td>1-14 days</td>\n",
       "      <td>1</td>\n",
       "      <td>0</td>\n",
       "      <td>1</td>\n",
       "      <td>Medium</td>\n",
       "      <td>0</td>\n",
       "      <td>0</td>\n",
       "      <td>1</td>\n",
       "      <td>0</td>\n",
       "      <td>Yes</td>\n",
       "    </tr>\n",
       "    <tr>\n",
       "      <th>5</th>\n",
       "      <td>2014-08-27 11:49:51</td>\n",
       "      <td>Female</td>\n",
       "      <td>Poland</td>\n",
       "      <td>Corporate</td>\n",
       "      <td>0</td>\n",
       "      <td>0</td>\n",
       "      <td>1</td>\n",
       "      <td>1-14 days</td>\n",
       "      <td>1</td>\n",
       "      <td>0</td>\n",
       "      <td>1</td>\n",
       "      <td>Medium</td>\n",
       "      <td>0</td>\n",
       "      <td>0</td>\n",
       "      <td>1</td>\n",
       "      <td>2</td>\n",
       "      <td>Not sure</td>\n",
       "    </tr>\n",
       "    <tr>\n",
       "      <th>6</th>\n",
       "      <td>2014-08-27 11:51:34</td>\n",
       "      <td>Female</td>\n",
       "      <td>Australia</td>\n",
       "      <td>Corporate</td>\n",
       "      <td>0</td>\n",
       "      <td>1</td>\n",
       "      <td>1</td>\n",
       "      <td>1-14 days</td>\n",
       "      <td>1</td>\n",
       "      <td>0</td>\n",
       "      <td>1</td>\n",
       "      <td>Medium</td>\n",
       "      <td>0</td>\n",
       "      <td>0</td>\n",
       "      <td>1</td>\n",
       "      <td>0</td>\n",
       "      <td>Not sure</td>\n",
       "    </tr>\n",
       "    <tr>\n",
       "      <th>7</th>\n",
       "      <td>2014-08-27 11:52:41</td>\n",
       "      <td>Female</td>\n",
       "      <td>United States</td>\n",
       "      <td>Corporate</td>\n",
       "      <td>0</td>\n",
       "      <td>0</td>\n",
       "      <td>0</td>\n",
       "      <td>1-14 days</td>\n",
       "      <td>1</td>\n",
       "      <td>0</td>\n",
       "      <td>1</td>\n",
       "      <td>Medium</td>\n",
       "      <td>0</td>\n",
       "      <td>0</td>\n",
       "      <td>1</td>\n",
       "      <td>0</td>\n",
       "      <td>No</td>\n",
       "    </tr>\n",
       "    <tr>\n",
       "      <th>8</th>\n",
       "      <td>2014-08-27 12:18:38</td>\n",
       "      <td>Female</td>\n",
       "      <td>United States</td>\n",
       "      <td>Corporate</td>\n",
       "      <td>0</td>\n",
       "      <td>0</td>\n",
       "      <td>0</td>\n",
       "      <td>1-14 days</td>\n",
       "      <td>1</td>\n",
       "      <td>0</td>\n",
       "      <td>1</td>\n",
       "      <td>Medium</td>\n",
       "      <td>0</td>\n",
       "      <td>0</td>\n",
       "      <td>1</td>\n",
       "      <td>0</td>\n",
       "      <td>Not sure</td>\n",
       "    </tr>\n",
       "    <tr>\n",
       "      <th>9</th>\n",
       "      <td>2014-08-27 12:37:50</td>\n",
       "      <td>Female</td>\n",
       "      <td>United States</td>\n",
       "      <td>Corporate</td>\n",
       "      <td>0</td>\n",
       "      <td>0</td>\n",
       "      <td>0</td>\n",
       "      <td>1-14 days</td>\n",
       "      <td>1</td>\n",
       "      <td>0</td>\n",
       "      <td>1</td>\n",
       "      <td>Medium</td>\n",
       "      <td>0</td>\n",
       "      <td>0</td>\n",
       "      <td>1</td>\n",
       "      <td>0</td>\n",
       "      <td>No</td>\n",
       "    </tr>\n",
       "    <tr>\n",
       "      <th>10</th>\n",
       "      <td>2014-08-27 12:39:18</td>\n",
       "      <td>Female</td>\n",
       "      <td>United States</td>\n",
       "      <td>Corporate</td>\n",
       "      <td>0</td>\n",
       "      <td>1</td>\n",
       "      <td>0</td>\n",
       "      <td>1-14 days</td>\n",
       "      <td>1</td>\n",
       "      <td>0</td>\n",
       "      <td>1</td>\n",
       "      <td>Medium</td>\n",
       "      <td>0</td>\n",
       "      <td>0</td>\n",
       "      <td>1</td>\n",
       "      <td>0</td>\n",
       "      <td>Not sure</td>\n",
       "    </tr>\n",
       "    <tr>\n",
       "      <th>11</th>\n",
       "      <td>2014-08-27 12:40:06</td>\n",
       "      <td>Female</td>\n",
       "      <td>United States</td>\n",
       "      <td>Corporate</td>\n",
       "      <td>0</td>\n",
       "      <td>0</td>\n",
       "      <td>0</td>\n",
       "      <td>1-14 days</td>\n",
       "      <td>1</td>\n",
       "      <td>0</td>\n",
       "      <td>1</td>\n",
       "      <td>Medium</td>\n",
       "      <td>0</td>\n",
       "      <td>0</td>\n",
       "      <td>1</td>\n",
       "      <td>0</td>\n",
       "      <td>Not sure</td>\n",
       "    </tr>\n",
       "    <tr>\n",
       "      <th>12</th>\n",
       "      <td>2014-08-27 12:49:27</td>\n",
       "      <td>Female</td>\n",
       "      <td>United States</td>\n",
       "      <td>Corporate</td>\n",
       "      <td>0</td>\n",
       "      <td>0</td>\n",
       "      <td>0</td>\n",
       "      <td>1-14 days</td>\n",
       "      <td>1</td>\n",
       "      <td>0</td>\n",
       "      <td>1</td>\n",
       "      <td>Medium</td>\n",
       "      <td>0</td>\n",
       "      <td>0</td>\n",
       "      <td>1</td>\n",
       "      <td>0</td>\n",
       "      <td>No</td>\n",
       "    </tr>\n",
       "    <tr>\n",
       "      <th>13</th>\n",
       "      <td>2014-08-27 12:49:30</td>\n",
       "      <td>Female</td>\n",
       "      <td>Canada</td>\n",
       "      <td>Corporate</td>\n",
       "      <td>0</td>\n",
       "      <td>1</td>\n",
       "      <td>1</td>\n",
       "      <td>1-14 days</td>\n",
       "      <td>1</td>\n",
       "      <td>0</td>\n",
       "      <td>1</td>\n",
       "      <td>Medium</td>\n",
       "      <td>0</td>\n",
       "      <td>0</td>\n",
       "      <td>1</td>\n",
       "      <td>0</td>\n",
       "      <td>Yes</td>\n",
       "    </tr>\n",
       "    <tr>\n",
       "      <th>14</th>\n",
       "      <td>2014-08-27 12:50:57</td>\n",
       "      <td>Female</td>\n",
       "      <td>United States</td>\n",
       "      <td>Corporate</td>\n",
       "      <td>0</td>\n",
       "      <td>0</td>\n",
       "      <td>1</td>\n",
       "      <td>1-14 days</td>\n",
       "      <td>1</td>\n",
       "      <td>0</td>\n",
       "      <td>1</td>\n",
       "      <td>Medium</td>\n",
       "      <td>0</td>\n",
       "      <td>0</td>\n",
       "      <td>1</td>\n",
       "      <td>0</td>\n",
       "      <td>Not sure</td>\n",
       "    </tr>\n",
       "    <tr>\n",
       "      <th>15</th>\n",
       "      <td>2014-08-27 12:51:51</td>\n",
       "      <td>Female</td>\n",
       "      <td>United Kingdom</td>\n",
       "      <td>Corporate</td>\n",
       "      <td>0</td>\n",
       "      <td>0</td>\n",
       "      <td>0</td>\n",
       "      <td>1-14 days</td>\n",
       "      <td>1</td>\n",
       "      <td>0</td>\n",
       "      <td>1</td>\n",
       "      <td>Medium</td>\n",
       "      <td>0</td>\n",
       "      <td>0</td>\n",
       "      <td>1</td>\n",
       "      <td>2</td>\n",
       "      <td>No</td>\n",
       "    </tr>\n",
       "    <tr>\n",
       "      <th>16</th>\n",
       "      <td>2014-08-27 12:53:13</td>\n",
       "      <td>Female</td>\n",
       "      <td>United States</td>\n",
       "      <td>Corporate</td>\n",
       "      <td>0</td>\n",
       "      <td>1</td>\n",
       "      <td>1</td>\n",
       "      <td>1-14 days</td>\n",
       "      <td>1</td>\n",
       "      <td>0</td>\n",
       "      <td>1</td>\n",
       "      <td>Medium</td>\n",
       "      <td>0</td>\n",
       "      <td>0</td>\n",
       "      <td>1</td>\n",
       "      <td>0</td>\n",
       "      <td>Not sure</td>\n",
       "    </tr>\n",
       "    <tr>\n",
       "      <th>17</th>\n",
       "      <td>2014-08-27 12:53:15</td>\n",
       "      <td>Female</td>\n",
       "      <td>South Africa</td>\n",
       "      <td>Corporate</td>\n",
       "      <td>1</td>\n",
       "      <td>1</td>\n",
       "      <td>1</td>\n",
       "      <td>1-14 days</td>\n",
       "      <td>1</td>\n",
       "      <td>0</td>\n",
       "      <td>1</td>\n",
       "      <td>Medium</td>\n",
       "      <td>0</td>\n",
       "      <td>0</td>\n",
       "      <td>1</td>\n",
       "      <td>0</td>\n",
       "      <td>Yes</td>\n",
       "    </tr>\n",
       "    <tr>\n",
       "      <th>18</th>\n",
       "      <td>2014-08-27 12:55:01</td>\n",
       "      <td>Female</td>\n",
       "      <td>United States</td>\n",
       "      <td>Corporate</td>\n",
       "      <td>0</td>\n",
       "      <td>0</td>\n",
       "      <td>0</td>\n",
       "      <td>1-14 days</td>\n",
       "      <td>1</td>\n",
       "      <td>0</td>\n",
       "      <td>1</td>\n",
       "      <td>Medium</td>\n",
       "      <td>0</td>\n",
       "      <td>0</td>\n",
       "      <td>1</td>\n",
       "      <td>0</td>\n",
       "      <td>Not sure</td>\n",
       "    </tr>\n",
       "    <tr>\n",
       "      <th>19</th>\n",
       "      <td>2014-08-27 12:57:38</td>\n",
       "      <td>Female</td>\n",
       "      <td>United States</td>\n",
       "      <td>Corporate</td>\n",
       "      <td>0</td>\n",
       "      <td>1</td>\n",
       "      <td>1</td>\n",
       "      <td>1-14 days</td>\n",
       "      <td>1</td>\n",
       "      <td>0</td>\n",
       "      <td>1</td>\n",
       "      <td>Medium</td>\n",
       "      <td>0</td>\n",
       "      <td>0</td>\n",
       "      <td>1</td>\n",
       "      <td>0</td>\n",
       "      <td>No</td>\n",
       "    </tr>\n",
       "  </tbody>\n",
       "</table>\n",
       "</div>"
      ],
      "text/plain": [
       "\n",
       "              Timestamp  Gender         Country Occupation  self_employed  \\\n",
       "\u001b[1;36m0\u001b[0m   \u001b[1;36m2014\u001b[0m-\u001b[1;36m08\u001b[0m-\u001b[1;36m27\u001b[0m \u001b[1;92m11:29:31\u001b[0m  Female   United States  Corporate              \u001b[1;36m0\u001b[0m   \n",
       "\u001b[1;36m1\u001b[0m   \u001b[1;36m2014\u001b[0m-\u001b[1;36m08\u001b[0m-\u001b[1;36m27\u001b[0m \u001b[1;92m11:31:50\u001b[0m  Female   United States  Corporate              \u001b[1;36m0\u001b[0m   \n",
       "\u001b[1;36m2\u001b[0m   \u001b[1;36m2014\u001b[0m-\u001b[1;36m08\u001b[0m-\u001b[1;36m27\u001b[0m \u001b[1;92m11:32:39\u001b[0m  Female   United States  Corporate              \u001b[1;36m0\u001b[0m   \n",
       "\u001b[1;36m3\u001b[0m   \u001b[1;36m2014\u001b[0m-\u001b[1;36m08\u001b[0m-\u001b[1;36m27\u001b[0m \u001b[1;92m11:37:59\u001b[0m  Female   United States  Corporate              \u001b[1;36m0\u001b[0m   \n",
       "\u001b[1;36m4\u001b[0m   \u001b[1;36m2014\u001b[0m-\u001b[1;36m08\u001b[0m-\u001b[1;36m27\u001b[0m \u001b[1;92m11:43:36\u001b[0m  Female   United States  Corporate              \u001b[1;36m0\u001b[0m   \n",
       "\u001b[1;36m5\u001b[0m   \u001b[1;36m2014\u001b[0m-\u001b[1;36m08\u001b[0m-\u001b[1;36m27\u001b[0m \u001b[1;92m11:49:51\u001b[0m  Female          Poland  Corporate              \u001b[1;36m0\u001b[0m   \n",
       "\u001b[1;36m6\u001b[0m   \u001b[1;36m2014\u001b[0m-\u001b[1;36m08\u001b[0m-\u001b[1;36m27\u001b[0m \u001b[1;92m11:51:34\u001b[0m  Female       Australia  Corporate              \u001b[1;36m0\u001b[0m   \n",
       "\u001b[1;36m7\u001b[0m   \u001b[1;36m2014\u001b[0m-\u001b[1;36m08\u001b[0m-\u001b[1;36m27\u001b[0m \u001b[1;92m11:52:41\u001b[0m  Female   United States  Corporate              \u001b[1;36m0\u001b[0m   \n",
       "\u001b[1;36m8\u001b[0m   \u001b[1;36m2014\u001b[0m-\u001b[1;36m08\u001b[0m-\u001b[1;36m27\u001b[0m \u001b[1;92m12:18:38\u001b[0m  Female   United States  Corporate              \u001b[1;36m0\u001b[0m   \n",
       "\u001b[1;36m9\u001b[0m   \u001b[1;36m2014\u001b[0m-\u001b[1;36m08\u001b[0m-\u001b[1;36m27\u001b[0m \u001b[1;92m12:37:50\u001b[0m  Female   United States  Corporate              \u001b[1;36m0\u001b[0m   \n",
       "\u001b[1;36m10\u001b[0m  \u001b[1;36m2014\u001b[0m-\u001b[1;36m08\u001b[0m-\u001b[1;36m27\u001b[0m \u001b[1;92m12:39:18\u001b[0m  Female   United States  Corporate              \u001b[1;36m0\u001b[0m   \n",
       "\u001b[1;36m11\u001b[0m  \u001b[1;36m2014\u001b[0m-\u001b[1;36m08\u001b[0m-\u001b[1;36m27\u001b[0m \u001b[1;92m12:40:06\u001b[0m  Female   United States  Corporate              \u001b[1;36m0\u001b[0m   \n",
       "\u001b[1;36m12\u001b[0m  \u001b[1;36m2014\u001b[0m-\u001b[1;36m08\u001b[0m-\u001b[1;36m27\u001b[0m \u001b[1;92m12:49:27\u001b[0m  Female   United States  Corporate              \u001b[1;36m0\u001b[0m   \n",
       "\u001b[1;36m13\u001b[0m  \u001b[1;36m2014\u001b[0m-\u001b[1;36m08\u001b[0m-\u001b[1;36m27\u001b[0m \u001b[1;92m12:49:30\u001b[0m  Female          Canada  Corporate              \u001b[1;36m0\u001b[0m   \n",
       "\u001b[1;36m14\u001b[0m  \u001b[1;36m2014\u001b[0m-\u001b[1;36m08\u001b[0m-\u001b[1;36m27\u001b[0m \u001b[1;92m12:50:57\u001b[0m  Female   United States  Corporate              \u001b[1;36m0\u001b[0m   \n",
       "\u001b[1;36m15\u001b[0m  \u001b[1;36m2014\u001b[0m-\u001b[1;36m08\u001b[0m-\u001b[1;36m27\u001b[0m \u001b[1;92m12:51:51\u001b[0m  Female  United Kingdom  Corporate              \u001b[1;36m0\u001b[0m   \n",
       "\u001b[1;36m16\u001b[0m  \u001b[1;36m2014\u001b[0m-\u001b[1;36m08\u001b[0m-\u001b[1;36m27\u001b[0m \u001b[1;92m12:53:13\u001b[0m  Female   United States  Corporate              \u001b[1;36m0\u001b[0m   \n",
       "\u001b[1;36m17\u001b[0m  \u001b[1;36m2014\u001b[0m-\u001b[1;36m08\u001b[0m-\u001b[1;36m27\u001b[0m \u001b[1;92m12:53:15\u001b[0m  Female    South Africa  Corporate              \u001b[1;36m1\u001b[0m   \n",
       "\u001b[1;36m18\u001b[0m  \u001b[1;36m2014\u001b[0m-\u001b[1;36m08\u001b[0m-\u001b[1;36m27\u001b[0m \u001b[1;92m12:55:01\u001b[0m  Female   United States  Corporate              \u001b[1;36m0\u001b[0m   \n",
       "\u001b[1;36m19\u001b[0m  \u001b[1;36m2014\u001b[0m-\u001b[1;36m08\u001b[0m-\u001b[1;36m27\u001b[0m \u001b[1;92m12:57:38\u001b[0m  Female   United States  Corporate              \u001b[1;36m0\u001b[0m   \n",
       "\n",
       "    family_history  treatment Days_Indoors  Growing_Stress  Changes_Habits  \\\n",
       "\u001b[1;36m0\u001b[0m                \u001b[1;36m0\u001b[0m          \u001b[1;36m1\u001b[0m    \u001b[1;36m1\u001b[0m-\u001b[1;36m14\u001b[0m days               \u001b[1;36m1\u001b[0m               \u001b[1;36m0\u001b[0m   \n",
       "\u001b[1;36m1\u001b[0m                \u001b[1;36m1\u001b[0m          \u001b[1;36m1\u001b[0m    \u001b[1;36m1\u001b[0m-\u001b[1;36m14\u001b[0m days               \u001b[1;36m1\u001b[0m               \u001b[1;36m0\u001b[0m   \n",
       "\u001b[1;36m2\u001b[0m                \u001b[1;36m1\u001b[0m          \u001b[1;36m1\u001b[0m    \u001b[1;36m1\u001b[0m-\u001b[1;36m14\u001b[0m days               \u001b[1;36m1\u001b[0m               \u001b[1;36m0\u001b[0m   \n",
       "\u001b[1;36m3\u001b[0m                \u001b[1;36m1\u001b[0m          \u001b[1;36m1\u001b[0m    \u001b[1;36m1\u001b[0m-\u001b[1;36m14\u001b[0m days               \u001b[1;36m1\u001b[0m               \u001b[1;36m0\u001b[0m   \n",
       "\u001b[1;36m4\u001b[0m                \u001b[1;36m1\u001b[0m          \u001b[1;36m1\u001b[0m    \u001b[1;36m1\u001b[0m-\u001b[1;36m14\u001b[0m days               \u001b[1;36m1\u001b[0m               \u001b[1;36m0\u001b[0m   \n",
       "\u001b[1;36m5\u001b[0m                \u001b[1;36m0\u001b[0m          \u001b[1;36m1\u001b[0m    \u001b[1;36m1\u001b[0m-\u001b[1;36m14\u001b[0m days               \u001b[1;36m1\u001b[0m               \u001b[1;36m0\u001b[0m   \n",
       "\u001b[1;36m6\u001b[0m                \u001b[1;36m1\u001b[0m          \u001b[1;36m1\u001b[0m    \u001b[1;36m1\u001b[0m-\u001b[1;36m14\u001b[0m days               \u001b[1;36m1\u001b[0m               \u001b[1;36m0\u001b[0m   \n",
       "\u001b[1;36m7\u001b[0m                \u001b[1;36m0\u001b[0m          \u001b[1;36m0\u001b[0m    \u001b[1;36m1\u001b[0m-\u001b[1;36m14\u001b[0m days               \u001b[1;36m1\u001b[0m               \u001b[1;36m0\u001b[0m   \n",
       "\u001b[1;36m8\u001b[0m                \u001b[1;36m0\u001b[0m          \u001b[1;36m0\u001b[0m    \u001b[1;36m1\u001b[0m-\u001b[1;36m14\u001b[0m days               \u001b[1;36m1\u001b[0m               \u001b[1;36m0\u001b[0m   \n",
       "\u001b[1;36m9\u001b[0m                \u001b[1;36m0\u001b[0m          \u001b[1;36m0\u001b[0m    \u001b[1;36m1\u001b[0m-\u001b[1;36m14\u001b[0m days               \u001b[1;36m1\u001b[0m               \u001b[1;36m0\u001b[0m   \n",
       "\u001b[1;36m10\u001b[0m               \u001b[1;36m1\u001b[0m          \u001b[1;36m0\u001b[0m    \u001b[1;36m1\u001b[0m-\u001b[1;36m14\u001b[0m days               \u001b[1;36m1\u001b[0m               \u001b[1;36m0\u001b[0m   \n",
       "\u001b[1;36m11\u001b[0m               \u001b[1;36m0\u001b[0m          \u001b[1;36m0\u001b[0m    \u001b[1;36m1\u001b[0m-\u001b[1;36m14\u001b[0m days               \u001b[1;36m1\u001b[0m               \u001b[1;36m0\u001b[0m   \n",
       "\u001b[1;36m12\u001b[0m               \u001b[1;36m0\u001b[0m          \u001b[1;36m0\u001b[0m    \u001b[1;36m1\u001b[0m-\u001b[1;36m14\u001b[0m days               \u001b[1;36m1\u001b[0m               \u001b[1;36m0\u001b[0m   \n",
       "\u001b[1;36m13\u001b[0m               \u001b[1;36m1\u001b[0m          \u001b[1;36m1\u001b[0m    \u001b[1;36m1\u001b[0m-\u001b[1;36m14\u001b[0m days               \u001b[1;36m1\u001b[0m               \u001b[1;36m0\u001b[0m   \n",
       "\u001b[1;36m14\u001b[0m               \u001b[1;36m0\u001b[0m          \u001b[1;36m1\u001b[0m    \u001b[1;36m1\u001b[0m-\u001b[1;36m14\u001b[0m days               \u001b[1;36m1\u001b[0m               \u001b[1;36m0\u001b[0m   \n",
       "\u001b[1;36m15\u001b[0m               \u001b[1;36m0\u001b[0m          \u001b[1;36m0\u001b[0m    \u001b[1;36m1\u001b[0m-\u001b[1;36m14\u001b[0m days               \u001b[1;36m1\u001b[0m               \u001b[1;36m0\u001b[0m   \n",
       "\u001b[1;36m16\u001b[0m               \u001b[1;36m1\u001b[0m          \u001b[1;36m1\u001b[0m    \u001b[1;36m1\u001b[0m-\u001b[1;36m14\u001b[0m days               \u001b[1;36m1\u001b[0m               \u001b[1;36m0\u001b[0m   \n",
       "\u001b[1;36m17\u001b[0m               \u001b[1;36m1\u001b[0m          \u001b[1;36m1\u001b[0m    \u001b[1;36m1\u001b[0m-\u001b[1;36m14\u001b[0m days               \u001b[1;36m1\u001b[0m               \u001b[1;36m0\u001b[0m   \n",
       "\u001b[1;36m18\u001b[0m               \u001b[1;36m0\u001b[0m          \u001b[1;36m0\u001b[0m    \u001b[1;36m1\u001b[0m-\u001b[1;36m14\u001b[0m days               \u001b[1;36m1\u001b[0m               \u001b[1;36m0\u001b[0m   \n",
       "\u001b[1;36m19\u001b[0m               \u001b[1;36m1\u001b[0m          \u001b[1;36m1\u001b[0m    \u001b[1;36m1\u001b[0m-\u001b[1;36m14\u001b[0m days               \u001b[1;36m1\u001b[0m               \u001b[1;36m0\u001b[0m   \n",
       "\n",
       "    Mental_Health_History Mood_Swings  Coping_Struggles  Work_Interest  \\\n",
       "\u001b[1;36m0\u001b[0m                       \u001b[1;36m1\u001b[0m      Medium                 \u001b[1;36m0\u001b[0m              \u001b[1;36m0\u001b[0m   \n",
       "\u001b[1;36m1\u001b[0m                       \u001b[1;36m1\u001b[0m      Medium                 \u001b[1;36m0\u001b[0m              \u001b[1;36m0\u001b[0m   \n",
       "\u001b[1;36m2\u001b[0m                       \u001b[1;36m1\u001b[0m      Medium                 \u001b[1;36m0\u001b[0m              \u001b[1;36m0\u001b[0m   \n",
       "\u001b[1;36m3\u001b[0m                       \u001b[1;36m1\u001b[0m      Medium                 \u001b[1;36m0\u001b[0m              \u001b[1;36m0\u001b[0m   \n",
       "\u001b[1;36m4\u001b[0m                       \u001b[1;36m1\u001b[0m      Medium                 \u001b[1;36m0\u001b[0m              \u001b[1;36m0\u001b[0m   \n",
       "\u001b[1;36m5\u001b[0m                       \u001b[1;36m1\u001b[0m      Medium                 \u001b[1;36m0\u001b[0m              \u001b[1;36m0\u001b[0m   \n",
       "\u001b[1;36m6\u001b[0m                       \u001b[1;36m1\u001b[0m      Medium                 \u001b[1;36m0\u001b[0m              \u001b[1;36m0\u001b[0m   \n",
       "\u001b[1;36m7\u001b[0m                       \u001b[1;36m1\u001b[0m      Medium                 \u001b[1;36m0\u001b[0m              \u001b[1;36m0\u001b[0m   \n",
       "\u001b[1;36m8\u001b[0m                       \u001b[1;36m1\u001b[0m      Medium                 \u001b[1;36m0\u001b[0m              \u001b[1;36m0\u001b[0m   \n",
       "\u001b[1;36m9\u001b[0m                       \u001b[1;36m1\u001b[0m      Medium                 \u001b[1;36m0\u001b[0m              \u001b[1;36m0\u001b[0m   \n",
       "\u001b[1;36m10\u001b[0m                      \u001b[1;36m1\u001b[0m      Medium                 \u001b[1;36m0\u001b[0m              \u001b[1;36m0\u001b[0m   \n",
       "\u001b[1;36m11\u001b[0m                      \u001b[1;36m1\u001b[0m      Medium                 \u001b[1;36m0\u001b[0m              \u001b[1;36m0\u001b[0m   \n",
       "\u001b[1;36m12\u001b[0m                      \u001b[1;36m1\u001b[0m      Medium                 \u001b[1;36m0\u001b[0m              \u001b[1;36m0\u001b[0m   \n",
       "\u001b[1;36m13\u001b[0m                      \u001b[1;36m1\u001b[0m      Medium                 \u001b[1;36m0\u001b[0m              \u001b[1;36m0\u001b[0m   \n",
       "\u001b[1;36m14\u001b[0m                      \u001b[1;36m1\u001b[0m      Medium                 \u001b[1;36m0\u001b[0m              \u001b[1;36m0\u001b[0m   \n",
       "\u001b[1;36m15\u001b[0m                      \u001b[1;36m1\u001b[0m      Medium                 \u001b[1;36m0\u001b[0m              \u001b[1;36m0\u001b[0m   \n",
       "\u001b[1;36m16\u001b[0m                      \u001b[1;36m1\u001b[0m      Medium                 \u001b[1;36m0\u001b[0m              \u001b[1;36m0\u001b[0m   \n",
       "\u001b[1;36m17\u001b[0m                      \u001b[1;36m1\u001b[0m      Medium                 \u001b[1;36m0\u001b[0m              \u001b[1;36m0\u001b[0m   \n",
       "\u001b[1;36m18\u001b[0m                      \u001b[1;36m1\u001b[0m      Medium                 \u001b[1;36m0\u001b[0m              \u001b[1;36m0\u001b[0m   \n",
       "\u001b[1;36m19\u001b[0m                      \u001b[1;36m1\u001b[0m      Medium                 \u001b[1;36m0\u001b[0m              \u001b[1;36m0\u001b[0m   \n",
       "\n",
       "    Social_Weakness  mental_health_interview care_options  \n",
       "\u001b[1;36m0\u001b[0m                 \u001b[1;36m1\u001b[0m                        \u001b[1;36m0\u001b[0m     Not sure  \n",
       "\u001b[1;36m1\u001b[0m                 \u001b[1;36m1\u001b[0m                        \u001b[1;36m0\u001b[0m           No  \n",
       "\u001b[1;36m2\u001b[0m                 \u001b[1;36m1\u001b[0m                        \u001b[1;36m0\u001b[0m          Yes  \n",
       "\u001b[1;36m3\u001b[0m                 \u001b[1;36m1\u001b[0m                        \u001b[1;36m2\u001b[0m          Yes  \n",
       "\u001b[1;36m4\u001b[0m                 \u001b[1;36m1\u001b[0m                        \u001b[1;36m0\u001b[0m          Yes  \n",
       "\u001b[1;36m5\u001b[0m                 \u001b[1;36m1\u001b[0m                        \u001b[1;36m2\u001b[0m     Not sure  \n",
       "\u001b[1;36m6\u001b[0m                 \u001b[1;36m1\u001b[0m                        \u001b[1;36m0\u001b[0m     Not sure  \n",
       "\u001b[1;36m7\u001b[0m                 \u001b[1;36m1\u001b[0m                        \u001b[1;36m0\u001b[0m           No  \n",
       "\u001b[1;36m8\u001b[0m                 \u001b[1;36m1\u001b[0m                        \u001b[1;36m0\u001b[0m     Not sure  \n",
       "\u001b[1;36m9\u001b[0m                 \u001b[1;36m1\u001b[0m                        \u001b[1;36m0\u001b[0m           No  \n",
       "\u001b[1;36m10\u001b[0m                \u001b[1;36m1\u001b[0m                        \u001b[1;36m0\u001b[0m     Not sure  \n",
       "\u001b[1;36m11\u001b[0m                \u001b[1;36m1\u001b[0m                        \u001b[1;36m0\u001b[0m     Not sure  \n",
       "\u001b[1;36m12\u001b[0m                \u001b[1;36m1\u001b[0m                        \u001b[1;36m0\u001b[0m           No  \n",
       "\u001b[1;36m13\u001b[0m                \u001b[1;36m1\u001b[0m                        \u001b[1;36m0\u001b[0m          Yes  \n",
       "\u001b[1;36m14\u001b[0m                \u001b[1;36m1\u001b[0m                        \u001b[1;36m0\u001b[0m     Not sure  \n",
       "\u001b[1;36m15\u001b[0m                \u001b[1;36m1\u001b[0m                        \u001b[1;36m2\u001b[0m           No  \n",
       "\u001b[1;36m16\u001b[0m                \u001b[1;36m1\u001b[0m                        \u001b[1;36m0\u001b[0m     Not sure  \n",
       "\u001b[1;36m17\u001b[0m                \u001b[1;36m1\u001b[0m                        \u001b[1;36m0\u001b[0m          Yes  \n",
       "\u001b[1;36m18\u001b[0m                \u001b[1;36m1\u001b[0m                        \u001b[1;36m0\u001b[0m     Not sure  \n",
       "\u001b[1;36m19\u001b[0m                \u001b[1;36m1\u001b[0m                        \u001b[1;36m0\u001b[0m           No  "
      ]
     },
     "execution_count": 15,
     "metadata": {},
     "output_type": "execute_result"
    }
   ],
   "source": [
    "#Comprobamos los datos cambiados.\n",
    "df3.head(20)"
   ]
  },
  {
   "cell_type": "markdown",
   "id": "619feffa-b97b-46c7-aac3-535db86e0b89",
   "metadata": {},
   "source": [
    "***Data transformation: Finally, we change the categorical column \"care_options\" to numeric values of 0, 1, and 2.***"
   ]
  },
  {
   "cell_type": "code",
   "execution_count": 16,
   "id": "92fcf28c-7a2e-402f-ae80-e778b2ef9174",
   "metadata": {},
   "outputs": [
    {
     "name": "stdout",
     "output_type": "stream",
     "text": [
      "0    2\n",
      "1    0\n",
      "2    1\n",
      "3    1\n",
      "4    1\n",
      "Name: care_options, dtype: int64\n"
     ]
    }
   ],
   "source": [
    "# Mapeo manual de 'Yes', 'No', 'Not sure' a 1, 0, 2\n",
    "mapping_care_options = {'No': 0, 'Yes': 1, 'Not sure': 2}\n",
    "\n",
    "# Aplicar el mapeo a la columna 'care_options'\n",
    "df3['care_options'] = df3['care_options'].map(mapping_care_options)\n",
    "\n",
    "# Verificar la transformación\n",
    "print(df3['care_options'].head())\n"
   ]
  },
  {
   "cell_type": "markdown",
   "id": "9869601d-b2cc-40fc-995a-64e70d8a5870",
   "metadata": {},
   "source": [
    "***Finally, we create a second dataframe copy called df4 to save the progress of the work done previously.***"
   ]
  },
  {
   "cell_type": "code",
   "execution_count": 17,
   "id": "7c1cdfca-450e-4ffe-b4e2-e9162338eab7",
   "metadata": {},
   "outputs": [
    {
     "name": "stdout",
     "output_type": "stream",
     "text": [
      "df4 Creado\n"
     ]
    }
   ],
   "source": [
    "df4 = df3.copy()\n",
    "print(\"df4 Creado\")"
   ]
  },
  {
   "cell_type": "markdown",
   "id": "57b592c3-0a17-4e7d-b8a6-5a5c2ef37923",
   "metadata": {},
   "source": [
    "***Now we can work on the next phases with our dataframe.***"
   ]
  },
  {
   "cell_type": "code",
   "execution_count": 18,
   "id": "67e93c3e-e1b4-4965-a446-ac6dde6906a5",
   "metadata": {},
   "outputs": [],
   "source": [
    "# Supongamos que tu DataFrame se llama \"df\"\n",
    "df4.to_csv('mi_dataset_modificado.csv', index=False)\n"
   ]
  },
  {
   "cell_type": "code",
   "execution_count": null,
   "id": "2b589104-4a56-4cfb-be5f-d624ae6602e6",
   "metadata": {},
   "outputs": [],
   "source": []
  }
 ],
 "metadata": {
  "kernelspec": {
   "display_name": "Python 3 (ipykernel)",
   "language": "python",
   "name": "python3"
  },
  "language_info": {
   "codemirror_mode": {
    "name": "ipython",
    "version": 3
   },
   "file_extension": ".py",
   "mimetype": "text/x-python",
   "name": "python",
   "nbconvert_exporter": "python",
   "pygments_lexer": "ipython3",
   "version": "3.10.4"
  }
 },
 "nbformat": 4,
 "nbformat_minor": 5
}
