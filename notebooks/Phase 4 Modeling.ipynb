{
 "cells": [
  {
   "cell_type": "code",
   "execution_count": 1,
   "id": "e9903a7d-ace5-4b10-8af7-c88b7f977739",
   "metadata": {},
   "outputs": [
    {
     "data": {
      "text/html": [
       "<pre style=\"white-space:pre;overflow-x:auto;line-height:normal;font-family:Menlo,'DejaVu Sans Mono',consolas,'Courier New',monospace\"><span style=\"color: #7fbfbf; text-decoration-color: #7fbfbf\">[10/20/24 00:02:58] </span><span style=\"color: #000080; text-decoration-color: #000080\">INFO    </span> Using                                                                  <a href=\"file://C:\\Users\\matia\\OneDrive\\Escritorio\\machine\\.venv\\lib\\site-packages\\kedro\\framework\\project\\__init__.py\" target=\"_blank\"><span style=\"color: #7f7f7f; text-decoration-color: #7f7f7f\">__init__.py</span></a><span style=\"color: #7f7f7f; text-decoration-color: #7f7f7f\">:</span><a href=\"file://C:\\Users\\matia\\OneDrive\\Escritorio\\machine\\.venv\\lib\\site-packages\\kedro\\framework\\project\\__init__.py#249\" target=\"_blank\"><span style=\"color: #7f7f7f; text-decoration-color: #7f7f7f\">249</span></a>\n",
       "<span style=\"color: #7fbfbf; text-decoration-color: #7fbfbf\">                    </span>         <span style=\"color: #008000; text-decoration-color: #008000\">'C:\\Users\\matia\\OneDrive\\Escritorio\\machine\\.venv\\lib\\site-packages\\ke</span> <span style=\"color: #7f7f7f; text-decoration-color: #7f7f7f\">               </span>\n",
       "<span style=\"color: #7fbfbf; text-decoration-color: #7fbfbf\">                    </span>         <span style=\"color: #008000; text-decoration-color: #008000\">dro\\framework\\project\\rich_logging.yml'</span> as logging configuration.      <span style=\"color: #7f7f7f; text-decoration-color: #7f7f7f\">               </span>\n",
       "</pre>\n"
      ],
      "text/plain": [
       "\u001b[2;36m[10/20/24 00:02:58]\u001b[0m\u001b[2;36m \u001b[0m\u001b[34mINFO    \u001b[0m Using                                                                  \u001b]8;id=566846;file://C:\\Users\\matia\\OneDrive\\Escritorio\\machine\\.venv\\lib\\site-packages\\kedro\\framework\\project\\__init__.py\u001b\\\u001b[2m__init__.py\u001b[0m\u001b]8;;\u001b\\\u001b[2m:\u001b[0m\u001b]8;id=990785;file://C:\\Users\\matia\\OneDrive\\Escritorio\\machine\\.venv\\lib\\site-packages\\kedro\\framework\\project\\__init__.py#249\u001b\\\u001b[2m249\u001b[0m\u001b]8;;\u001b\\\n",
       "\u001b[2;36m                    \u001b[0m         \u001b[32m'C:\\Users\\matia\\OneDrive\\Escritorio\\machine\\.venv\\lib\\site-packages\\ke\u001b[0m \u001b[2m               \u001b[0m\n",
       "\u001b[2;36m                    \u001b[0m         \u001b[32mdro\\framework\\project\\rich_logging.yml'\u001b[0m as logging configuration.      \u001b[2m               \u001b[0m\n"
      ]
     },
     "metadata": {},
     "output_type": "display_data"
    },
    {
     "data": {
      "text/html": [
       "<pre style=\"white-space:pre;overflow-x:auto;line-height:normal;font-family:Menlo,'DejaVu Sans Mono',consolas,'Courier New',monospace\"><span style=\"color: #7fbfbf; text-decoration-color: #7fbfbf\">                    </span><span style=\"color: #000080; text-decoration-color: #000080\">INFO    </span> Registered line magic <span style=\"color: #008000; text-decoration-color: #008000\">'%reload_kedro'</span>                                   <a href=\"file://C:\\Users\\matia\\OneDrive\\Escritorio\\machine\\.venv\\lib\\site-packages\\kedro\\ipython\\__init__.py\" target=\"_blank\"><span style=\"color: #7f7f7f; text-decoration-color: #7f7f7f\">__init__.py</span></a><span style=\"color: #7f7f7f; text-decoration-color: #7f7f7f\">:</span><a href=\"file://C:\\Users\\matia\\OneDrive\\Escritorio\\machine\\.venv\\lib\\site-packages\\kedro\\ipython\\__init__.py#58\" target=\"_blank\"><span style=\"color: #7f7f7f; text-decoration-color: #7f7f7f\">58</span></a>\n",
       "</pre>\n"
      ],
      "text/plain": [
       "\u001b[2;36m                   \u001b[0m\u001b[2;36m \u001b[0m\u001b[34mINFO    \u001b[0m Registered line magic \u001b[32m'%reload_kedro'\u001b[0m                                   \u001b]8;id=306520;file://C:\\Users\\matia\\OneDrive\\Escritorio\\machine\\.venv\\lib\\site-packages\\kedro\\ipython\\__init__.py\u001b\\\u001b[2m__init__.py\u001b[0m\u001b]8;;\u001b\\\u001b[2m:\u001b[0m\u001b]8;id=951637;file://C:\\Users\\matia\\OneDrive\\Escritorio\\machine\\.venv\\lib\\site-packages\\kedro\\ipython\\__init__.py#58\u001b\\\u001b[2m58\u001b[0m\u001b]8;;\u001b\\\n"
      ]
     },
     "metadata": {},
     "output_type": "display_data"
    },
    {
     "data": {
      "text/html": [
       "<pre style=\"white-space:pre;overflow-x:auto;line-height:normal;font-family:Menlo,'DejaVu Sans Mono',consolas,'Courier New',monospace\"><span style=\"color: #7fbfbf; text-decoration-color: #7fbfbf\">                    </span><span style=\"color: #000080; text-decoration-color: #000080\">INFO    </span> Registered line magic <span style=\"color: #008000; text-decoration-color: #008000\">'%load_node'</span>                                      <a href=\"file://C:\\Users\\matia\\OneDrive\\Escritorio\\machine\\.venv\\lib\\site-packages\\kedro\\ipython\\__init__.py\" target=\"_blank\"><span style=\"color: #7f7f7f; text-decoration-color: #7f7f7f\">__init__.py</span></a><span style=\"color: #7f7f7f; text-decoration-color: #7f7f7f\">:</span><a href=\"file://C:\\Users\\matia\\OneDrive\\Escritorio\\machine\\.venv\\lib\\site-packages\\kedro\\ipython\\__init__.py#60\" target=\"_blank\"><span style=\"color: #7f7f7f; text-decoration-color: #7f7f7f\">60</span></a>\n",
       "</pre>\n"
      ],
      "text/plain": [
       "\u001b[2;36m                   \u001b[0m\u001b[2;36m \u001b[0m\u001b[34mINFO    \u001b[0m Registered line magic \u001b[32m'%load_node'\u001b[0m                                      \u001b]8;id=213774;file://C:\\Users\\matia\\OneDrive\\Escritorio\\machine\\.venv\\lib\\site-packages\\kedro\\ipython\\__init__.py\u001b\\\u001b[2m__init__.py\u001b[0m\u001b]8;;\u001b\\\u001b[2m:\u001b[0m\u001b]8;id=235750;file://C:\\Users\\matia\\OneDrive\\Escritorio\\machine\\.venv\\lib\\site-packages\\kedro\\ipython\\__init__.py#60\u001b\\\u001b[2m60\u001b[0m\u001b]8;;\u001b\\\n"
      ]
     },
     "metadata": {},
     "output_type": "display_data"
    },
    {
     "data": {
      "text/html": [
       "<pre style=\"white-space:pre;overflow-x:auto;line-height:normal;font-family:Menlo,'DejaVu Sans Mono',consolas,'Courier New',monospace\"><span style=\"color: #7fbfbf; text-decoration-color: #7fbfbf\">                    </span><span style=\"color: #000080; text-decoration-color: #000080\">INFO    </span> Resolved project path as:                                              <a href=\"file://C:\\Users\\matia\\OneDrive\\Escritorio\\machine\\.venv\\lib\\site-packages\\kedro\\ipython\\__init__.py\" target=\"_blank\"><span style=\"color: #7f7f7f; text-decoration-color: #7f7f7f\">__init__.py</span></a><span style=\"color: #7f7f7f; text-decoration-color: #7f7f7f\">:</span><a href=\"file://C:\\Users\\matia\\OneDrive\\Escritorio\\machine\\.venv\\lib\\site-packages\\kedro\\ipython\\__init__.py#175\" target=\"_blank\"><span style=\"color: #7f7f7f; text-decoration-color: #7f7f7f\">175</span></a>\n",
       "<span style=\"color: #7fbfbf; text-decoration-color: #7fbfbf\">                    </span>         C:\\Users\\matia\\OneDrive\\Escritorio\\machine\\Es_salud_mental.            <span style=\"color: #7f7f7f; text-decoration-color: #7f7f7f\">               </span>\n",
       "<span style=\"color: #7fbfbf; text-decoration-color: #7fbfbf\">                    </span>         To set a different path, run <span style=\"color: #008000; text-decoration-color: #008000\">'%reload_kedro &lt;project_root&gt;'</span>            <span style=\"color: #7f7f7f; text-decoration-color: #7f7f7f\">               </span>\n",
       "</pre>\n"
      ],
      "text/plain": [
       "\u001b[2;36m                   \u001b[0m\u001b[2;36m \u001b[0m\u001b[34mINFO    \u001b[0m Resolved project path as:                                              \u001b]8;id=396498;file://C:\\Users\\matia\\OneDrive\\Escritorio\\machine\\.venv\\lib\\site-packages\\kedro\\ipython\\__init__.py\u001b\\\u001b[2m__init__.py\u001b[0m\u001b]8;;\u001b\\\u001b[2m:\u001b[0m\u001b]8;id=595122;file://C:\\Users\\matia\\OneDrive\\Escritorio\\machine\\.venv\\lib\\site-packages\\kedro\\ipython\\__init__.py#175\u001b\\\u001b[2m175\u001b[0m\u001b]8;;\u001b\\\n",
       "\u001b[2;36m                    \u001b[0m         C:\\Users\\matia\\OneDrive\\Escritorio\\machine\\Es_salud_mental.            \u001b[2m               \u001b[0m\n",
       "\u001b[2;36m                    \u001b[0m         To set a different path, run \u001b[32m'%reload_kedro \u001b[0m\u001b[32m<\u001b[0m\u001b[32mproject_root\u001b[0m\u001b[32m>\u001b[0m\u001b[32m'\u001b[0m            \u001b[2m               \u001b[0m\n"
      ]
     },
     "metadata": {},
     "output_type": "display_data"
    },
    {
     "data": {
      "text/html": [
       "<pre style=\"white-space:pre;overflow-x:auto;line-height:normal;font-family:Menlo,'DejaVu Sans Mono',consolas,'Courier New',monospace\"><span style=\"color: #7fbfbf; text-decoration-color: #7fbfbf\">[10/20/24 00:03:13] </span><span style=\"color: #000080; text-decoration-color: #000080\">INFO    </span> Kedro is sending anonymous usage data with the sole purpose of improving <a href=\"file://C:\\Users\\matia\\OneDrive\\Escritorio\\machine\\.venv\\lib\\site-packages\\kedro_telemetry\\plugin.py\" target=\"_blank\"><span style=\"color: #7f7f7f; text-decoration-color: #7f7f7f\">plugin.py</span></a><span style=\"color: #7f7f7f; text-decoration-color: #7f7f7f\">:</span><a href=\"file://C:\\Users\\matia\\OneDrive\\Escritorio\\machine\\.venv\\lib\\site-packages\\kedro_telemetry\\plugin.py#233\" target=\"_blank\"><span style=\"color: #7f7f7f; text-decoration-color: #7f7f7f\">233</span></a>\n",
       "<span style=\"color: #7fbfbf; text-decoration-color: #7fbfbf\">                    </span>         the product. No personal data or IP addresses are stored on our side. If <span style=\"color: #7f7f7f; text-decoration-color: #7f7f7f\">             </span>\n",
       "<span style=\"color: #7fbfbf; text-decoration-color: #7fbfbf\">                    </span>         you want to opt out, set the `KEDRO_DISABLE_TELEMETRY` or `DO_NOT_TRACK` <span style=\"color: #7f7f7f; text-decoration-color: #7f7f7f\">             </span>\n",
       "<span style=\"color: #7fbfbf; text-decoration-color: #7fbfbf\">                    </span>         environment variables, or create a `.telemetry` file in the current      <span style=\"color: #7f7f7f; text-decoration-color: #7f7f7f\">             </span>\n",
       "<span style=\"color: #7fbfbf; text-decoration-color: #7fbfbf\">                    </span>         working directory with the contents `consent: false`. Read more at       <span style=\"color: #7f7f7f; text-decoration-color: #7f7f7f\">             </span>\n",
       "<span style=\"color: #7fbfbf; text-decoration-color: #7fbfbf\">                    </span>         <span style=\"color: #0000ff; text-decoration-color: #0000ff; text-decoration: underline\">https://docs.kedro.org/en/stable/configuration/telemetry.html</span>            <span style=\"color: #7f7f7f; text-decoration-color: #7f7f7f\">             </span>\n",
       "</pre>\n"
      ],
      "text/plain": [
       "\u001b[2;36m[10/20/24 00:03:13]\u001b[0m\u001b[2;36m \u001b[0m\u001b[34mINFO    \u001b[0m Kedro is sending anonymous usage data with the sole purpose of improving \u001b]8;id=478695;file://C:\\Users\\matia\\OneDrive\\Escritorio\\machine\\.venv\\lib\\site-packages\\kedro_telemetry\\plugin.py\u001b\\\u001b[2mplugin.py\u001b[0m\u001b]8;;\u001b\\\u001b[2m:\u001b[0m\u001b]8;id=180360;file://C:\\Users\\matia\\OneDrive\\Escritorio\\machine\\.venv\\lib\\site-packages\\kedro_telemetry\\plugin.py#233\u001b\\\u001b[2m233\u001b[0m\u001b]8;;\u001b\\\n",
       "\u001b[2;36m                    \u001b[0m         the product. No personal data or IP addresses are stored on our side. If \u001b[2m             \u001b[0m\n",
       "\u001b[2;36m                    \u001b[0m         you want to opt out, set the `KEDRO_DISABLE_TELEMETRY` or `DO_NOT_TRACK` \u001b[2m             \u001b[0m\n",
       "\u001b[2;36m                    \u001b[0m         environment variables, or create a `.telemetry` file in the current      \u001b[2m             \u001b[0m\n",
       "\u001b[2;36m                    \u001b[0m         working directory with the contents `consent: false`. Read more at       \u001b[2m             \u001b[0m\n",
       "\u001b[2;36m                    \u001b[0m         \u001b[4;94mhttps://docs.kedro.org/en/stable/configuration/telemetry.html\u001b[0m            \u001b[2m             \u001b[0m\n"
      ]
     },
     "metadata": {},
     "output_type": "display_data"
    },
    {
     "data": {
      "text/html": [
       "<pre style=\"white-space:pre;overflow-x:auto;line-height:normal;font-family:Menlo,'DejaVu Sans Mono',consolas,'Courier New',monospace\"><span style=\"color: #7fbfbf; text-decoration-color: #7fbfbf\">[10/20/24 00:03:14] </span><span style=\"color: #000080; text-decoration-color: #000080\">INFO    </span> Kedro project psicologia                                               <a href=\"file://C:\\Users\\matia\\OneDrive\\Escritorio\\machine\\.venv\\lib\\site-packages\\kedro\\ipython\\__init__.py\" target=\"_blank\"><span style=\"color: #7f7f7f; text-decoration-color: #7f7f7f\">__init__.py</span></a><span style=\"color: #7f7f7f; text-decoration-color: #7f7f7f\">:</span><a href=\"file://C:\\Users\\matia\\OneDrive\\Escritorio\\machine\\.venv\\lib\\site-packages\\kedro\\ipython\\__init__.py#141\" target=\"_blank\"><span style=\"color: #7f7f7f; text-decoration-color: #7f7f7f\">141</span></a>\n",
       "</pre>\n"
      ],
      "text/plain": [
       "\u001b[2;36m[10/20/24 00:03:14]\u001b[0m\u001b[2;36m \u001b[0m\u001b[34mINFO    \u001b[0m Kedro project psicologia                                               \u001b]8;id=136153;file://C:\\Users\\matia\\OneDrive\\Escritorio\\machine\\.venv\\lib\\site-packages\\kedro\\ipython\\__init__.py\u001b\\\u001b[2m__init__.py\u001b[0m\u001b]8;;\u001b\\\u001b[2m:\u001b[0m\u001b]8;id=620219;file://C:\\Users\\matia\\OneDrive\\Escritorio\\machine\\.venv\\lib\\site-packages\\kedro\\ipython\\__init__.py#141\u001b\\\u001b[2m141\u001b[0m\u001b]8;;\u001b\\\n"
      ]
     },
     "metadata": {},
     "output_type": "display_data"
    },
    {
     "data": {
      "text/html": [
       "<pre style=\"white-space:pre;overflow-x:auto;line-height:normal;font-family:Menlo,'DejaVu Sans Mono',consolas,'Courier New',monospace\"><span style=\"color: #7fbfbf; text-decoration-color: #7fbfbf\">                    </span><span style=\"color: #000080; text-decoration-color: #000080\">INFO    </span> Defined global variable <span style=\"color: #008000; text-decoration-color: #008000\">'context'</span>, <span style=\"color: #008000; text-decoration-color: #008000\">'session'</span>, <span style=\"color: #008000; text-decoration-color: #008000\">'catalog'</span> and            <a href=\"file://C:\\Users\\matia\\OneDrive\\Escritorio\\machine\\.venv\\lib\\site-packages\\kedro\\ipython\\__init__.py\" target=\"_blank\"><span style=\"color: #7f7f7f; text-decoration-color: #7f7f7f\">__init__.py</span></a><span style=\"color: #7f7f7f; text-decoration-color: #7f7f7f\">:</span><a href=\"file://C:\\Users\\matia\\OneDrive\\Escritorio\\machine\\.venv\\lib\\site-packages\\kedro\\ipython\\__init__.py#142\" target=\"_blank\"><span style=\"color: #7f7f7f; text-decoration-color: #7f7f7f\">142</span></a>\n",
       "<span style=\"color: #7fbfbf; text-decoration-color: #7fbfbf\">                    </span>         <span style=\"color: #008000; text-decoration-color: #008000\">'pipelines'</span>                                                            <span style=\"color: #7f7f7f; text-decoration-color: #7f7f7f\">               </span>\n",
       "</pre>\n"
      ],
      "text/plain": [
       "\u001b[2;36m                   \u001b[0m\u001b[2;36m \u001b[0m\u001b[34mINFO    \u001b[0m Defined global variable \u001b[32m'context'\u001b[0m, \u001b[32m'session'\u001b[0m, \u001b[32m'catalog'\u001b[0m and            \u001b]8;id=778459;file://C:\\Users\\matia\\OneDrive\\Escritorio\\machine\\.venv\\lib\\site-packages\\kedro\\ipython\\__init__.py\u001b\\\u001b[2m__init__.py\u001b[0m\u001b]8;;\u001b\\\u001b[2m:\u001b[0m\u001b]8;id=126884;file://C:\\Users\\matia\\OneDrive\\Escritorio\\machine\\.venv\\lib\\site-packages\\kedro\\ipython\\__init__.py#142\u001b\\\u001b[2m142\u001b[0m\u001b]8;;\u001b\\\n",
       "\u001b[2;36m                    \u001b[0m         \u001b[32m'pipelines'\u001b[0m                                                            \u001b[2m               \u001b[0m\n"
      ]
     },
     "metadata": {},
     "output_type": "display_data"
    }
   ],
   "source": [
    "%load_ext kedro.ipython"
   ]
  },
  {
   "cell_type": "code",
   "execution_count": 2,
   "id": "0632b7a3-9286-4151-a4f8-8af3ce13b466",
   "metadata": {},
   "outputs": [
    {
     "data": {
      "text/html": [
       "<pre style=\"white-space:pre;overflow-x:auto;line-height:normal;font-family:Menlo,'DejaVu Sans Mono',consolas,'Courier New',monospace\"></pre>\n"
      ],
      "text/plain": []
     },
     "metadata": {},
     "output_type": "display_data"
    },
    {
     "data": {
      "text/plain": [
       "\n",
       "\u001b[1;35mKedroContext\u001b[0m\u001b[1m(\u001b[0m\n",
       "    \u001b[33mproject_path\u001b[0m=\u001b[1;35mWindowsPath\u001b[0m\u001b[1m(\u001b[0m\u001b[32m'C:/Users/matia/OneDrive/Escritorio/machine/Es_salud_mental'\u001b[0m\u001b[1m)\u001b[0m,\n",
       "    \u001b[33mconfig_loader\u001b[0m=\u001b[1;35mOmegaConfigLoader\u001b[0m\u001b[1m(\u001b[0m\u001b[33mconf_source\u001b[0m=\u001b[35mC\u001b[0m:\\Users\\matia\\OneDrive\\Escritorio\\machine\\Es_salud_mental\\conf, \u001b[33menv\u001b[0m=\u001b[3;35mNone\u001b[0m, \u001b[33mruntime_params\u001b[0m=\u001b[1m{\u001b[0m\u001b[1m}\u001b[0m, \u001b[33mconfig_patterns\u001b[0m=\u001b[1m{\u001b[0m\u001b[32m'catalog'\u001b[0m: \u001b[1m[\u001b[0m\u001b[32m'catalog*'\u001b[0m, \u001b[32m'catalog*/**'\u001b[0m, \u001b[32m'**/catalog*'\u001b[0m\u001b[1m]\u001b[0m, \u001b[32m'parameters'\u001b[0m: \u001b[1m[\u001b[0m\u001b[32m'parameters*'\u001b[0m, \u001b[32m'parameters*/**'\u001b[0m, \u001b[32m'**/parameters*'\u001b[0m\u001b[1m]\u001b[0m, \u001b[32m'credentials'\u001b[0m: \u001b[1m[\u001b[0m\u001b[32m'credentials*'\u001b[0m, \u001b[32m'credentials*/**'\u001b[0m, \u001b[32m'**/credentials*'\u001b[0m\u001b[1m]\u001b[0m, \u001b[32m'globals'\u001b[0m: \u001b[1m[\u001b[0m\u001b[32m'globals.yml'\u001b[0m\u001b[1m]\u001b[0m\u001b[1m}\u001b[0m, \u001b[33mbase_env\u001b[0m=\u001b[35mbase\u001b[0m\u001b[1m)\u001b[0m, \u001b[33mdefault_run_env\u001b[0m=\u001b[35mlocal\u001b[0m\u001b[1m)\u001b[0m, \u001b[33mcustom_resolvers\u001b[0m=\u001b[3;35mNone\u001b[0m\u001b[1m)\u001b[0m, \u001b[33mmerge_strategy\u001b[0m=\u001b[1m{\u001b[0m\u001b[1m}\u001b[0m\u001b[1m)\u001b[0m,\n",
       "    \u001b[33menv\u001b[0m=\u001b[3;35mNone\u001b[0m,\n",
       "    \u001b[33m_package_name\u001b[0m=\u001b[3;35mNone\u001b[0m,\n",
       "    \u001b[33m_hook_manager\u001b[0m=\u001b[1m<\u001b[0m\u001b[1;95mpluggy._manager.PluginManager\u001b[0m\u001b[39m object at \u001b[0m\u001b[1;36m0x00000176786E6920\u001b[0m\u001b[1m>\u001b[0m,\n",
       "    \u001b[33m_extra_params\u001b[0m=\u001b[3;35mNone\u001b[0m\n",
       "\u001b[1m)\u001b[0m"
      ]
     },
     "execution_count": 2,
     "metadata": {},
     "output_type": "execute_result"
    }
   ],
   "source": [
    "context"
   ]
  },
  {
   "cell_type": "markdown",
   "id": "811174cb-46bf-4995-8f34-6afce37fa90a",
   "metadata": {},
   "source": [
    "**Load the dataset**"
   ]
  },
  {
   "cell_type": "code",
   "execution_count": 3,
   "id": "feec01bc-a306-4df3-9fc8-bbfc45582b38",
   "metadata": {},
   "outputs": [
    {
     "data": {
      "text/html": [
       "<pre style=\"white-space:pre;overflow-x:auto;line-height:normal;font-family:Menlo,'DejaVu Sans Mono',consolas,'Courier New',monospace\"><span style=\"color: #7fbfbf; text-decoration-color: #7fbfbf\">                    </span><span style=\"color: #000080; text-decoration-color: #000080\">INFO    </span> Loading data from <span style=\"color: #ff8700; text-decoration-color: #ff8700\">mapped_data</span> <span style=\"font-weight: bold\">(</span>CSVDataset<span style=\"font-weight: bold\">)</span><span style=\"color: #808000; text-decoration-color: #808000\">...</span>                      <a href=\"file://C:\\Users\\matia\\OneDrive\\Escritorio\\machine\\.venv\\lib\\site-packages\\kedro\\io\\data_catalog.py\" target=\"_blank\"><span style=\"color: #7f7f7f; text-decoration-color: #7f7f7f\">data_catalog.py</span></a><span style=\"color: #7f7f7f; text-decoration-color: #7f7f7f\">:</span><a href=\"file://C:\\Users\\matia\\OneDrive\\Escritorio\\machine\\.venv\\lib\\site-packages\\kedro\\io\\data_catalog.py#539\" target=\"_blank\"><span style=\"color: #7f7f7f; text-decoration-color: #7f7f7f\">539</span></a>\n",
       "</pre>\n"
      ],
      "text/plain": [
       "\u001b[2;36m                   \u001b[0m\u001b[2;36m \u001b[0m\u001b[34mINFO    \u001b[0m Loading data from \u001b[38;5;208mmapped_data\u001b[0m \u001b[1m(\u001b[0mCSVDataset\u001b[1m)\u001b[0m\u001b[33m...\u001b[0m                      \u001b]8;id=967163;file://C:\\Users\\matia\\OneDrive\\Escritorio\\machine\\.venv\\lib\\site-packages\\kedro\\io\\data_catalog.py\u001b\\\u001b[2mdata_catalog.py\u001b[0m\u001b]8;;\u001b\\\u001b[2m:\u001b[0m\u001b]8;id=723319;file://C:\\Users\\matia\\OneDrive\\Escritorio\\machine\\.venv\\lib\\site-packages\\kedro\\io\\data_catalog.py#539\u001b\\\u001b[2m539\u001b[0m\u001b]8;;\u001b\\\n"
      ]
     },
     "metadata": {},
     "output_type": "display_data"
    }
   ],
   "source": [
    "df=catalog.load(\"mapped_data\")\n"
   ]
  },
  {
   "cell_type": "markdown",
   "id": "d7749e65-7259-4ced-8ee6-65cfc43e9b16",
   "metadata": {},
   "source": [
    "**we make a head to verify our data**"
   ]
  },
  {
   "cell_type": "code",
   "execution_count": 4,
   "id": "0a6d1c81-236a-4c1f-baeb-117258c93ec0",
   "metadata": {},
   "outputs": [
    {
     "data": {
      "text/html": [
       "<pre style=\"white-space:pre;overflow-x:auto;line-height:normal;font-family:Menlo,'DejaVu Sans Mono',consolas,'Courier New',monospace\"></pre>\n"
      ],
      "text/plain": []
     },
     "metadata": {},
     "output_type": "display_data"
    },
    {
     "data": {
      "text/html": [
       "<div>\n",
       "<style scoped>\n",
       "    .dataframe tbody tr th:only-of-type {\n",
       "        vertical-align: middle;\n",
       "    }\n",
       "\n",
       "    .dataframe tbody tr th {\n",
       "        vertical-align: top;\n",
       "    }\n",
       "\n",
       "    .dataframe thead th {\n",
       "        text-align: right;\n",
       "    }\n",
       "</style>\n",
       "<table border=\"1\" class=\"dataframe\">\n",
       "  <thead>\n",
       "    <tr style=\"text-align: right;\">\n",
       "      <th></th>\n",
       "      <th>Timestamp</th>\n",
       "      <th>Gender</th>\n",
       "      <th>Country</th>\n",
       "      <th>Occupation</th>\n",
       "      <th>self_employed</th>\n",
       "      <th>family_history</th>\n",
       "      <th>treatment</th>\n",
       "      <th>Days_Indoors</th>\n",
       "      <th>Growing_Stress</th>\n",
       "      <th>Changes_Habits</th>\n",
       "      <th>Mental_Health_History</th>\n",
       "      <th>Mood_Swings</th>\n",
       "      <th>Coping_Struggles</th>\n",
       "      <th>Work_Interest</th>\n",
       "      <th>Social_Weakness</th>\n",
       "      <th>mental_health_interview</th>\n",
       "      <th>care_options</th>\n",
       "    </tr>\n",
       "  </thead>\n",
       "  <tbody>\n",
       "    <tr>\n",
       "      <th>0</th>\n",
       "      <td>2014-08-27 11:29:31</td>\n",
       "      <td>Female</td>\n",
       "      <td>United States</td>\n",
       "      <td>Corporate</td>\n",
       "      <td>0</td>\n",
       "      <td>0</td>\n",
       "      <td>1</td>\n",
       "      <td>1-14 days</td>\n",
       "      <td>1</td>\n",
       "      <td>0</td>\n",
       "      <td>1</td>\n",
       "      <td>Medium</td>\n",
       "      <td>0</td>\n",
       "      <td>0</td>\n",
       "      <td>1</td>\n",
       "      <td>0</td>\n",
       "      <td>2</td>\n",
       "    </tr>\n",
       "    <tr>\n",
       "      <th>1</th>\n",
       "      <td>2014-08-27 11:31:50</td>\n",
       "      <td>Female</td>\n",
       "      <td>United States</td>\n",
       "      <td>Corporate</td>\n",
       "      <td>0</td>\n",
       "      <td>1</td>\n",
       "      <td>1</td>\n",
       "      <td>1-14 days</td>\n",
       "      <td>1</td>\n",
       "      <td>0</td>\n",
       "      <td>1</td>\n",
       "      <td>Medium</td>\n",
       "      <td>0</td>\n",
       "      <td>0</td>\n",
       "      <td>1</td>\n",
       "      <td>0</td>\n",
       "      <td>0</td>\n",
       "    </tr>\n",
       "    <tr>\n",
       "      <th>2</th>\n",
       "      <td>2014-08-27 11:32:39</td>\n",
       "      <td>Female</td>\n",
       "      <td>United States</td>\n",
       "      <td>Corporate</td>\n",
       "      <td>0</td>\n",
       "      <td>1</td>\n",
       "      <td>1</td>\n",
       "      <td>1-14 days</td>\n",
       "      <td>1</td>\n",
       "      <td>0</td>\n",
       "      <td>1</td>\n",
       "      <td>Medium</td>\n",
       "      <td>0</td>\n",
       "      <td>0</td>\n",
       "      <td>1</td>\n",
       "      <td>0</td>\n",
       "      <td>1</td>\n",
       "    </tr>\n",
       "    <tr>\n",
       "      <th>3</th>\n",
       "      <td>2014-08-27 11:37:59</td>\n",
       "      <td>Female</td>\n",
       "      <td>United States</td>\n",
       "      <td>Corporate</td>\n",
       "      <td>0</td>\n",
       "      <td>1</td>\n",
       "      <td>1</td>\n",
       "      <td>1-14 days</td>\n",
       "      <td>1</td>\n",
       "      <td>0</td>\n",
       "      <td>1</td>\n",
       "      <td>Medium</td>\n",
       "      <td>0</td>\n",
       "      <td>0</td>\n",
       "      <td>1</td>\n",
       "      <td>2</td>\n",
       "      <td>1</td>\n",
       "    </tr>\n",
       "    <tr>\n",
       "      <th>4</th>\n",
       "      <td>2014-08-27 11:43:36</td>\n",
       "      <td>Female</td>\n",
       "      <td>United States</td>\n",
       "      <td>Corporate</td>\n",
       "      <td>0</td>\n",
       "      <td>1</td>\n",
       "      <td>1</td>\n",
       "      <td>1-14 days</td>\n",
       "      <td>1</td>\n",
       "      <td>0</td>\n",
       "      <td>1</td>\n",
       "      <td>Medium</td>\n",
       "      <td>0</td>\n",
       "      <td>0</td>\n",
       "      <td>1</td>\n",
       "      <td>0</td>\n",
       "      <td>1</td>\n",
       "    </tr>\n",
       "  </tbody>\n",
       "</table>\n",
       "</div>"
      ],
      "text/plain": [
       "\n",
       "             Timestamp  Gender        Country Occupation  self_employed  \\\n",
       "\u001b[1;36m0\u001b[0m  \u001b[1;36m2014\u001b[0m-\u001b[1;36m08\u001b[0m-\u001b[1;36m27\u001b[0m \u001b[1;92m11:29:31\u001b[0m  Female  United States  Corporate              \u001b[1;36m0\u001b[0m   \n",
       "\u001b[1;36m1\u001b[0m  \u001b[1;36m2014\u001b[0m-\u001b[1;36m08\u001b[0m-\u001b[1;36m27\u001b[0m \u001b[1;92m11:31:50\u001b[0m  Female  United States  Corporate              \u001b[1;36m0\u001b[0m   \n",
       "\u001b[1;36m2\u001b[0m  \u001b[1;36m2014\u001b[0m-\u001b[1;36m08\u001b[0m-\u001b[1;36m27\u001b[0m \u001b[1;92m11:32:39\u001b[0m  Female  United States  Corporate              \u001b[1;36m0\u001b[0m   \n",
       "\u001b[1;36m3\u001b[0m  \u001b[1;36m2014\u001b[0m-\u001b[1;36m08\u001b[0m-\u001b[1;36m27\u001b[0m \u001b[1;92m11:37:59\u001b[0m  Female  United States  Corporate              \u001b[1;36m0\u001b[0m   \n",
       "\u001b[1;36m4\u001b[0m  \u001b[1;36m2014\u001b[0m-\u001b[1;36m08\u001b[0m-\u001b[1;36m27\u001b[0m \u001b[1;92m11:43:36\u001b[0m  Female  United States  Corporate              \u001b[1;36m0\u001b[0m   \n",
       "\n",
       "   family_history  treatment Days_Indoors  Growing_Stress  Changes_Habits  \\\n",
       "\u001b[1;36m0\u001b[0m               \u001b[1;36m0\u001b[0m          \u001b[1;36m1\u001b[0m    \u001b[1;36m1\u001b[0m-\u001b[1;36m14\u001b[0m days               \u001b[1;36m1\u001b[0m               \u001b[1;36m0\u001b[0m   \n",
       "\u001b[1;36m1\u001b[0m               \u001b[1;36m1\u001b[0m          \u001b[1;36m1\u001b[0m    \u001b[1;36m1\u001b[0m-\u001b[1;36m14\u001b[0m days               \u001b[1;36m1\u001b[0m               \u001b[1;36m0\u001b[0m   \n",
       "\u001b[1;36m2\u001b[0m               \u001b[1;36m1\u001b[0m          \u001b[1;36m1\u001b[0m    \u001b[1;36m1\u001b[0m-\u001b[1;36m14\u001b[0m days               \u001b[1;36m1\u001b[0m               \u001b[1;36m0\u001b[0m   \n",
       "\u001b[1;36m3\u001b[0m               \u001b[1;36m1\u001b[0m          \u001b[1;36m1\u001b[0m    \u001b[1;36m1\u001b[0m-\u001b[1;36m14\u001b[0m days               \u001b[1;36m1\u001b[0m               \u001b[1;36m0\u001b[0m   \n",
       "\u001b[1;36m4\u001b[0m               \u001b[1;36m1\u001b[0m          \u001b[1;36m1\u001b[0m    \u001b[1;36m1\u001b[0m-\u001b[1;36m14\u001b[0m days               \u001b[1;36m1\u001b[0m               \u001b[1;36m0\u001b[0m   \n",
       "\n",
       "   Mental_Health_History Mood_Swings  Coping_Struggles  Work_Interest  \\\n",
       "\u001b[1;36m0\u001b[0m                      \u001b[1;36m1\u001b[0m      Medium                 \u001b[1;36m0\u001b[0m              \u001b[1;36m0\u001b[0m   \n",
       "\u001b[1;36m1\u001b[0m                      \u001b[1;36m1\u001b[0m      Medium                 \u001b[1;36m0\u001b[0m              \u001b[1;36m0\u001b[0m   \n",
       "\u001b[1;36m2\u001b[0m                      \u001b[1;36m1\u001b[0m      Medium                 \u001b[1;36m0\u001b[0m              \u001b[1;36m0\u001b[0m   \n",
       "\u001b[1;36m3\u001b[0m                      \u001b[1;36m1\u001b[0m      Medium                 \u001b[1;36m0\u001b[0m              \u001b[1;36m0\u001b[0m   \n",
       "\u001b[1;36m4\u001b[0m                      \u001b[1;36m1\u001b[0m      Medium                 \u001b[1;36m0\u001b[0m              \u001b[1;36m0\u001b[0m   \n",
       "\n",
       "   Social_Weakness  mental_health_interview  care_options  \n",
       "\u001b[1;36m0\u001b[0m                \u001b[1;36m1\u001b[0m                        \u001b[1;36m0\u001b[0m             \u001b[1;36m2\u001b[0m  \n",
       "\u001b[1;36m1\u001b[0m                \u001b[1;36m1\u001b[0m                        \u001b[1;36m0\u001b[0m             \u001b[1;36m0\u001b[0m  \n",
       "\u001b[1;36m2\u001b[0m                \u001b[1;36m1\u001b[0m                        \u001b[1;36m0\u001b[0m             \u001b[1;36m1\u001b[0m  \n",
       "\u001b[1;36m3\u001b[0m                \u001b[1;36m1\u001b[0m                        \u001b[1;36m2\u001b[0m             \u001b[1;36m1\u001b[0m  \n",
       "\u001b[1;36m4\u001b[0m                \u001b[1;36m1\u001b[0m                        \u001b[1;36m0\u001b[0m             \u001b[1;36m1\u001b[0m  "
      ]
     },
     "execution_count": 4,
     "metadata": {},
     "output_type": "execute_result"
    }
   ],
   "source": [
    "df.head()"
   ]
  },
  {
   "cell_type": "markdown",
   "id": "e9d41c67-7531-4d6d-9b2e-3f75f124816b",
   "metadata": {},
   "source": [
    "**we make a copy of the dataset**"
   ]
  },
  {
   "cell_type": "code",
   "execution_count": 5,
   "id": "1e498315-6a26-4977-b9f1-37e3bb6f5192",
   "metadata": {},
   "outputs": [],
   "source": [
    "df2 = df.copy()"
   ]
  },
  {
   "cell_type": "markdown",
   "id": "a3155047-23e5-4498-beff-9c30770a8928",
   "metadata": {},
   "source": [
    "**We import the required libraries**"
   ]
  },
  {
   "cell_type": "code",
   "execution_count": 6,
   "id": "110891d0-b9e7-46ca-bec7-5a820c41aa0f",
   "metadata": {},
   "outputs": [
    {
     "data": {
      "text/html": [
       "<pre style=\"white-space:pre;overflow-x:auto;line-height:normal;font-family:Menlo,'DejaVu Sans Mono',consolas,'Courier New',monospace\"><span style=\"color: #7fbfbf; text-decoration-color: #7fbfbf\">[10/17/24 21:20:43] </span><span style=\"color: #808000; text-decoration-color: #808000\">WARNING </span> C:\\Users\\matia\\OneDrive\\Escritorio\\machine\\.venv\\lib\\site-packages\\tpo <a href=\"file://C:\\Users\\matia\\AppData\\Local\\Programs\\Python\\Python310\\lib\\warnings.py\" target=\"_blank\"><span style=\"color: #7f7f7f; text-decoration-color: #7f7f7f\">warnings.py</span></a><span style=\"color: #7f7f7f; text-decoration-color: #7f7f7f\">:</span><a href=\"file://C:\\Users\\matia\\AppData\\Local\\Programs\\Python\\Python310\\lib\\warnings.py#109\" target=\"_blank\"><span style=\"color: #7f7f7f; text-decoration-color: #7f7f7f\">109</span></a>\n",
       "<span style=\"color: #7fbfbf; text-decoration-color: #7fbfbf\">                    </span>         t\\builtins\\__init__.py:<span style=\"color: #008080; text-decoration-color: #008080; font-weight: bold\">36</span>: UserWarning: Warning: optional dependency   <span style=\"color: #7f7f7f; text-decoration-color: #7f7f7f\">               </span>\n",
       "<span style=\"color: #7fbfbf; text-decoration-color: #7fbfbf\">                    </span>         `torch` is not available. - skipping import of NN models.              <span style=\"color: #7f7f7f; text-decoration-color: #7f7f7f\">               </span>\n",
       "<span style=\"color: #7fbfbf; text-decoration-color: #7fbfbf\">                    </span>           <span style=\"color: #800080; text-decoration-color: #800080; font-weight: bold\">warnings.warn</span><span style=\"font-weight: bold\">(</span><span style=\"color: #008000; text-decoration-color: #008000\">\"Warning: optional dependency `torch` is not </span>          <span style=\"color: #7f7f7f; text-decoration-color: #7f7f7f\">               </span>\n",
       "<span style=\"color: #7fbfbf; text-decoration-color: #7fbfbf\">                    </span>         <span style=\"color: #008000; text-decoration-color: #008000\">available. - skipping import of NN models.\"</span><span style=\"font-weight: bold\">)</span>                           <span style=\"color: #7f7f7f; text-decoration-color: #7f7f7f\">               </span>\n",
       "<span style=\"color: #7fbfbf; text-decoration-color: #7fbfbf\">                    </span>                                                                                <span style=\"color: #7f7f7f; text-decoration-color: #7f7f7f\">               </span>\n",
       "</pre>\n"
      ],
      "text/plain": [
       "\u001b[2;36m[10/17/24 21:20:43]\u001b[0m\u001b[2;36m \u001b[0m\u001b[33mWARNING \u001b[0m C:\\Users\\matia\\OneDrive\\Escritorio\\machine\\.venv\\lib\\site-packages\\tpo \u001b]8;id=476693;file://C:\\Users\\matia\\AppData\\Local\\Programs\\Python\\Python310\\lib\\warnings.py\u001b\\\u001b[2mwarnings.py\u001b[0m\u001b]8;;\u001b\\\u001b[2m:\u001b[0m\u001b]8;id=764817;file://C:\\Users\\matia\\AppData\\Local\\Programs\\Python\\Python310\\lib\\warnings.py#109\u001b\\\u001b[2m109\u001b[0m\u001b]8;;\u001b\\\n",
       "\u001b[2;36m                    \u001b[0m         t\\builtins\\__init__.py:\u001b[1;36m36\u001b[0m: UserWarning: Warning: optional dependency   \u001b[2m               \u001b[0m\n",
       "\u001b[2;36m                    \u001b[0m         `torch` is not available. - skipping import of NN models.              \u001b[2m               \u001b[0m\n",
       "\u001b[2;36m                    \u001b[0m           \u001b[1;35mwarnings.warn\u001b[0m\u001b[1m(\u001b[0m\u001b[32m\"Warning: optional dependency `torch` is not \u001b[0m          \u001b[2m               \u001b[0m\n",
       "\u001b[2;36m                    \u001b[0m         \u001b[32mavailable. - skipping import of NN models.\"\u001b[0m\u001b[1m)\u001b[0m                           \u001b[2m               \u001b[0m\n",
       "\u001b[2;36m                    \u001b[0m                                                                                \u001b[2m               \u001b[0m\n"
      ]
     },
     "metadata": {},
     "output_type": "display_data"
    }
   ],
   "source": [
    "import pandas as pd\n",
    "import numpy as np\n",
    "from sklearn.model_selection import train_test_split\n",
    "from sklearn.linear_model import LinearRegression\n",
    "from sklearn.metrics import mean_squared_error, r2_score\n",
    "from sklearn.ensemble import RandomForestRegressor\n",
    "from sklearn.preprocessing import PolynomialFeatures\n",
    "from tpot import TPOTRegressor"
   ]
  },
  {
   "cell_type": "markdown",
   "id": "8636501c-e967-4498-91c1-afdefba1ff85",
   "metadata": {},
   "source": [
    "**We test the first linear regression model**"
   ]
  },
  {
   "cell_type": "code",
   "execution_count": 7,
   "id": "6a5de0b6-6c51-4b30-af99-7086fdb9d92c",
   "metadata": {},
   "outputs": [
    {
     "name": "stdout",
     "output_type": "stream",
     "text": [
      "Error Cuadrático Medio (MSE): 0.7048500486286281\n",
      "Coeficiente de determinación (R^2): 0.00740772940065626\n"
     ]
    }
   ],
   "source": [
    "\n",
    "# Suponiendo que ya tienes los datos en un DataFrame llamado 'dataset'\n",
    "\n",
    "# Seleccionar características relevantes\n",
    "X = df[['Gender', 'Days_Indoors', 'Mood_Swings', 'Mental_Health_History', 'Coping_Struggles']]\n",
    "y = df['Work_Interest']  # Nuestra variable objetivo\n",
    "\n",
    "# Codificar variables categóricas si es necesario\n",
    "X_encoded = pd.get_dummies(X, drop_first=True)\n",
    "\n",
    "# Dividir el conjunto de datos en entrenamiento y prueba\n",
    "X_train, X_test, y_train, y_test = train_test_split(X_encoded, y, test_size=0.3, random_state=42)\n",
    "\n",
    "# Crear el modelo de regresión lineal\n",
    "reg = LinearRegression()\n",
    "\n",
    "# Entrenar el modelo\n",
    "reg.fit(X_train, y_train)\n",
    "\n",
    "# Hacer predicciones\n",
    "y_pred = reg.predict(X_test)\n",
    "\n",
    "# Evaluar el modelo\n",
    "mse = mean_squared_error(y_test, y_pred)\n",
    "r2 = r2_score(y_test, y_pred)\n",
    "\n",
    "print(f\"Error Cuadrático Medio (MSE): {mse}\")\n",
    "print(f\"Coeficiente de determinación (R^2): {r2}\")\n",
    "\n"
   ]
  },
  {
   "cell_type": "markdown",
   "id": "6406d3ff-05b4-4209-ae60-8c3f8175c85b",
   "metadata": {},
   "source": [
    "**We created another model which is the Random Forest regressor to test other results**"
   ]
  },
  {
   "cell_type": "code",
   "execution_count": 8,
   "id": "bf61b6be-d039-411b-bad3-a90a2fed53c8",
   "metadata": {},
   "outputs": [
    {
     "name": "stdout",
     "output_type": "stream",
     "text": [
      "Error Cuadrático Medio (MSE) - Random Forest: 0.5565164337804825\n",
      "Coeficiente de determinación (R^2) - Random Forest: 0.21629584660344658\n"
     ]
    }
   ],
   "source": [
    "\n",
    "\n",
    "# Crear el modelo Random Forest\n",
    "rf_reg = RandomForestRegressor(random_state=42)\n",
    "\n",
    "# Entrenar el modelo\n",
    "rf_reg.fit(X_train, y_train)\n",
    "\n",
    "# Hacer predicciones\n",
    "y_pred_rf = rf_reg.predict(X_test)\n",
    "\n",
    "# Evaluar el modelo\n",
    "mse_rf = mean_squared_error(y_test, y_pred_rf)\n",
    "r2_rf = r2_score(y_test, y_pred_rf)\n",
    "\n",
    "print(f\"Error Cuadrático Medio (MSE) - Random Forest: {mse_rf}\")\n",
    "print(f\"Coeficiente de determinación (R^2) - Random Forest: {r2_rf}\")\n"
   ]
  },
  {
   "cell_type": "markdown",
   "id": "2caa103b-2802-434d-9a5d-81564c9e4e8e",
   "metadata": {},
   "source": [
    "**Polynomial regression model**"
   ]
  },
  {
   "cell_type": "code",
   "execution_count": 9,
   "id": "2e03438b-69e0-47c8-94a3-65c7b1f71452",
   "metadata": {},
   "outputs": [
    {
     "name": "stdout",
     "output_type": "stream",
     "text": [
      "Error Cuadrático Medio (MSE) - Regresión Polinómica: 0.6679477799046833\n",
      "Coeficiente de determinación (R^2) - Regresión Polinómica: 0.05937467864643342\n"
     ]
    }
   ],
   "source": [
    "\n",
    "\n",
    "# Suponiendo que ya tienes los datos en un DataFrame llamado 'dataset'\n",
    "\n",
    "# Seleccionar características relevantes\n",
    "X = df[['Gender', 'Days_Indoors', 'Mood_Swings', 'Mental_Health_History', 'Coping_Struggles']]\n",
    "y = df['Work_Interest']  # Nuestra variable objetivo\n",
    "\n",
    "# Codificar variables categóricas si es necesario\n",
    "X_encoded = pd.get_dummies(X, drop_first=True)\n",
    "\n",
    "# Dividir el conjunto de datos en entrenamiento y prueba\n",
    "X_train, X_test, y_train, y_test = train_test_split(X_encoded, y, test_size=0.3, random_state=42)\n",
    "\n",
    "# Crear características polinómicas (usaremos un grado 2 inicialmente)\n",
    "poly = PolynomialFeatures(degree=2)\n",
    "X_train_poly = poly.fit_transform(X_train)\n",
    "X_test_poly = poly.transform(X_test)\n",
    "\n",
    "# Crear el modelo de regresión lineal sobre características polinómicas\n",
    "reg_poly = LinearRegression()\n",
    "\n",
    "# Entrenar el modelo\n",
    "reg_poly.fit(X_train_poly, y_train)\n",
    "\n",
    "# Hacer predicciones\n",
    "y_pred_poly = reg_poly.predict(X_test_poly)\n",
    "\n",
    "# Evaluar el modelo\n",
    "mse_poly = mean_squared_error(y_test, y_pred_poly)\n",
    "r2_poly = r2_score(y_test, y_pred_poly)\n",
    "\n",
    "print(f\"Error Cuadrático Medio (MSE) - Regresión Polinómica: {mse_poly}\")\n",
    "print(f\"Coeficiente de determinación (R^2) - Regresión Polinómica: {r2_poly}\")\n",
    "\n"
   ]
  },
  {
   "cell_type": "markdown",
   "id": "9baf8e0e-1150-4d4d-893f-5bccee493025",
   "metadata": {},
   "source": [
    "**integrating tpot**"
   ]
  },
  {
   "cell_type": "code",
   "execution_count": 10,
   "id": "7ed508d1-c6f6-4d54-9636-304c13caad63",
   "metadata": {},
   "outputs": [
    {
     "data": {
      "application/vnd.jupyter.widget-view+json": {
       "model_id": "",
       "version_major": 2,
       "version_minor": 0
      },
      "text/plain": [
       "Optimization Progress:   0%|          | 0/300 [00:00<?, ?pipeline/s]"
      ]
     },
     "metadata": {},
     "output_type": "display_data"
    },
    {
     "name": "stdout",
     "output_type": "stream",
     "text": [
      "\n",
      "Generation 1 - Current best internal CV score: -0.5548760983410165\n",
      "\n",
      "Generation 2 - Current best internal CV score: -0.5548760983410165\n",
      "\n",
      "Generation 3 - Current best internal CV score: -0.5548760983410165\n",
      "\n",
      "Generation 4 - Current best internal CV score: -0.5548760983410165\n",
      "\n",
      "Generation 5 - Current best internal CV score: -0.5548760983410165\n",
      "\n",
      "Best pipeline: DecisionTreeRegressor(DecisionTreeRegressor(input_matrix, max_depth=10, min_samples_leaf=15, min_samples_split=12), max_depth=7, min_samples_leaf=3, min_samples_split=4)\n"
     ]
    },
    {
     "data": {
      "text/html": [
       "<pre style=\"white-space:pre;overflow-x:auto;line-height:normal;font-family:Menlo,'DejaVu Sans Mono',consolas,'Courier New',monospace\"><span style=\"color: #7fbfbf; text-decoration-color: #7fbfbf\">[10/17/24 10:51:40] </span><span style=\"color: #808000; text-decoration-color: #808000\">WARNING </span> C:\\Users\\matia\\OneDrive\\Escritorio\\machine\\.venv\\lib\\site-packages\\skl <a href=\"file://C:\\Users\\matia\\AppData\\Local\\Programs\\Python\\Python310\\lib\\warnings.py\" target=\"_blank\"><span style=\"color: #7f7f7f; text-decoration-color: #7f7f7f\">warnings.py</span></a><span style=\"color: #7f7f7f; text-decoration-color: #7f7f7f\">:</span><a href=\"file://C:\\Users\\matia\\AppData\\Local\\Programs\\Python\\Python310\\lib\\warnings.py#109\" target=\"_blank\"><span style=\"color: #7f7f7f; text-decoration-color: #7f7f7f\">109</span></a>\n",
       "<span style=\"color: #7fbfbf; text-decoration-color: #7fbfbf\">                    </span>         earn\\base.py:<span style=\"color: #008080; text-decoration-color: #008080; font-weight: bold\">493</span>: UserWarning: X does not have valid feature names,    <span style=\"color: #7f7f7f; text-decoration-color: #7f7f7f\">               </span>\n",
       "<span style=\"color: #7fbfbf; text-decoration-color: #7fbfbf\">                    </span>         but DecisionTreeRegressor was fitted with feature names                <span style=\"color: #7f7f7f; text-decoration-color: #7f7f7f\">               </span>\n",
       "<span style=\"color: #7fbfbf; text-decoration-color: #7fbfbf\">                    </span>           <span style=\"color: #800080; text-decoration-color: #800080; font-weight: bold\">warnings.warn</span><span style=\"font-weight: bold\">(</span>                                                       <span style=\"color: #7f7f7f; text-decoration-color: #7f7f7f\">               </span>\n",
       "<span style=\"color: #7fbfbf; text-decoration-color: #7fbfbf\">                    </span>                                                                                <span style=\"color: #7f7f7f; text-decoration-color: #7f7f7f\">               </span>\n",
       "</pre>\n"
      ],
      "text/plain": [
       "\u001b[2;36m[10/17/24 10:51:40]\u001b[0m\u001b[2;36m \u001b[0m\u001b[33mWARNING \u001b[0m C:\\Users\\matia\\OneDrive\\Escritorio\\machine\\.venv\\lib\\site-packages\\skl \u001b]8;id=90025;file://C:\\Users\\matia\\AppData\\Local\\Programs\\Python\\Python310\\lib\\warnings.py\u001b\\\u001b[2mwarnings.py\u001b[0m\u001b]8;;\u001b\\\u001b[2m:\u001b[0m\u001b]8;id=121707;file://C:\\Users\\matia\\AppData\\Local\\Programs\\Python\\Python310\\lib\\warnings.py#109\u001b\\\u001b[2m109\u001b[0m\u001b]8;;\u001b\\\n",
       "\u001b[2;36m                    \u001b[0m         earn\\base.py:\u001b[1;36m493\u001b[0m: UserWarning: X does not have valid feature names,    \u001b[2m               \u001b[0m\n",
       "\u001b[2;36m                    \u001b[0m         but DecisionTreeRegressor was fitted with feature names                \u001b[2m               \u001b[0m\n",
       "\u001b[2;36m                    \u001b[0m           \u001b[1;35mwarnings.warn\u001b[0m\u001b[1m(\u001b[0m                                                       \u001b[2m               \u001b[0m\n",
       "\u001b[2;36m                    \u001b[0m                                                                                \u001b[2m               \u001b[0m\n"
      ]
     },
     "metadata": {},
     "output_type": "display_data"
    },
    {
     "name": "stdout",
     "output_type": "stream",
     "text": [
      "Score del mejor pipeline generado por TPOT: -0.5565311042285671\n"
     ]
    }
   ],
   "source": [
    "\n",
    "# Inicializar TPOT\n",
    "tpot = TPOTRegressor(generations=5, population_size=50, verbosity=2, random_state=42)\n",
    "\n",
    "# Entrenar TPOT\n",
    "tpot.fit(X_train, y_train)\n",
    "\n",
    "# Evaluar el rendimiento en el conjunto de prueba\n",
    "score = tpot.score(X_test, y_test)\n",
    "print(f\"Score del mejor pipeline generado por TPOT: {score}\")\n",
    "\n",
    "# Exportar el pipeline óptimo\n",
    "tpot.export('best_pipeline.py')\n"
   ]
  },
  {
   "cell_type": "code",
   "execution_count": 20,
   "id": "b7eba1fa-91cc-4e3a-9ad0-70b6c0b847b6",
   "metadata": {},
   "outputs": [
    {
     "data": {
      "text/html": [
       "<pre style=\"white-space:pre;overflow-x:auto;line-height:normal;font-family:Menlo,'DejaVu Sans Mono',consolas,'Courier New',monospace\"><span style=\"color: #7fbfbf; text-decoration-color: #7fbfbf\">[10/17/24 21:46:27] </span><span style=\"color: #808000; text-decoration-color: #808000\">WARNING </span> C:\\Users\\matia\\OneDrive\\Escritorio\\machine\\.venv\\lib\\site-packages\\skl <a href=\"file://C:\\Users\\matia\\AppData\\Local\\Programs\\Python\\Python310\\lib\\warnings.py\" target=\"_blank\"><span style=\"color: #7f7f7f; text-decoration-color: #7f7f7f\">warnings.py</span></a><span style=\"color: #7f7f7f; text-decoration-color: #7f7f7f\">:</span><a href=\"file://C:\\Users\\matia\\AppData\\Local\\Programs\\Python\\Python310\\lib\\warnings.py#109\" target=\"_blank\"><span style=\"color: #7f7f7f; text-decoration-color: #7f7f7f\">109</span></a>\n",
       "<span style=\"color: #7fbfbf; text-decoration-color: #7fbfbf\">                    </span>         earn\\base.py:<span style=\"color: #008080; text-decoration-color: #008080; font-weight: bold\">493</span>: UserWarning: X does not have valid feature names,    <span style=\"color: #7f7f7f; text-decoration-color: #7f7f7f\">               </span>\n",
       "<span style=\"color: #7fbfbf; text-decoration-color: #7fbfbf\">                    </span>         but DecisionTreeRegressor was fitted with feature names                <span style=\"color: #7f7f7f; text-decoration-color: #7f7f7f\">               </span>\n",
       "<span style=\"color: #7fbfbf; text-decoration-color: #7fbfbf\">                    </span>           <span style=\"color: #800080; text-decoration-color: #800080; font-weight: bold\">warnings.warn</span><span style=\"font-weight: bold\">(</span>                                                       <span style=\"color: #7f7f7f; text-decoration-color: #7f7f7f\">               </span>\n",
       "<span style=\"color: #7fbfbf; text-decoration-color: #7fbfbf\">                    </span>                                                                                <span style=\"color: #7f7f7f; text-decoration-color: #7f7f7f\">               </span>\n",
       "</pre>\n"
      ],
      "text/plain": [
       "\u001b[2;36m[10/17/24 21:46:27]\u001b[0m\u001b[2;36m \u001b[0m\u001b[33mWARNING \u001b[0m C:\\Users\\matia\\OneDrive\\Escritorio\\machine\\.venv\\lib\\site-packages\\skl \u001b]8;id=694796;file://C:\\Users\\matia\\AppData\\Local\\Programs\\Python\\Python310\\lib\\warnings.py\u001b\\\u001b[2mwarnings.py\u001b[0m\u001b]8;;\u001b\\\u001b[2m:\u001b[0m\u001b]8;id=918794;file://C:\\Users\\matia\\AppData\\Local\\Programs\\Python\\Python310\\lib\\warnings.py#109\u001b\\\u001b[2m109\u001b[0m\u001b]8;;\u001b\\\n",
       "\u001b[2;36m                    \u001b[0m         earn\\base.py:\u001b[1;36m493\u001b[0m: UserWarning: X does not have valid feature names,    \u001b[2m               \u001b[0m\n",
       "\u001b[2;36m                    \u001b[0m         but DecisionTreeRegressor was fitted with feature names                \u001b[2m               \u001b[0m\n",
       "\u001b[2;36m                    \u001b[0m           \u001b[1;35mwarnings.warn\u001b[0m\u001b[1m(\u001b[0m                                                       \u001b[2m               \u001b[0m\n",
       "\u001b[2;36m                    \u001b[0m                                                                                \u001b[2m               \u001b[0m\n"
      ]
     },
     "metadata": {},
     "output_type": "display_data"
    },
    {
     "data": {
      "text/html": [
       "<pre style=\"white-space:pre;overflow-x:auto;line-height:normal;font-family:Menlo,'DejaVu Sans Mono',consolas,'Courier New',monospace\"><span style=\"color: #7fbfbf; text-decoration-color: #7fbfbf\">[10/17/24 21:46:28] </span><span style=\"color: #808000; text-decoration-color: #808000\">WARNING </span> C:\\Users\\matia\\OneDrive\\Escritorio\\machine\\.venv\\lib\\site-packages\\skl <a href=\"file://C:\\Users\\matia\\AppData\\Local\\Programs\\Python\\Python310\\lib\\warnings.py\" target=\"_blank\"><span style=\"color: #7f7f7f; text-decoration-color: #7f7f7f\">warnings.py</span></a><span style=\"color: #7f7f7f; text-decoration-color: #7f7f7f\">:</span><a href=\"file://C:\\Users\\matia\\AppData\\Local\\Programs\\Python\\Python310\\lib\\warnings.py#109\" target=\"_blank\"><span style=\"color: #7f7f7f; text-decoration-color: #7f7f7f\">109</span></a>\n",
       "<span style=\"color: #7fbfbf; text-decoration-color: #7fbfbf\">                    </span>         earn\\base.py:<span style=\"color: #008080; text-decoration-color: #008080; font-weight: bold\">493</span>: UserWarning: X does not have valid feature names,    <span style=\"color: #7f7f7f; text-decoration-color: #7f7f7f\">               </span>\n",
       "<span style=\"color: #7fbfbf; text-decoration-color: #7fbfbf\">                    </span>         but DecisionTreeRegressor was fitted with feature names                <span style=\"color: #7f7f7f; text-decoration-color: #7f7f7f\">               </span>\n",
       "<span style=\"color: #7fbfbf; text-decoration-color: #7fbfbf\">                    </span>           <span style=\"color: #800080; text-decoration-color: #800080; font-weight: bold\">warnings.warn</span><span style=\"font-weight: bold\">(</span>                                                       <span style=\"color: #7f7f7f; text-decoration-color: #7f7f7f\">               </span>\n",
       "<span style=\"color: #7fbfbf; text-decoration-color: #7fbfbf\">                    </span>                                                                                <span style=\"color: #7f7f7f; text-decoration-color: #7f7f7f\">               </span>\n",
       "</pre>\n"
      ],
      "text/plain": [
       "\u001b[2;36m[10/17/24 21:46:28]\u001b[0m\u001b[2;36m \u001b[0m\u001b[33mWARNING \u001b[0m C:\\Users\\matia\\OneDrive\\Escritorio\\machine\\.venv\\lib\\site-packages\\skl \u001b]8;id=983610;file://C:\\Users\\matia\\AppData\\Local\\Programs\\Python\\Python310\\lib\\warnings.py\u001b\\\u001b[2mwarnings.py\u001b[0m\u001b]8;;\u001b\\\u001b[2m:\u001b[0m\u001b]8;id=381329;file://C:\\Users\\matia\\AppData\\Local\\Programs\\Python\\Python310\\lib\\warnings.py#109\u001b\\\u001b[2m109\u001b[0m\u001b]8;;\u001b\\\n",
       "\u001b[2;36m                    \u001b[0m         earn\\base.py:\u001b[1;36m493\u001b[0m: UserWarning: X does not have valid feature names,    \u001b[2m               \u001b[0m\n",
       "\u001b[2;36m                    \u001b[0m         but DecisionTreeRegressor was fitted with feature names                \u001b[2m               \u001b[0m\n",
       "\u001b[2;36m                    \u001b[0m           \u001b[1;35mwarnings.warn\u001b[0m\u001b[1m(\u001b[0m                                                       \u001b[2m               \u001b[0m\n",
       "\u001b[2;36m                    \u001b[0m                                                                                \u001b[2m               \u001b[0m\n"
      ]
     },
     "metadata": {},
     "output_type": "display_data"
    },
    {
     "name": "stdout",
     "output_type": "stream",
     "text": [
      "Mean Squared Error (MSE): 0.14699268882153013\n",
      "Coeficiente de determinación (R^2): 0.4119754645660767\n"
     ]
    }
   ],
   "source": [
    "import numpy as np\n",
    "import pandas as pd\n",
    "from sklearn.model_selection import train_test_split\n",
    "from sklearn.metrics import mean_squared_error, r2_score\n",
    "from sklearn.pipeline import make_pipeline, make_union\n",
    "from sklearn.tree import DecisionTreeRegressor\n",
    "from tpot.builtins import StackingEstimator\n",
    "from tpot.export_utils import set_param_recursive\n",
    "\n",
    "# Asegúrate de que el archivo de datos esté en el lugar correcto\n",
    "tpot_data = pd.read_csv('C:\\\\Users\\\\matia\\\\OneDrive\\\\Escritorio\\\\machine\\\\Es_salud_mental\\\\notebooks\\\\data_preparada.csv')\n",
    "tpot_data = tpot_data.drop(['Timestamp'], axis=1)\n",
    "tpot_data = pd.get_dummies(tpot_data)\n",
    "\n",
    "# Divide en características y la columna objetivo (target)\n",
    "features = tpot_data.drop('treatment', axis=1)\n",
    "target = tpot_data['treatment']\n",
    "\n",
    "# Divide los datos en entrenamiento y prueba\n",
    "training_features, testing_features, training_target, testing_target = train_test_split(\n",
    "    features, target, random_state=42\n",
    ")\n",
    "\n",
    "# Pipeline optimizado por TPOT\n",
    "exported_pipeline = make_pipeline(\n",
    "    StackingEstimator(estimator=DecisionTreeRegressor(max_depth=10, min_samples_leaf=15, min_samples_split=12)),\n",
    "    DecisionTreeRegressor(max_depth=7, min_samples_leaf=3, min_samples_split=4)\n",
    ")\n",
    "\n",
    "# Fijar el random state\n",
    "set_param_recursive(exported_pipeline.steps, 'random_state', 42)\n",
    "\n",
    "# Entrena el pipeline en los datos de entrenamiento\n",
    "exported_pipeline.fit(training_features, training_target)\n",
    "\n",
    "# Predice en los datos de prueba\n",
    "results = exported_pipeline.predict(testing_features)\n",
    "\n",
    "# Calcula las métricas MSE y R^2\n",
    "mse = mean_squared_error(testing_target, results)\n",
    "r2 = r2_score(testing_target, results)\n",
    "\n",
    "# Imprime los resultados\n",
    "print(f\"Mean Squared Error (MSE): {mse}\")\n",
    "print(f\"Coeficiente de determinación (R^2): {r2}\")\n"
   ]
  },
  {
   "cell_type": "code",
   "execution_count": null,
   "id": "e659b8e9-b54c-4b8e-9431-c3d26aa15b9b",
   "metadata": {},
   "outputs": [],
   "source": []
  }
 ],
 "metadata": {
  "kernelspec": {
   "display_name": "Python 3 (ipykernel)",
   "language": "python",
   "name": "python3"
  },
  "language_info": {
   "codemirror_mode": {
    "name": "ipython",
    "version": 3
   },
   "file_extension": ".py",
   "mimetype": "text/x-python",
   "name": "python",
   "nbconvert_exporter": "python",
   "pygments_lexer": "ipython3",
   "version": "3.10.4"
  }
 },
 "nbformat": 4,
 "nbformat_minor": 5
}
